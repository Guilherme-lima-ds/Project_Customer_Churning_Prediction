{
 "cells": [
  {
   "cell_type": "markdown",
   "id": "818b5ea4",
   "metadata": {},
   "source": [
    "# 0.0.Entendimento do projeto\n",
    "\n",
    "**Objetivo do projeto, como ele sera resolvido e muitas outras informações contidas no arquivo PDS(Plano de Solução).**\n",
    "\n",
    "\n",
    "**OBS:** Como realizei diversas análises e cálculos no notebook anterior e salvei os dados balanceados, decidir apenas deixar esse notebook com o enconder dos dados e assim por diante nos modelos de ML, será mais rápido e mais logico trabalhar assim."
   ]
  },
  {
   "cell_type": "markdown",
   "id": "92acd22b",
   "metadata": {},
   "source": [
    "# 1.0.Impots"
   ]
  },
  {
   "cell_type": "code",
   "execution_count": 1,
   "id": "1eb77291",
   "metadata": {
    "ExecuteTime": {
     "end_time": "2022-09-26T15:30:36.330745Z",
     "start_time": "2022-09-26T15:30:32.823807Z"
    }
   },
   "outputs": [],
   "source": [
    "#Manipulação de dados\n",
    "import pandas as pd\n",
    "import numpy as np\n",
    "import sys , os\n",
    "\n",
    "#Visualização de dados\n",
    "import matplotlib.pyplot as plt\n",
    "import seaborn as sns\n",
    "\n",
    "#SQl\n",
    "import sqlalchemy\n",
    "\n",
    "#Machine Learning Models\n",
    "from sklearn.preprocessing import OneHotEncoder\n",
    "from sklearn.compose import ColumnTransformer\n",
    "from sklearn.model_selection import train_test_split\n",
    "from sklearn.linear_model import LogisticRegression\n",
    "from sklearn.feature_selection import SelectKBest\n",
    "from sklearn.feature_selection import chi2\n",
    "from sklearn.feature_selection import RFE\n",
    "from sklearn.preprocessing import RobustScaler\n",
    "\n",
    "#Rebalanceamento de dados\n",
    "from imblearn import combine as c\n",
    "\n",
    "# Estatística\n",
    "import scipy\n",
    "from scipy.stats import normaltest\n",
    "from scipy.stats import chi2_contingency\n",
    "\n",
    "\n",
    "#filterwarnings\n",
    "import warnings\n",
    "warnings.filterwarnings('ignore')\n",
    "\n",
    "#Show all columns\n",
    "pd.set_option('display.max_columns', None)"
   ]
  },
  {
   "cell_type": "markdown",
   "id": "77ce9b8b",
   "metadata": {},
   "source": [
    "## 1.1.Funções de ajuda"
   ]
  },
  {
   "cell_type": "code",
   "execution_count": 2,
   "id": "c4e243f4",
   "metadata": {
    "ExecuteTime": {
     "end_time": "2022-09-26T15:30:36.378737Z",
     "start_time": "2022-09-26T15:30:36.335742Z"
    }
   },
   "outputs": [],
   "source": [
    "sys.path.append(os.path.abspath(os.path.join('modulos')))\n",
    "\n",
    "#Funções Gerais\n",
    "from functions_help import data_dimensions,analise_descritiva_dos_dados\n",
    "\n",
    "#Validação\n",
    "from cross_validation import cross_validation_kfold_class\n",
    "\n",
    "from visualization import sns_histplot\n",
    "\n",
    "\n",
    "#Avaliar perfomance\n",
    "from models_performance import model_perfomance_class\n",
    "\n",
    "#Feature Selection\n",
    "from feature_selection import selecao_univariada,eliminacao_recursiva_rfe, relevancia_iv"
   ]
  },
  {
   "cell_type": "markdown",
   "id": "d6548fb3",
   "metadata": {},
   "source": [
    "# 2.0.Enconder dos dados"
   ]
  },
  {
   "cell_type": "code",
   "execution_count": 3,
   "id": "b3479b0b",
   "metadata": {
    "ExecuteTime": {
     "end_time": "2022-09-26T15:30:36.505435Z",
     "start_time": "2022-09-26T15:30:36.383732Z"
    }
   },
   "outputs": [
    {
     "data": {
      "text/html": [
       "<div>\n",
       "<style scoped>\n",
       "    .dataframe tbody tr th:only-of-type {\n",
       "        vertical-align: middle;\n",
       "    }\n",
       "\n",
       "    .dataframe tbody tr th {\n",
       "        vertical-align: top;\n",
       "    }\n",
       "\n",
       "    .dataframe thead th {\n",
       "        text-align: right;\n",
       "    }\n",
       "</style>\n",
       "<table border=\"1\" class=\"dataframe\">\n",
       "  <thead>\n",
       "    <tr style=\"text-align: right;\">\n",
       "      <th></th>\n",
       "      <th>credit_score</th>\n",
       "      <th>Tenure</th>\n",
       "      <th>Balance</th>\n",
       "      <th>num_of_products</th>\n",
       "      <th>isActiveMember</th>\n",
       "      <th>estimated_salary</th>\n",
       "      <th>geography</th>\n",
       "      <th>gender</th>\n",
       "      <th>age_cat</th>\n",
       "      <th>exited</th>\n",
       "    </tr>\n",
       "  </thead>\n",
       "  <tbody>\n",
       "    <tr>\n",
       "      <th>0</th>\n",
       "      <td>698.0</td>\n",
       "      <td>9.0</td>\n",
       "      <td>161993.89</td>\n",
       "      <td>1.0</td>\n",
       "      <td>0.0</td>\n",
       "      <td>90212.38</td>\n",
       "      <td>Spain</td>\n",
       "      <td>Female</td>\n",
       "      <td>39-48</td>\n",
       "      <td>0</td>\n",
       "    </tr>\n",
       "    <tr>\n",
       "      <th>1</th>\n",
       "      <td>612.0</td>\n",
       "      <td>1.0</td>\n",
       "      <td>0.00</td>\n",
       "      <td>1.0</td>\n",
       "      <td>1.0</td>\n",
       "      <td>83256.26</td>\n",
       "      <td>Spain</td>\n",
       "      <td>Male</td>\n",
       "      <td>29-38</td>\n",
       "      <td>1</td>\n",
       "    </tr>\n",
       "    <tr>\n",
       "      <th>2</th>\n",
       "      <td>601.0</td>\n",
       "      <td>1.0</td>\n",
       "      <td>64430.06</td>\n",
       "      <td>2.0</td>\n",
       "      <td>1.0</td>\n",
       "      <td>96517.97</td>\n",
       "      <td>France</td>\n",
       "      <td>Male</td>\n",
       "      <td>39-48</td>\n",
       "      <td>0</td>\n",
       "    </tr>\n",
       "    <tr>\n",
       "      <th>3</th>\n",
       "      <td>627.0</td>\n",
       "      <td>6.0</td>\n",
       "      <td>57809.32</td>\n",
       "      <td>1.0</td>\n",
       "      <td>0.0</td>\n",
       "      <td>188258.49</td>\n",
       "      <td>Germany</td>\n",
       "      <td>Female</td>\n",
       "      <td>29-38</td>\n",
       "      <td>0</td>\n",
       "    </tr>\n",
       "    <tr>\n",
       "      <th>4</th>\n",
       "      <td>745.0</td>\n",
       "      <td>10.0</td>\n",
       "      <td>96048.55</td>\n",
       "      <td>1.0</td>\n",
       "      <td>0.0</td>\n",
       "      <td>74510.65</td>\n",
       "      <td>Germany</td>\n",
       "      <td>Male</td>\n",
       "      <td>39-48</td>\n",
       "      <td>0</td>\n",
       "    </tr>\n",
       "  </tbody>\n",
       "</table>\n",
       "</div>"
      ],
      "text/plain": [
       "   credit_score  Tenure    Balance  num_of_products  isActiveMember  \\\n",
       "0         698.0     9.0  161993.89              1.0             0.0   \n",
       "1         612.0     1.0       0.00              1.0             1.0   \n",
       "2         601.0     1.0   64430.06              2.0             1.0   \n",
       "3         627.0     6.0   57809.32              1.0             0.0   \n",
       "4         745.0    10.0   96048.55              1.0             0.0   \n",
       "\n",
       "   estimated_salary geography  gender age_cat  exited  \n",
       "0          90212.38     Spain  Female   39-48       0  \n",
       "1          83256.26     Spain    Male   29-38       1  \n",
       "2          96517.97    France    Male   39-48       0  \n",
       "3         188258.49   Germany  Female   29-38       0  \n",
       "4          74510.65   Germany    Male   39-48       0  "
      ]
     },
     "execution_count": 3,
     "metadata": {},
     "output_type": "execute_result"
    }
   ],
   "source": [
    "df2 = pd.read_feather('datasets/dados_balanceados.feather')\n",
    "df2.head()"
   ]
  },
  {
   "cell_type": "code",
   "execution_count": 4,
   "id": "ed08839d",
   "metadata": {
    "ExecuteTime": {
     "end_time": "2022-09-26T15:30:36.584432Z",
     "start_time": "2022-09-26T15:30:36.508434Z"
    }
   },
   "outputs": [
    {
     "name": "stdout",
     "output_type": "stream",
     "text": [
      "Number of rows: 12614\n",
      "Number of Columns: 10\n"
     ]
    }
   ],
   "source": [
    "data_dimensions(df2)"
   ]
  },
  {
   "cell_type": "code",
   "execution_count": 5,
   "id": "72f7c1ea",
   "metadata": {
    "ExecuteTime": {
     "end_time": "2022-09-26T15:30:36.725811Z",
     "start_time": "2022-09-26T15:30:36.590432Z"
    }
   },
   "outputs": [],
   "source": [
    "#Separando os dados entre numéricos e categoricos, pois será necessario para realizar as transformações\n",
    "\n",
    "attributes_num = df2.select_dtypes(include=['int64','float64']).drop('exited',axis=1)\n",
    "attibutes_cat  = df2.select_dtypes(include=['object'])\n",
    "\n",
    "col_num = attributes_num.columns.tolist()\n",
    "col_cat = attibutes_cat.columns.tolist()"
   ]
  },
  {
   "cell_type": "markdown",
   "id": "753bb0ce",
   "metadata": {},
   "source": [
    "## 2.1.Fazendo Rescaling nos dados\n",
    "\n",
    "**Rescaling escolhido: RobustScaler**\n",
    "\n",
    "**Motivo:** Acredito que ele e o melhor, pois foi feito para lidar com grandes distribuições de dados, pegando os valores de quartil para realizar seus cálculos, assim sendo pouco influenciado para valor outliers nos dados."
   ]
  },
  {
   "cell_type": "code",
   "execution_count": 6,
   "id": "d10b845f",
   "metadata": {
    "ExecuteTime": {
     "end_time": "2022-09-26T15:30:36.835646Z",
     "start_time": "2022-09-26T15:30:36.727809Z"
    }
   },
   "outputs": [],
   "source": [
    "rs = RobustScaler()"
   ]
  },
  {
   "cell_type": "code",
   "execution_count": 7,
   "id": "b46026c0",
   "metadata": {
    "ExecuteTime": {
     "end_time": "2022-09-26T15:30:36.976066Z",
     "start_time": "2022-09-26T15:30:36.839630Z"
    }
   },
   "outputs": [
    {
     "data": {
      "text/html": [
       "<div>\n",
       "<style scoped>\n",
       "    .dataframe tbody tr th:only-of-type {\n",
       "        vertical-align: middle;\n",
       "    }\n",
       "\n",
       "    .dataframe tbody tr th {\n",
       "        vertical-align: top;\n",
       "    }\n",
       "\n",
       "    .dataframe thead th {\n",
       "        text-align: right;\n",
       "    }\n",
       "</style>\n",
       "<table border=\"1\" class=\"dataframe\">\n",
       "  <thead>\n",
       "    <tr style=\"text-align: right;\">\n",
       "      <th></th>\n",
       "      <th>credit_score</th>\n",
       "      <th>Tenure</th>\n",
       "      <th>Balance</th>\n",
       "      <th>num_of_products</th>\n",
       "      <th>isActiveMember</th>\n",
       "      <th>estimated_salary</th>\n",
       "      <th>geography</th>\n",
       "      <th>gender</th>\n",
       "      <th>age_cat</th>\n",
       "      <th>exited</th>\n",
       "    </tr>\n",
       "  </thead>\n",
       "  <tbody>\n",
       "    <tr>\n",
       "      <th>0</th>\n",
       "      <td>0.375643</td>\n",
       "      <td>1.0</td>\n",
       "      <td>0.456421</td>\n",
       "      <td>-0.233956</td>\n",
       "      <td>-0.350731</td>\n",
       "      <td>-0.104782</td>\n",
       "      <td>Spain</td>\n",
       "      <td>Female</td>\n",
       "      <td>39-48</td>\n",
       "      <td>0</td>\n",
       "    </tr>\n",
       "    <tr>\n",
       "      <th>1</th>\n",
       "      <td>-0.310779</td>\n",
       "      <td>-1.0</td>\n",
       "      <td>-0.801700</td>\n",
       "      <td>-0.233956</td>\n",
       "      <td>0.649269</td>\n",
       "      <td>-0.175114</td>\n",
       "      <td>Spain</td>\n",
       "      <td>Male</td>\n",
       "      <td>29-38</td>\n",
       "      <td>1</td>\n",
       "    </tr>\n",
       "    <tr>\n",
       "      <th>2</th>\n",
       "      <td>-0.398577</td>\n",
       "      <td>-1.0</td>\n",
       "      <td>-0.301306</td>\n",
       "      <td>0.766044</td>\n",
       "      <td>0.649269</td>\n",
       "      <td>-0.041026</td>\n",
       "      <td>France</td>\n",
       "      <td>Male</td>\n",
       "      <td>39-48</td>\n",
       "      <td>0</td>\n",
       "    </tr>\n",
       "  </tbody>\n",
       "</table>\n",
       "</div>"
      ],
      "text/plain": [
       "   credit_score  Tenure   Balance  num_of_products  isActiveMember  \\\n",
       "0      0.375643     1.0  0.456421        -0.233956       -0.350731   \n",
       "1     -0.310779    -1.0 -0.801700        -0.233956        0.649269   \n",
       "2     -0.398577    -1.0 -0.301306         0.766044        0.649269   \n",
       "\n",
       "   estimated_salary geography  gender age_cat  exited  \n",
       "0         -0.104782     Spain  Female   39-48       0  \n",
       "1         -0.175114     Spain    Male   29-38       1  \n",
       "2         -0.041026    France    Male   39-48       0  "
      ]
     },
     "execution_count": 7,
     "metadata": {},
     "output_type": "execute_result"
    }
   ],
   "source": [
    "df2[col_num] = rs.fit_transform(df2[col_num].values)\n",
    "df2.head(3)"
   ]
  },
  {
   "cell_type": "code",
   "execution_count": 8,
   "id": "24af3721",
   "metadata": {
    "ExecuteTime": {
     "end_time": "2022-09-26T15:30:39.500068Z",
     "start_time": "2022-09-26T15:30:36.979066Z"
    }
   },
   "outputs": [
    {
     "data": {
      "image/png": "[encoded data removed]",
      "text/plain": [
       "<Figure size 1800x2400 with 7 Axes>"
      ]
     },
     "metadata": {},
     "output_type": "display_data"
    }
   ],
   "source": [
    "#Analisando a distribuição dos dados reescalados\n",
    "sns_histplot(df2,df2.select_dtypes(include=['int64','float64']).columns.tolist())"
   ]
  },
  {
   "cell_type": "markdown",
   "id": "bbf91043",
   "metadata": {},
   "source": [
    "## 2.2.Tratando as features categoricas.\n",
    "\n",
    "**Metodo usado: Relevancia WOE**\n",
    "\n",
    "**Motivo:** Usarei a relevância da predição da feature para substituir o valor dela, farei por que julgo ser o mais apropriado para os nossos dados, embora o One Hot não seja má ideia, acredito que a força preditora da variável pode me surpreender e me dar bons resultados. "
   ]
  },
  {
   "cell_type": "code",
   "execution_count": 9,
   "id": "139446f0",
   "metadata": {
    "ExecuteTime": {
     "end_time": "2022-09-26T15:30:39.832066Z",
     "start_time": "2022-09-26T15:30:39.504070Z"
    }
   },
   "outputs": [
    {
     "data": {
      "text/plain": [
       "<Figure size 700x700 with 0 Axes>"
      ]
     },
     "metadata": {},
     "output_type": "display_data"
    },
    {
     "data": {
      "image/png": "[encoded data removed]",
      "text/plain": [
       "<Figure size 640x480 with 1 Axes>"
      ]
     },
     "metadata": {},
     "output_type": "display_data"
    }
   ],
   "source": [
    "results = relevancia_iv(df2,col_cat,'exited')"
   ]
  },
  {
   "cell_type": "code",
   "execution_count": 10,
   "id": "17ff2d71",
   "metadata": {
    "ExecuteTime": {
     "end_time": "2022-09-26T15:30:39.864070Z",
     "start_time": "2022-09-26T15:30:39.835067Z"
    }
   },
   "outputs": [
    {
     "data": {
      "text/html": [
       "<div>\n",
       "<style scoped>\n",
       "    .dataframe tbody tr th:only-of-type {\n",
       "        vertical-align: middle;\n",
       "    }\n",
       "\n",
       "    .dataframe tbody tr th {\n",
       "        vertical-align: top;\n",
       "    }\n",
       "\n",
       "    .dataframe thead th {\n",
       "        text-align: right;\n",
       "    }\n",
       "</style>\n",
       "<table border=\"1\" class=\"dataframe\">\n",
       "  <thead>\n",
       "    <tr style=\"text-align: right;\">\n",
       "      <th>exited</th>\n",
       "      <th>Feature</th>\n",
       "      <th>woe</th>\n",
       "    </tr>\n",
       "  </thead>\n",
       "  <tbody>\n",
       "    <tr>\n",
       "      <th>0</th>\n",
       "      <td>France</td>\n",
       "      <td>-0.335980</td>\n",
       "    </tr>\n",
       "    <tr>\n",
       "      <th>1</th>\n",
       "      <td>Germany</td>\n",
       "      <td>0.645863</td>\n",
       "    </tr>\n",
       "    <tr>\n",
       "      <th>2</th>\n",
       "      <td>Spain</td>\n",
       "      <td>-0.164471</td>\n",
       "    </tr>\n",
       "    <tr>\n",
       "      <th>3</th>\n",
       "      <td>Female</td>\n",
       "      <td>0.277496</td>\n",
       "    </tr>\n",
       "    <tr>\n",
       "      <th>4</th>\n",
       "      <td>Male</td>\n",
       "      <td>-0.272687</td>\n",
       "    </tr>\n",
       "    <tr>\n",
       "      <th>5</th>\n",
       "      <td>18-28</td>\n",
       "      <td>-1.211095</td>\n",
       "    </tr>\n",
       "    <tr>\n",
       "      <th>6</th>\n",
       "      <td>29-38</td>\n",
       "      <td>-0.807731</td>\n",
       "    </tr>\n",
       "    <tr>\n",
       "      <th>7</th>\n",
       "      <td>39-48</td>\n",
       "      <td>0.393878</td>\n",
       "    </tr>\n",
       "    <tr>\n",
       "      <th>8</th>\n",
       "      <td>49+</td>\n",
       "      <td>1.197472</td>\n",
       "    </tr>\n",
       "  </tbody>\n",
       "</table>\n",
       "</div>"
      ],
      "text/plain": [
       "exited  Feature       woe\n",
       "0        France -0.335980\n",
       "1       Germany  0.645863\n",
       "2         Spain -0.164471\n",
       "3        Female  0.277496\n",
       "4          Male -0.272687\n",
       "5         18-28 -1.211095\n",
       "6         29-38 -0.807731\n",
       "7         39-48  0.393878\n",
       "8           49+  1.197472"
      ]
     },
     "execution_count": 10,
     "metadata": {},
     "output_type": "execute_result"
    }
   ],
   "source": [
    "#Relevancia de cada valor\n",
    "results.reset_index().rename(columns={'index':'Feature'})[['Feature','woe']]"
   ]
  },
  {
   "cell_type": "code",
   "execution_count": 11,
   "id": "d9a86788",
   "metadata": {
    "ExecuteTime": {
     "end_time": "2022-09-26T15:30:40.771680Z",
     "start_time": "2022-09-26T15:30:39.867071Z"
    }
   },
   "outputs": [],
   "source": [
    "df2['geography'] = df2['geography'].apply(lambda x: np.round(-0.30576518233901606,4) if x == 'France' else\n",
    "                                 np.round(0.6722712456759936,4) if x == 'Germany' else np.round(0.-0.28517824850850665,4) )\n",
    "\n",
    "df2['gender'] = df2['gender'].apply(lambda x: np.round(-0.2568164644490587,3) if x == 'Male' else np.round(0.26806228125338905,4))\n",
    "\n",
    "\n",
    "df2['age_cat'] = df2['age_cat'].apply(lambda x: np.round(-1.1869652746964552,4) if x == '18-28' else\n",
    "                                                 np.round(-0.8520671946724286,4) if x == '29-38' else\n",
    "                                                 np.round(0.40147162830539146,4) if x == '39-48' else np.round(1.209180769346363,4))"
   ]
  },
  {
   "cell_type": "markdown",
   "id": "8c6c0acb",
   "metadata": {},
   "source": [
    "# 3.0.Seleção de colunas\n"
   ]
  },
  {
   "cell_type": "code",
   "execution_count": 12,
   "id": "d5fb0b3c",
   "metadata": {
    "ExecuteTime": {
     "end_time": "2022-09-26T15:30:40.787674Z",
     "start_time": "2022-09-26T15:30:40.774676Z"
    }
   },
   "outputs": [],
   "source": [
    "X = df2.drop('exited',axis=1)\n",
    "y = df2['exited']"
   ]
  },
  {
   "cell_type": "code",
   "execution_count": 13,
   "id": "17a34c5e",
   "metadata": {
    "ExecuteTime": {
     "end_time": "2022-09-26T15:30:40.880069Z",
     "start_time": "2022-09-26T15:30:40.790675Z"
    }
   },
   "outputs": [],
   "source": [
    "X_train,X_test,y_train,y_test = train_test_split(X,y,test_size=0.3,random_state=42)"
   ]
  },
  {
   "cell_type": "code",
   "execution_count": 14,
   "id": "850f761a",
   "metadata": {
    "ExecuteTime": {
     "end_time": "2022-09-26T15:30:41.008080Z",
     "start_time": "2022-09-26T15:30:40.887084Z"
    }
   },
   "outputs": [
    {
     "data": {
      "text/html": [
       "<div>\n",
       "<style scoped>\n",
       "    .dataframe tbody tr th:only-of-type {\n",
       "        vertical-align: middle;\n",
       "    }\n",
       "\n",
       "    .dataframe tbody tr th {\n",
       "        vertical-align: top;\n",
       "    }\n",
       "\n",
       "    .dataframe thead th {\n",
       "        text-align: right;\n",
       "    }\n",
       "</style>\n",
       "<table border=\"1\" class=\"dataframe\">\n",
       "  <thead>\n",
       "    <tr style=\"text-align: right;\">\n",
       "      <th></th>\n",
       "      <th>credit_score</th>\n",
       "      <th>Tenure</th>\n",
       "      <th>Balance</th>\n",
       "      <th>num_of_products</th>\n",
       "      <th>isActiveMember</th>\n",
       "      <th>estimated_salary</th>\n",
       "      <th>geography</th>\n",
       "      <th>gender</th>\n",
       "      <th>age_cat</th>\n",
       "    </tr>\n",
       "  </thead>\n",
       "  <tbody>\n",
       "    <tr>\n",
       "      <th>5444</th>\n",
       "      <td>0.160138</td>\n",
       "      <td>-0.500000</td>\n",
       "      <td>-0.049195</td>\n",
       "      <td>-0.233956</td>\n",
       "      <td>-0.350731</td>\n",
       "      <td>0.766687</td>\n",
       "      <td>0.6723</td>\n",
       "      <td>-0.2570</td>\n",
       "      <td>1.2092</td>\n",
       "    </tr>\n",
       "    <tr>\n",
       "      <th>7948</th>\n",
       "      <td>-0.644299</td>\n",
       "      <td>0.828871</td>\n",
       "      <td>0.107811</td>\n",
       "      <td>-0.233956</td>\n",
       "      <td>0.478140</td>\n",
       "      <td>0.080679</td>\n",
       "      <td>0.6723</td>\n",
       "      <td>0.2681</td>\n",
       "      <td>-0.8521</td>\n",
       "    </tr>\n",
       "    <tr>\n",
       "      <th>12271</th>\n",
       "      <td>-0.088222</td>\n",
       "      <td>0.693636</td>\n",
       "      <td>0.143040</td>\n",
       "      <td>1.271498</td>\n",
       "      <td>-0.350731</td>\n",
       "      <td>0.517359</td>\n",
       "      <td>0.6723</td>\n",
       "      <td>-0.2570</td>\n",
       "      <td>0.4015</td>\n",
       "    </tr>\n",
       "    <tr>\n",
       "      <th>8883</th>\n",
       "      <td>0.613748</td>\n",
       "      <td>0.500000</td>\n",
       "      <td>-0.801700</td>\n",
       "      <td>0.752299</td>\n",
       "      <td>-0.336985</td>\n",
       "      <td>-0.427575</td>\n",
       "      <td>-0.2852</td>\n",
       "      <td>0.2681</td>\n",
       "      <td>0.4015</td>\n",
       "    </tr>\n",
       "    <tr>\n",
       "      <th>5522</th>\n",
       "      <td>-0.973256</td>\n",
       "      <td>-0.750000</td>\n",
       "      <td>-0.158897</td>\n",
       "      <td>-0.233956</td>\n",
       "      <td>0.649269</td>\n",
       "      <td>0.225977</td>\n",
       "      <td>-0.2852</td>\n",
       "      <td>0.2681</td>\n",
       "      <td>0.4015</td>\n",
       "    </tr>\n",
       "    <tr>\n",
       "      <th>4093</th>\n",
       "      <td>-0.087293</td>\n",
       "      <td>0.000000</td>\n",
       "      <td>0.729848</td>\n",
       "      <td>0.766044</td>\n",
       "      <td>-0.350731</td>\n",
       "      <td>0.413314</td>\n",
       "      <td>-0.2852</td>\n",
       "      <td>-0.2570</td>\n",
       "      <td>-0.8521</td>\n",
       "    </tr>\n",
       "    <tr>\n",
       "      <th>5720</th>\n",
       "      <td>0.431514</td>\n",
       "      <td>-1.250000</td>\n",
       "      <td>-0.044125</td>\n",
       "      <td>-0.233956</td>\n",
       "      <td>0.649269</td>\n",
       "      <td>-0.411397</td>\n",
       "      <td>-0.3058</td>\n",
       "      <td>-0.2570</td>\n",
       "      <td>-1.1870</td>\n",
       "    </tr>\n",
       "    <tr>\n",
       "      <th>1318</th>\n",
       "      <td>-0.725825</td>\n",
       "      <td>-0.250000</td>\n",
       "      <td>-0.801700</td>\n",
       "      <td>-0.233956</td>\n",
       "      <td>0.649269</td>\n",
       "      <td>-0.005061</td>\n",
       "      <td>-0.3058</td>\n",
       "      <td>-0.2570</td>\n",
       "      <td>1.2092</td>\n",
       "    </tr>\n",
       "    <tr>\n",
       "      <th>2730</th>\n",
       "      <td>-1.412247</td>\n",
       "      <td>1.000000</td>\n",
       "      <td>-0.801700</td>\n",
       "      <td>0.766044</td>\n",
       "      <td>-0.350731</td>\n",
       "      <td>-0.378324</td>\n",
       "      <td>-0.3058</td>\n",
       "      <td>0.2681</td>\n",
       "      <td>-0.8521</td>\n",
       "    </tr>\n",
       "    <tr>\n",
       "      <th>4562</th>\n",
       "      <td>0.271881</td>\n",
       "      <td>-0.250000</td>\n",
       "      <td>-0.141871</td>\n",
       "      <td>0.766044</td>\n",
       "      <td>0.649269</td>\n",
       "      <td>0.948081</td>\n",
       "      <td>0.6723</td>\n",
       "      <td>0.2681</td>\n",
       "      <td>-0.8521</td>\n",
       "    </tr>\n",
       "  </tbody>\n",
       "</table>\n",
       "</div>"
      ],
      "text/plain": [
       "       credit_score    Tenure   Balance  num_of_products  isActiveMember  \\\n",
       "5444       0.160138 -0.500000 -0.049195        -0.233956       -0.350731   \n",
       "7948      -0.644299  0.828871  0.107811        -0.233956        0.478140   \n",
       "12271     -0.088222  0.693636  0.143040         1.271498       -0.350731   \n",
       "8883       0.613748  0.500000 -0.801700         0.752299       -0.336985   \n",
       "5522      -0.973256 -0.750000 -0.158897        -0.233956        0.649269   \n",
       "4093      -0.087293  0.000000  0.729848         0.766044       -0.350731   \n",
       "5720       0.431514 -1.250000 -0.044125        -0.233956        0.649269   \n",
       "1318      -0.725825 -0.250000 -0.801700        -0.233956        0.649269   \n",
       "2730      -1.412247  1.000000 -0.801700         0.766044       -0.350731   \n",
       "4562       0.271881 -0.250000 -0.141871         0.766044        0.649269   \n",
       "\n",
       "       estimated_salary  geography  gender  age_cat  \n",
       "5444           0.766687     0.6723 -0.2570   1.2092  \n",
       "7948           0.080679     0.6723  0.2681  -0.8521  \n",
       "12271          0.517359     0.6723 -0.2570   0.4015  \n",
       "8883          -0.427575    -0.2852  0.2681   0.4015  \n",
       "5522           0.225977    -0.2852  0.2681   0.4015  \n",
       "4093           0.413314    -0.2852 -0.2570  -0.8521  \n",
       "5720          -0.411397    -0.3058 -0.2570  -1.1870  \n",
       "1318          -0.005061    -0.3058 -0.2570   1.2092  \n",
       "2730          -0.378324    -0.3058  0.2681  -0.8521  \n",
       "4562           0.948081     0.6723  0.2681  -0.8521  "
      ]
     },
     "execution_count": 14,
     "metadata": {},
     "output_type": "execute_result"
    }
   ],
   "source": [
    "X_train[:10]"
   ]
  },
  {
   "cell_type": "markdown",
   "id": "7ccd414a",
   "metadata": {},
   "source": [
    "# 4.0.Machine Learning Models"
   ]
  },
  {
   "cell_type": "code",
   "execution_count": 15,
   "id": "74b546f0",
   "metadata": {
    "ExecuteTime": {
     "end_time": "2022-09-26T15:30:41.340098Z",
     "start_time": "2022-09-26T15:30:41.010082Z"
    }
   },
   "outputs": [
    {
     "data": {
      "text/html": [
       "<style>#sk-container-id-1 {color: black;background-color: white;}#sk-container-id-1 pre{padding: 0;}#sk-container-id-1 div.sk-toggleable {background-color: white;}#sk-container-id-1 label.sk-toggleable__label {cursor: pointer;display: block;width: 100%;margin-bottom: 0;padding: 0.3em;box-sizing: border-box;text-align: center;}#sk-container-id-1 label.sk-toggleable__label-arrow:before {content: \"▸\";float: left;margin-right: 0.25em;color: #696969;}#sk-container-id-1 label.sk-toggleable__label-arrow:hover:before {color: black;}#sk-container-id-1 div.sk-estimator:hover label.sk-toggleable__label-arrow:before {color: black;}#sk-container-id-1 div.sk-toggleable__content {max-height: 0;max-width: 0;overflow: hidden;text-align: left;background-color: #f0f8ff;}#sk-container-id-1 div.sk-toggleable__content pre {margin: 0.2em;color: black;border-radius: 0.25em;background-color: #f0f8ff;}#sk-container-id-1 input.sk-toggleable__control:checked~div.sk-toggleable__content {max-height: 200px;max-width: 100%;overflow: auto;}#sk-container-id-1 input.sk-toggleable__control:checked~label.sk-toggleable__label-arrow:before {content: \"▾\";}#sk-container-id-1 div.sk-estimator input.sk-toggleable__control:checked~label.sk-toggleable__label {background-color: #d4ebff;}#sk-container-id-1 div.sk-label input.sk-toggleable__control:checked~label.sk-toggleable__label {background-color: #d4ebff;}#sk-container-id-1 input.sk-hidden--visually {border: 0;clip: rect(1px 1px 1px 1px);clip: rect(1px, 1px, 1px, 1px);height: 1px;margin: -1px;overflow: hidden;padding: 0;position: absolute;width: 1px;}#sk-container-id-1 div.sk-estimator {font-family: monospace;background-color: #f0f8ff;border: 1px dotted black;border-radius: 0.25em;box-sizing: border-box;margin-bottom: 0.5em;}#sk-container-id-1 div.sk-estimator:hover {background-color: #d4ebff;}#sk-container-id-1 div.sk-parallel-item::after {content: \"\";width: 100%;border-bottom: 1px solid gray;flex-grow: 1;}#sk-container-id-1 div.sk-label:hover label.sk-toggleable__label {background-color: #d4ebff;}#sk-container-id-1 div.sk-serial::before {content: \"\";position: absolute;border-left: 1px solid gray;box-sizing: border-box;top: 0;bottom: 0;left: 50%;z-index: 0;}#sk-container-id-1 div.sk-serial {display: flex;flex-direction: column;align-items: center;background-color: white;padding-right: 0.2em;padding-left: 0.2em;position: relative;}#sk-container-id-1 div.sk-item {position: relative;z-index: 1;}#sk-container-id-1 div.sk-parallel {display: flex;align-items: stretch;justify-content: center;background-color: white;position: relative;}#sk-container-id-1 div.sk-item::before, #sk-container-id-1 div.sk-parallel-item::before {content: \"\";position: absolute;border-left: 1px solid gray;box-sizing: border-box;top: 0;bottom: 0;left: 50%;z-index: -1;}#sk-container-id-1 div.sk-parallel-item {display: flex;flex-direction: column;z-index: 1;position: relative;background-color: white;}#sk-container-id-1 div.sk-parallel-item:first-child::after {align-self: flex-end;width: 50%;}#sk-container-id-1 div.sk-parallel-item:last-child::after {align-self: flex-start;width: 50%;}#sk-container-id-1 div.sk-parallel-item:only-child::after {width: 0;}#sk-container-id-1 div.sk-dashed-wrapped {border: 1px dashed gray;margin: 0 0.4em 0.5em 0.4em;box-sizing: border-box;padding-bottom: 0.4em;background-color: white;}#sk-container-id-1 div.sk-label label {font-family: monospace;font-weight: bold;display: inline-block;line-height: 1.2em;}#sk-container-id-1 div.sk-label-container {text-align: center;}#sk-container-id-1 div.sk-container {/* jupyter's `normalize.less` sets `[hidden] { display: none; }` but bootstrap.min.css set `[hidden] { display: none !important; }` so we also need the `!important` here to be able to override the default hidden behavior on the sphinx rendered scikit-learn.org. See: https://github.com/scikit-learn/scikit-learn/issues/21755 */display: inline-block !important;position: relative;}#sk-container-id-1 div.sk-text-repr-fallback {display: none;}</style><div id=\"sk-container-id-1\" class=\"sk-top-container\"><div class=\"sk-text-repr-fallback\"><pre>LogisticRegression(C=0.01)</pre><b>In a Jupyter environment, please rerun this cell to show the HTML representation or trust the notebook. <br />On GitHub, the HTML representation is unable to render, please try loading this page with nbviewer.org.</b></div><div class=\"sk-container\" hidden><div class=\"sk-item\"><div class=\"sk-estimator sk-toggleable\"><input class=\"sk-toggleable__control sk-hidden--visually\" id=\"sk-estimator-id-1\" type=\"checkbox\" checked><label for=\"sk-estimator-id-1\" class=\"sk-toggleable__label sk-toggleable__label-arrow\">LogisticRegression</label><div class=\"sk-toggleable__content\"><pre>LogisticRegression(C=0.01)</pre></div></div></div></div></div>"
      ],
      "text/plain": [
       "LogisticRegression(C=0.01)"
      ]
     },
     "execution_count": 15,
     "metadata": {},
     "output_type": "execute_result"
    }
   ],
   "source": [
    "lc = LogisticRegression(C=0.01)\n",
    "lc.fit(X_train,y_train)"
   ]
  },
  {
   "cell_type": "markdown",
   "id": "9722175a",
   "metadata": {},
   "source": [
    "# 5.0.Models Perfomance"
   ]
  },
  {
   "cell_type": "markdown",
   "id": "322fc0c9",
   "metadata": {},
   "source": [
    "## 5.1.Simple Performance"
   ]
  },
  {
   "cell_type": "code",
   "execution_count": 16,
   "id": "158e9bcb",
   "metadata": {
    "ExecuteTime": {
     "end_time": "2022-09-26T15:30:41.371100Z",
     "start_time": "2022-09-26T15:30:41.344098Z"
    }
   },
   "outputs": [
    {
     "name": "stdout",
     "output_type": "stream",
     "text": [
      "Previsões erradas sobre o Total\n",
      "1064 / 3785\n",
      "\n",
      "\n",
      "Accuracy: 71.89%\n",
      "Balacend Acurracy: 70.68%\n",
      "Kappa Score: 41.80%\n",
      "AUC: 0.7068\n",
      "\n",
      "               precision    recall  f1-score   support\n",
      "\n",
      "           0       0.74      0.78      0.76      2185\n",
      "           1       0.68      0.63      0.65      1600\n",
      "\n",
      "    accuracy                           0.72      3785\n",
      "   macro avg       0.71      0.71      0.71      3785\n",
      "weighted avg       0.72      0.72      0.72      3785\n",
      "\n"
     ]
    }
   ],
   "source": [
    "results_lc = lc.predict(X_test)\n",
    "model_perfomance_class(y_test,results_lc)"
   ]
  },
  {
   "cell_type": "markdown",
   "id": "ba86f969",
   "metadata": {},
   "source": [
    "## 5.2.Cross Validation Performance\n"
   ]
  },
  {
   "cell_type": "code",
   "execution_count": 17,
   "id": "e66efeed",
   "metadata": {
    "ExecuteTime": {
     "end_time": "2022-09-26T15:30:41.704528Z",
     "start_time": "2022-09-26T15:30:41.376102Z"
    },
    "scrolled": true
   },
   "outputs": [
    {
     "name": "stdout",
     "output_type": "stream",
     "text": [
      "Folds: 1/10\n",
      "Folds: 2/10\n",
      "Folds: 3/10\n",
      "Folds: 4/10\n",
      "Folds: 5/10\n",
      "Folds: 6/10\n",
      "Folds: 7/10\n",
      "Folds: 8/10\n",
      "Folds: 9/10\n",
      "Folds: 10/10\n"
     ]
    },
    {
     "data": {
      "text/html": [
       "<div>\n",
       "<style scoped>\n",
       "    .dataframe tbody tr th:only-of-type {\n",
       "        vertical-align: middle;\n",
       "    }\n",
       "\n",
       "    .dataframe tbody tr th {\n",
       "        vertical-align: top;\n",
       "    }\n",
       "\n",
       "    .dataframe thead th {\n",
       "        text-align: right;\n",
       "    }\n",
       "</style>\n",
       "<table border=\"1\" class=\"dataframe\">\n",
       "  <thead>\n",
       "    <tr style=\"text-align: right;\">\n",
       "      <th></th>\n",
       "      <th>Model Name</th>\n",
       "      <th>acurracy_score</th>\n",
       "      <th>Balacend_Acurracy</th>\n",
       "      <th>Kappa_Score</th>\n",
       "      <th>AUC</th>\n",
       "    </tr>\n",
       "  </thead>\n",
       "  <tbody>\n",
       "    <tr>\n",
       "      <th>0</th>\n",
       "      <td>LogisticRegression</td>\n",
       "      <td>72.00%+/- 2.00%</td>\n",
       "      <td>71.00%+/- 2.00%</td>\n",
       "      <td>42.00%+/- 0.00%</td>\n",
       "      <td>71.00%+/- 2.00%</td>\n",
       "    </tr>\n",
       "  </tbody>\n",
       "</table>\n",
       "</div>"
      ],
      "text/plain": [
       "           Model Name   acurracy_score Balacend_Acurracy      Kappa_Score  \\\n",
       "0  LogisticRegression  72.00%+/- 2.00%   71.00%+/- 2.00%  42.00%+/- 0.00%   \n",
       "\n",
       "               AUC  \n",
       "0  71.00%+/- 2.00%  "
      ]
     },
     "execution_count": 17,
     "metadata": {},
     "output_type": "execute_result"
    }
   ],
   "source": [
    "lc_cv = LogisticRegression(C=0.01)\n",
    "cross_validation_kfold_class('LogisticRegression',lc_cv,10,X_train,y_train,verbose=True)"
   ]
  },
  {
   "cell_type": "markdown",
   "id": "2f89a2be",
   "metadata": {},
   "source": [
    "**O que foi feito nessa etapa?**\n",
    "- Enconder dos dados:\n",
    "    - Essa é uma etapa importante para os modelos de Machine Learnings, pois eles não aceitam valores categóricos e a maioria não performa bem com valores em escalas diferentes, por isso e bom modificar o valor categórico e reescalar os dados, e foi isso que fiz nesse passo do projeto.\n",
    "    \n",
    "**O que será feito na próxima etapa?**\n",
    "- Seleção de colunas:\n",
    "    - Usarei alguma/algumas das minhas funções de seleção de coluna, pois embora não tenhamos dados muito dimensionados, acredito que tem certas feature que são mais relevantes que outras e isso e bom para a empresa saber.\n",
    "\n",
    "**Próxima etapa:**\n",
    "Seleção de colunas"
   ]
  }
 ],
 "metadata": {
  "kernelspec": {
   "display_name": "Python 3 (ipykernel)",
   "language": "python",
   "name": "python3"
  },
  "language_info": {
   "codemirror_mode": {
    "name": "ipython",
    "version": 3
   },
   "file_extension": ".py",
   "mimetype": "text/x-python",
   "name": "python",
   "nbconvert_exporter": "python",
   "pygments_lexer": "ipython3",
   "version": "3.10.4"
  },
  "toc": {
   "base_numbering": "0",
   "nav_menu": {},
   "number_sections": true,
   "sideBar": true,
   "skip_h1_title": false,
   "title_cell": "Table of Contents",
   "title_sidebar": "Contents",
   "toc_cell": false,
   "toc_position": {},
   "toc_section_display": true,
   "toc_window_display": false
  },
  "varInspector": {
   "cols": {
    "lenName": 16,
    "lenType": 16,
    "lenVar": 40
   },
   "kernels_config": {
    "python": {
     "delete_cmd_postfix": "",
     "delete_cmd_prefix": "del ",
     "library": "var_list.py",
     "varRefreshCmd": "print(var_dic_list())"
    },
    "r": {
     "delete_cmd_postfix": ") ",
     "delete_cmd_prefix": "rm(",
     "library": "var_list.r",
     "varRefreshCmd": "cat(var_dic_list()) "
    }
   },
   "types_to_exclude": [
    "module",
    "function",
    "builtin_function_or_method",
    "instance",
    "_Feature"
   ],
   "window_display": false
  }
 },
 "nbformat": 4,
 "nbformat_minor": 5
}
