{
 "cells": [
  {
   "cell_type": "markdown",
   "id": "818b5ea4",
   "metadata": {},
   "source": [
    "# 0.0.Entendimento do projeto\n",
    "\n",
    "**Objetivo do projeto, como ele sera resolvido e muitas outras informações contidas no arquivo PDS(Plano de Solução).**\n",
    "\n",
    "\n",
    "**OBS:** Como realizei diversas análises e cálculos no notebook anterior e salvei os dados balanceados, decidir apenas deixar esse notebook com o enconder dos dados e assim por diante nos modelos de ML, será mais rápido e mais logico trabalhar assim."
   ]
  },
  {
   "cell_type": "markdown",
   "id": "92acd22b",
   "metadata": {},
   "source": [
    "# 1.0.Impots"
   ]
  },
  {
   "cell_type": "code",
   "execution_count": 1,
   "id": "1eb77291",
   "metadata": {
    "ExecuteTime": {
     "end_time": "2022-09-26T15:42:13.484823Z",
     "start_time": "2022-09-26T15:41:29.089069Z"
    }
   },
   "outputs": [],
   "source": [
    "#Manipulação de dados\n",
    "import pandas as pd\n",
    "import numpy as np\n",
    "import sys , os\n",
    "import joblib\n",
    "\n",
    "#Visualização de dados\n",
    "import matplotlib.pyplot as plt\n",
    "import seaborn as sns\n",
    "\n",
    "#SQl\n",
    "import sqlalchemy\n",
    "\n",
    "#Machine Learning Models\n",
    "from sklearn.model_selection import train_test_split\n",
    "from sklearn.linear_model import LogisticRegression\n",
    "from sklearn.ensemble import RandomForestClassifier\n",
    "from lightgbm import LGBMClassifier\n",
    "from xgboost import XGBClassifier\n",
    "\n",
    "#Redes Neurais\n",
    "import tensorflow as tf\n",
    "from keras.layers import Dense, Dropout, activation\n",
    "from keras.optimizers import Adam\n",
    "from keras import Sequential\n",
    "\n",
    "#Transformação dos dados\n",
    "from sklearn.preprocessing import OneHotEncoder\n",
    "from sklearn.compose import ColumnTransformer\n",
    "from sklearn.preprocessing import RobustScaler\n",
    "\n",
    "#Rebalanceamento de dados\n",
    "from imblearn import combine as c\n",
    "\n",
    "#Seleção das melhores colunas\n",
    "from sklearn.feature_selection import SelectKBest\n",
    "from sklearn.feature_selection import chi2\n",
    "from sklearn.feature_selection import RFE\n",
    "\n",
    "# Estatística\n",
    "import scipy\n",
    "from scipy.stats import normaltest\n",
    "from scipy.stats import chi2_contingency\n",
    "\n",
    "\n",
    "#filterwarnings\n",
    "import warnings\n",
    "warnings.filterwarnings('ignore')\n",
    "\n",
    "#Show all columns\n",
    "pd.set_option('display.max_columns', None)"
   ]
  },
  {
   "cell_type": "markdown",
   "id": "77ce9b8b",
   "metadata": {},
   "source": [
    "## 1.1.Funções de ajuda"
   ]
  },
  {
   "cell_type": "code",
   "execution_count": 2,
   "id": "c4e243f4",
   "metadata": {
    "ExecuteTime": {
     "end_time": "2022-09-26T15:42:14.035629Z",
     "start_time": "2022-09-26T15:42:13.489819Z"
    }
   },
   "outputs": [],
   "source": [
    "sys.path.append(os.path.abspath(os.path.join('modulos')))\n",
    "\n",
    "#Funções Gerais\n",
    "from functions_help import data_dimensions,analise_descritiva_dos_dados\n",
    "\n",
    "#Validação\n",
    "from cross_validation import cross_validation_kfold_class\n",
    "\n",
    "from visualization import sns_histplot\n",
    "\n",
    "\n",
    "#Avaliar perfomance\n",
    "from models_performance import model_perfomance_class\n",
    "\n",
    "#Feature Selection\n",
    "from feature_selection import selecao_univariada,eliminacao_recursiva_rfe, relevancia_iv, boruta_selection"
   ]
  },
  {
   "cell_type": "markdown",
   "id": "d6548fb3",
   "metadata": {},
   "source": [
    "# 2.0.Enconder dos dados"
   ]
  },
  {
   "cell_type": "code",
   "execution_count": 3,
   "id": "b3479b0b",
   "metadata": {
    "ExecuteTime": {
     "end_time": "2022-09-26T15:42:14.380059Z",
     "start_time": "2022-09-26T15:42:14.038627Z"
    }
   },
   "outputs": [
    {
     "data": {
      "text/html": [
       "<div>\n",
       "<style scoped>\n",
       "    .dataframe tbody tr th:only-of-type {\n",
       "        vertical-align: middle;\n",
       "    }\n",
       "\n",
       "    .dataframe tbody tr th {\n",
       "        vertical-align: top;\n",
       "    }\n",
       "\n",
       "    .dataframe thead th {\n",
       "        text-align: right;\n",
       "    }\n",
       "</style>\n",
       "<table border=\"1\" class=\"dataframe\">\n",
       "  <thead>\n",
       "    <tr style=\"text-align: right;\">\n",
       "      <th></th>\n",
       "      <th>credit_score</th>\n",
       "      <th>Tenure</th>\n",
       "      <th>Balance</th>\n",
       "      <th>num_of_products</th>\n",
       "      <th>isActiveMember</th>\n",
       "      <th>estimated_salary</th>\n",
       "      <th>geography</th>\n",
       "      <th>gender</th>\n",
       "      <th>age_cat</th>\n",
       "      <th>exited</th>\n",
       "    </tr>\n",
       "  </thead>\n",
       "  <tbody>\n",
       "    <tr>\n",
       "      <th>0</th>\n",
       "      <td>698.0</td>\n",
       "      <td>9.0</td>\n",
       "      <td>161993.89</td>\n",
       "      <td>1.0</td>\n",
       "      <td>0.0</td>\n",
       "      <td>90212.38</td>\n",
       "      <td>Spain</td>\n",
       "      <td>Female</td>\n",
       "      <td>39-48</td>\n",
       "      <td>0</td>\n",
       "    </tr>\n",
       "    <tr>\n",
       "      <th>1</th>\n",
       "      <td>612.0</td>\n",
       "      <td>1.0</td>\n",
       "      <td>0.00</td>\n",
       "      <td>1.0</td>\n",
       "      <td>1.0</td>\n",
       "      <td>83256.26</td>\n",
       "      <td>Spain</td>\n",
       "      <td>Male</td>\n",
       "      <td>29-38</td>\n",
       "      <td>1</td>\n",
       "    </tr>\n",
       "    <tr>\n",
       "      <th>2</th>\n",
       "      <td>601.0</td>\n",
       "      <td>1.0</td>\n",
       "      <td>64430.06</td>\n",
       "      <td>2.0</td>\n",
       "      <td>1.0</td>\n",
       "      <td>96517.97</td>\n",
       "      <td>France</td>\n",
       "      <td>Male</td>\n",
       "      <td>39-48</td>\n",
       "      <td>0</td>\n",
       "    </tr>\n",
       "    <tr>\n",
       "      <th>3</th>\n",
       "      <td>627.0</td>\n",
       "      <td>6.0</td>\n",
       "      <td>57809.32</td>\n",
       "      <td>1.0</td>\n",
       "      <td>0.0</td>\n",
       "      <td>188258.49</td>\n",
       "      <td>Germany</td>\n",
       "      <td>Female</td>\n",
       "      <td>29-38</td>\n",
       "      <td>0</td>\n",
       "    </tr>\n",
       "    <tr>\n",
       "      <th>4</th>\n",
       "      <td>745.0</td>\n",
       "      <td>10.0</td>\n",
       "      <td>96048.55</td>\n",
       "      <td>1.0</td>\n",
       "      <td>0.0</td>\n",
       "      <td>74510.65</td>\n",
       "      <td>Germany</td>\n",
       "      <td>Male</td>\n",
       "      <td>39-48</td>\n",
       "      <td>0</td>\n",
       "    </tr>\n",
       "  </tbody>\n",
       "</table>\n",
       "</div>"
      ],
      "text/plain": [
       "   credit_score  Tenure    Balance  num_of_products  isActiveMember  \\\n",
       "0         698.0     9.0  161993.89              1.0             0.0   \n",
       "1         612.0     1.0       0.00              1.0             1.0   \n",
       "2         601.0     1.0   64430.06              2.0             1.0   \n",
       "3         627.0     6.0   57809.32              1.0             0.0   \n",
       "4         745.0    10.0   96048.55              1.0             0.0   \n",
       "\n",
       "   estimated_salary geography  gender age_cat  exited  \n",
       "0          90212.38     Spain  Female   39-48       0  \n",
       "1          83256.26     Spain    Male   29-38       1  \n",
       "2          96517.97    France    Male   39-48       0  \n",
       "3         188258.49   Germany  Female   29-38       0  \n",
       "4          74510.65   Germany    Male   39-48       0  "
      ]
     },
     "execution_count": 3,
     "metadata": {},
     "output_type": "execute_result"
    }
   ],
   "source": [
    "df2 = pd.read_feather('datasets/dados_balanceados.feather')\n",
    "df2.head()"
   ]
  },
  {
   "cell_type": "code",
   "execution_count": 4,
   "id": "b7e8b3fd",
   "metadata": {
    "ExecuteTime": {
     "end_time": "2022-09-26T15:42:14.428060Z",
     "start_time": "2022-09-26T15:42:14.384060Z"
    }
   },
   "outputs": [
    {
     "name": "stdout",
     "output_type": "stream",
     "text": [
      "Number of rows: 12614\n",
      "Number of Columns: 10\n"
     ]
    }
   ],
   "source": [
    "data_dimensions(df2)"
   ]
  },
  {
   "cell_type": "code",
   "execution_count": 5,
   "id": "72f7c1ea",
   "metadata": {
    "ExecuteTime": {
     "end_time": "2022-09-26T15:42:14.555059Z",
     "start_time": "2022-09-26T15:42:14.434061Z"
    }
   },
   "outputs": [],
   "source": [
    "#Separando os dados entre numéricos e categoricos, pois será necessario para realizar as transformações\n",
    "\n",
    "attributes_num = df2.select_dtypes(include=['int64','float64']).drop('exited',axis=1)\n",
    "attibutes_cat  = df2.select_dtypes(include=['object'])\n",
    "\n",
    "col_num = attributes_num.columns.tolist()\n",
    "col_cat = attibutes_cat.columns.tolist()"
   ]
  },
  {
   "cell_type": "markdown",
   "id": "753bb0ce",
   "metadata": {
    "heading_collapsed": true
   },
   "source": [
    "## 2.1.Fazendo Rescaling nos dados\n",
    "\n",
    "**Rescaling escolhido: RobustScaler**\n",
    "\n",
    "**Motivo:** Acredito que ele e o melhor, pois foi feito para lidar com grandes distribuições de dados, pegando os valores de quartil para realizar seus cálculos, assim sendo pouco influenciado para valor outliers nos dados."
   ]
  },
  {
   "cell_type": "code",
   "execution_count": 6,
   "id": "d10b845f",
   "metadata": {
    "ExecuteTime": {
     "end_time": "2022-09-26T15:42:14.743860Z",
     "start_time": "2022-09-26T15:42:14.558062Z"
    },
    "hidden": true
   },
   "outputs": [],
   "source": [
    "rs = RobustScaler()"
   ]
  },
  {
   "cell_type": "code",
   "execution_count": 7,
   "id": "b46026c0",
   "metadata": {
    "ExecuteTime": {
     "end_time": "2022-09-26T15:42:14.853757Z",
     "start_time": "2022-09-26T15:42:14.746391Z"
    },
    "hidden": true
   },
   "outputs": [
    {
     "data": {
      "text/html": [
       "<div>\n",
       "<style scoped>\n",
       "    .dataframe tbody tr th:only-of-type {\n",
       "        vertical-align: middle;\n",
       "    }\n",
       "\n",
       "    .dataframe tbody tr th {\n",
       "        vertical-align: top;\n",
       "    }\n",
       "\n",
       "    .dataframe thead th {\n",
       "        text-align: right;\n",
       "    }\n",
       "</style>\n",
       "<table border=\"1\" class=\"dataframe\">\n",
       "  <thead>\n",
       "    <tr style=\"text-align: right;\">\n",
       "      <th></th>\n",
       "      <th>credit_score</th>\n",
       "      <th>Tenure</th>\n",
       "      <th>Balance</th>\n",
       "      <th>num_of_products</th>\n",
       "      <th>isActiveMember</th>\n",
       "      <th>estimated_salary</th>\n",
       "      <th>geography</th>\n",
       "      <th>gender</th>\n",
       "      <th>age_cat</th>\n",
       "      <th>exited</th>\n",
       "    </tr>\n",
       "  </thead>\n",
       "  <tbody>\n",
       "    <tr>\n",
       "      <th>0</th>\n",
       "      <td>0.375643</td>\n",
       "      <td>1.0</td>\n",
       "      <td>0.456421</td>\n",
       "      <td>-0.233956</td>\n",
       "      <td>-0.350731</td>\n",
       "      <td>-0.104782</td>\n",
       "      <td>Spain</td>\n",
       "      <td>Female</td>\n",
       "      <td>39-48</td>\n",
       "      <td>0</td>\n",
       "    </tr>\n",
       "    <tr>\n",
       "      <th>1</th>\n",
       "      <td>-0.310779</td>\n",
       "      <td>-1.0</td>\n",
       "      <td>-0.801700</td>\n",
       "      <td>-0.233956</td>\n",
       "      <td>0.649269</td>\n",
       "      <td>-0.175114</td>\n",
       "      <td>Spain</td>\n",
       "      <td>Male</td>\n",
       "      <td>29-38</td>\n",
       "      <td>1</td>\n",
       "    </tr>\n",
       "    <tr>\n",
       "      <th>2</th>\n",
       "      <td>-0.398577</td>\n",
       "      <td>-1.0</td>\n",
       "      <td>-0.301306</td>\n",
       "      <td>0.766044</td>\n",
       "      <td>0.649269</td>\n",
       "      <td>-0.041026</td>\n",
       "      <td>France</td>\n",
       "      <td>Male</td>\n",
       "      <td>39-48</td>\n",
       "      <td>0</td>\n",
       "    </tr>\n",
       "  </tbody>\n",
       "</table>\n",
       "</div>"
      ],
      "text/plain": [
       "   credit_score  Tenure   Balance  num_of_products  isActiveMember  \\\n",
       "0      0.375643     1.0  0.456421        -0.233956       -0.350731   \n",
       "1     -0.310779    -1.0 -0.801700        -0.233956        0.649269   \n",
       "2     -0.398577    -1.0 -0.301306         0.766044        0.649269   \n",
       "\n",
       "   estimated_salary geography  gender age_cat  exited  \n",
       "0         -0.104782     Spain  Female   39-48       0  \n",
       "1         -0.175114     Spain    Male   29-38       1  \n",
       "2         -0.041026    France    Male   39-48       0  "
      ]
     },
     "execution_count": 7,
     "metadata": {},
     "output_type": "execute_result"
    }
   ],
   "source": [
    "df2[col_num] = rs.fit_transform(df2[col_num].values)\n",
    "df2.head(3)"
   ]
  },
  {
   "cell_type": "code",
   "execution_count": 8,
   "id": "24af3721",
   "metadata": {
    "ExecuteTime": {
     "end_time": "2022-09-26T15:42:17.719540Z",
     "start_time": "2022-09-26T15:42:14.856758Z"
    },
    "hidden": true
   },
   "outputs": [
    {
     "data": {
      "image/png": "[encoded data removed]",
      "text/plain": [
       "<Figure size 1800x2400 with 7 Axes>"
      ]
     },
     "metadata": {},
     "output_type": "display_data"
    }
   ],
   "source": [
    "#Analisando a distribuição dos dados reescalados\n",
    "sns_histplot(df2,df2.select_dtypes(include=['int64','float64']).columns.tolist())"
   ]
  },
  {
   "cell_type": "markdown",
   "id": "bbf91043",
   "metadata": {
    "heading_collapsed": true
   },
   "source": [
    "## 2.2.Tratando as features categoricas.\n",
    "\n",
    "**Metodo usado: Relevancia WOE**\n",
    "\n",
    "**Motivo:** Usarei a relevância da predição da feature para substituir o valor dela, farei por que julgo ser o mais apropriado para os nossos dados, embora o One Hot não seja má ideia, acredito que a força preditora da variável pode me surpreender e me dar bons resultados. "
   ]
  },
  {
   "cell_type": "code",
   "execution_count": 9,
   "id": "139446f0",
   "metadata": {
    "ExecuteTime": {
     "end_time": "2022-09-26T15:42:18.134536Z",
     "start_time": "2022-09-26T15:42:17.723540Z"
    },
    "hidden": true
   },
   "outputs": [
    {
     "data": {
      "text/plain": [
       "<Figure size 700x700 with 0 Axes>"
      ]
     },
     "metadata": {},
     "output_type": "display_data"
    },
    {
     "data": {
      "image/png": "[encoded data removed]",
      "text/plain": [
       "<Figure size 640x480 with 1 Axes>"
      ]
     },
     "metadata": {},
     "output_type": "display_data"
    }
   ],
   "source": [
    "results = relevancia_iv(df2,col_cat,'exited')"
   ]
  },
  {
   "cell_type": "code",
   "execution_count": 10,
   "id": "17ff2d71",
   "metadata": {
    "ExecuteTime": {
     "end_time": "2022-09-26T15:42:18.166548Z",
     "start_time": "2022-09-26T15:42:18.137535Z"
    },
    "hidden": true
   },
   "outputs": [
    {
     "data": {
      "text/html": [
       "<div>\n",
       "<style scoped>\n",
       "    .dataframe tbody tr th:only-of-type {\n",
       "        vertical-align: middle;\n",
       "    }\n",
       "\n",
       "    .dataframe tbody tr th {\n",
       "        vertical-align: top;\n",
       "    }\n",
       "\n",
       "    .dataframe thead th {\n",
       "        text-align: right;\n",
       "    }\n",
       "</style>\n",
       "<table border=\"1\" class=\"dataframe\">\n",
       "  <thead>\n",
       "    <tr style=\"text-align: right;\">\n",
       "      <th>exited</th>\n",
       "      <th>Feature</th>\n",
       "      <th>woe</th>\n",
       "    </tr>\n",
       "  </thead>\n",
       "  <tbody>\n",
       "    <tr>\n",
       "      <th>0</th>\n",
       "      <td>France</td>\n",
       "      <td>-0.335980</td>\n",
       "    </tr>\n",
       "    <tr>\n",
       "      <th>1</th>\n",
       "      <td>Germany</td>\n",
       "      <td>0.645863</td>\n",
       "    </tr>\n",
       "    <tr>\n",
       "      <th>2</th>\n",
       "      <td>Spain</td>\n",
       "      <td>-0.164471</td>\n",
       "    </tr>\n",
       "    <tr>\n",
       "      <th>3</th>\n",
       "      <td>Female</td>\n",
       "      <td>0.277496</td>\n",
       "    </tr>\n",
       "    <tr>\n",
       "      <th>4</th>\n",
       "      <td>Male</td>\n",
       "      <td>-0.272687</td>\n",
       "    </tr>\n",
       "    <tr>\n",
       "      <th>5</th>\n",
       "      <td>18-28</td>\n",
       "      <td>-1.211095</td>\n",
       "    </tr>\n",
       "    <tr>\n",
       "      <th>6</th>\n",
       "      <td>29-38</td>\n",
       "      <td>-0.807731</td>\n",
       "    </tr>\n",
       "    <tr>\n",
       "      <th>7</th>\n",
       "      <td>39-48</td>\n",
       "      <td>0.393878</td>\n",
       "    </tr>\n",
       "    <tr>\n",
       "      <th>8</th>\n",
       "      <td>49+</td>\n",
       "      <td>1.197472</td>\n",
       "    </tr>\n",
       "  </tbody>\n",
       "</table>\n",
       "</div>"
      ],
      "text/plain": [
       "exited  Feature       woe\n",
       "0        France -0.335980\n",
       "1       Germany  0.645863\n",
       "2         Spain -0.164471\n",
       "3        Female  0.277496\n",
       "4          Male -0.272687\n",
       "5         18-28 -1.211095\n",
       "6         29-38 -0.807731\n",
       "7         39-48  0.393878\n",
       "8           49+  1.197472"
      ]
     },
     "execution_count": 10,
     "metadata": {},
     "output_type": "execute_result"
    }
   ],
   "source": [
    "#Relevancia de cada valor\n",
    "results.reset_index().rename(columns={'index':'Feature'})[['Feature','woe']]"
   ]
  },
  {
   "cell_type": "code",
   "execution_count": 11,
   "id": "d9a86788",
   "metadata": {
    "ExecuteTime": {
     "end_time": "2022-09-26T15:42:19.054309Z",
     "start_time": "2022-09-26T15:42:18.169537Z"
    },
    "hidden": true
   },
   "outputs": [],
   "source": [
    "df2['geography'] = df2['geography'].apply(lambda x: np.round(-0.30576518233901606,4) if x == 'France' else\n",
    "                                 np.round(0.6722712456759936,4) if x == 'Germany' else np.round(0.-0.28517824850850665,4) )\n",
    "\n",
    "df2['gender'] = df2['gender'].apply(lambda x: np.round(-0.2568164644490587,3) if x == 'Male' else np.round(0.26806228125338905,4))\n",
    "\n",
    "\n",
    "df2['age_cat'] = df2['age_cat'].apply(lambda x: np.round(-1.1869652746964552,4) if x == '18-28' else\n",
    "                                                 np.round(-0.8520671946724286,4) if x == '29-38' else\n",
    "                                                 np.round(0.40147162830539146,4) if x == '39-48' else np.round(1.209180769346363,4))"
   ]
  },
  {
   "cell_type": "markdown",
   "id": "8c6c0acb",
   "metadata": {},
   "source": [
    "# 3.0.Seleção de colunas\n",
    "**Vou usar o Boruta como metodo de seleção de features**\n",
    "\n",
    "**Motivo:** O Boruta usa um método para achar as colunas mais relevantes de uma forma muito espetacular, ele simplesmente cria um modelo para cada coluna e verifica se a coluna ajudou o modelo na performance ou não."
   ]
  },
  {
   "cell_type": "code",
   "execution_count": 12,
   "id": "a0ae45c1",
   "metadata": {
    "ExecuteTime": {
     "end_time": "2022-09-26T15:42:19.085310Z",
     "start_time": "2022-09-26T15:42:19.057309Z"
    }
   },
   "outputs": [
    {
     "data": {
      "text/html": [
       "<div>\n",
       "<style scoped>\n",
       "    .dataframe tbody tr th:only-of-type {\n",
       "        vertical-align: middle;\n",
       "    }\n",
       "\n",
       "    .dataframe tbody tr th {\n",
       "        vertical-align: top;\n",
       "    }\n",
       "\n",
       "    .dataframe thead th {\n",
       "        text-align: right;\n",
       "    }\n",
       "</style>\n",
       "<table border=\"1\" class=\"dataframe\">\n",
       "  <thead>\n",
       "    <tr style=\"text-align: right;\">\n",
       "      <th></th>\n",
       "      <th>credit_score</th>\n",
       "      <th>Tenure</th>\n",
       "      <th>Balance</th>\n",
       "      <th>num_of_products</th>\n",
       "      <th>isActiveMember</th>\n",
       "      <th>estimated_salary</th>\n",
       "      <th>geography</th>\n",
       "      <th>gender</th>\n",
       "      <th>age_cat</th>\n",
       "      <th>exited</th>\n",
       "    </tr>\n",
       "  </thead>\n",
       "  <tbody>\n",
       "    <tr>\n",
       "      <th>0</th>\n",
       "      <td>0.375643</td>\n",
       "      <td>1.00</td>\n",
       "      <td>0.456421</td>\n",
       "      <td>-0.233956</td>\n",
       "      <td>-0.350731</td>\n",
       "      <td>-0.104782</td>\n",
       "      <td>-0.2852</td>\n",
       "      <td>0.2681</td>\n",
       "      <td>0.4015</td>\n",
       "      <td>0</td>\n",
       "    </tr>\n",
       "    <tr>\n",
       "      <th>1</th>\n",
       "      <td>-0.310779</td>\n",
       "      <td>-1.00</td>\n",
       "      <td>-0.801700</td>\n",
       "      <td>-0.233956</td>\n",
       "      <td>0.649269</td>\n",
       "      <td>-0.175114</td>\n",
       "      <td>-0.2852</td>\n",
       "      <td>-0.2570</td>\n",
       "      <td>-0.8521</td>\n",
       "      <td>1</td>\n",
       "    </tr>\n",
       "    <tr>\n",
       "      <th>2</th>\n",
       "      <td>-0.398577</td>\n",
       "      <td>-1.00</td>\n",
       "      <td>-0.301306</td>\n",
       "      <td>0.766044</td>\n",
       "      <td>0.649269</td>\n",
       "      <td>-0.041026</td>\n",
       "      <td>-0.3058</td>\n",
       "      <td>-0.2570</td>\n",
       "      <td>0.4015</td>\n",
       "      <td>0</td>\n",
       "    </tr>\n",
       "    <tr>\n",
       "      <th>3</th>\n",
       "      <td>-0.191054</td>\n",
       "      <td>0.25</td>\n",
       "      <td>-0.352725</td>\n",
       "      <td>-0.233956</td>\n",
       "      <td>-0.350731</td>\n",
       "      <td>0.886554</td>\n",
       "      <td>0.6723</td>\n",
       "      <td>0.2681</td>\n",
       "      <td>-0.8521</td>\n",
       "      <td>0</td>\n",
       "    </tr>\n",
       "    <tr>\n",
       "      <th>4</th>\n",
       "      <td>0.750780</td>\n",
       "      <td>1.25</td>\n",
       "      <td>-0.055742</td>\n",
       "      <td>-0.233956</td>\n",
       "      <td>-0.350731</td>\n",
       "      <td>-0.263540</td>\n",
       "      <td>0.6723</td>\n",
       "      <td>-0.2570</td>\n",
       "      <td>0.4015</td>\n",
       "      <td>0</td>\n",
       "    </tr>\n",
       "  </tbody>\n",
       "</table>\n",
       "</div>"
      ],
      "text/plain": [
       "   credit_score  Tenure   Balance  num_of_products  isActiveMember  \\\n",
       "0      0.375643    1.00  0.456421        -0.233956       -0.350731   \n",
       "1     -0.310779   -1.00 -0.801700        -0.233956        0.649269   \n",
       "2     -0.398577   -1.00 -0.301306         0.766044        0.649269   \n",
       "3     -0.191054    0.25 -0.352725        -0.233956       -0.350731   \n",
       "4      0.750780    1.25 -0.055742        -0.233956       -0.350731   \n",
       "\n",
       "   estimated_salary  geography  gender  age_cat  exited  \n",
       "0         -0.104782    -0.2852  0.2681   0.4015       0  \n",
       "1         -0.175114    -0.2852 -0.2570  -0.8521       1  \n",
       "2         -0.041026    -0.3058 -0.2570   0.4015       0  \n",
       "3          0.886554     0.6723  0.2681  -0.8521       0  \n",
       "4         -0.263540     0.6723 -0.2570   0.4015       0  "
      ]
     },
     "execution_count": 12,
     "metadata": {},
     "output_type": "execute_result"
    }
   ],
   "source": [
    "df3 = df2.copy()\n",
    "df3.head()"
   ]
  },
  {
   "cell_type": "code",
   "execution_count": 13,
   "id": "1c7dc734",
   "metadata": {
    "ExecuteTime": {
     "end_time": "2022-09-26T15:42:19.181307Z",
     "start_time": "2022-09-26T15:42:19.088309Z"
    }
   },
   "outputs": [],
   "source": [
    "X = df3.drop('exited',axis=1)\n",
    "y = df3['exited']"
   ]
  },
  {
   "cell_type": "code",
   "execution_count": 14,
   "id": "ab19acf6",
   "metadata": {
    "ExecuteTime": {
     "end_time": "2022-09-26T15:42:19.291054Z",
     "start_time": "2022-09-26T15:42:19.190312Z"
    }
   },
   "outputs": [],
   "source": [
    "X_train,X_test,y_train,y_test = train_test_split(X,y,test_size=0.3,random_state=42)"
   ]
  },
  {
   "cell_type": "code",
   "execution_count": 15,
   "id": "d4942b61",
   "metadata": {
    "ExecuteTime": {
     "end_time": "2022-09-26T15:42:21.558562Z",
     "start_time": "2022-09-26T15:42:19.294056Z"
    }
   },
   "outputs": [],
   "source": [
    "dados_selecionados, dados_nao_selecionados = boruta_selection(df3,X_train,y_train,'exited',RandomForestClassifier)"
   ]
  },
  {
   "cell_type": "code",
   "execution_count": 16,
   "id": "70d7d860",
   "metadata": {
    "ExecuteTime": {
     "end_time": "2022-09-26T15:42:21.574565Z",
     "start_time": "2022-09-26T15:42:21.560563Z"
    }
   },
   "outputs": [
    {
     "data": {
      "text/html": [
       "<div>\n",
       "<style scoped>\n",
       "    .dataframe tbody tr th:only-of-type {\n",
       "        vertical-align: middle;\n",
       "    }\n",
       "\n",
       "    .dataframe tbody tr th {\n",
       "        vertical-align: top;\n",
       "    }\n",
       "\n",
       "    .dataframe thead th {\n",
       "        text-align: right;\n",
       "    }\n",
       "</style>\n",
       "<table border=\"1\" class=\"dataframe\">\n",
       "  <thead>\n",
       "    <tr style=\"text-align: right;\">\n",
       "      <th></th>\n",
       "      <th>gender</th>\n",
       "      <th>geography</th>\n",
       "      <th>exited</th>\n",
       "    </tr>\n",
       "  </thead>\n",
       "  <tbody>\n",
       "    <tr>\n",
       "      <th>0</th>\n",
       "      <td>0.2681</td>\n",
       "      <td>-0.2852</td>\n",
       "      <td>0</td>\n",
       "    </tr>\n",
       "    <tr>\n",
       "      <th>1</th>\n",
       "      <td>-0.2570</td>\n",
       "      <td>-0.2852</td>\n",
       "      <td>1</td>\n",
       "    </tr>\n",
       "    <tr>\n",
       "      <th>2</th>\n",
       "      <td>-0.2570</td>\n",
       "      <td>-0.3058</td>\n",
       "      <td>0</td>\n",
       "    </tr>\n",
       "  </tbody>\n",
       "</table>\n",
       "</div>"
      ],
      "text/plain": [
       "   gender  geography  exited\n",
       "0  0.2681    -0.2852       0\n",
       "1 -0.2570    -0.2852       1\n",
       "2 -0.2570    -0.3058       0"
      ]
     },
     "execution_count": 16,
     "metadata": {},
     "output_type": "execute_result"
    }
   ],
   "source": [
    "dados_nao_selecionados.head(3)"
   ]
  },
  {
   "cell_type": "code",
   "execution_count": 17,
   "id": "7bff732f",
   "metadata": {
    "ExecuteTime": {
     "end_time": "2022-09-26T15:42:21.685563Z",
     "start_time": "2022-09-26T15:42:21.578564Z"
    }
   },
   "outputs": [
    {
     "data": {
      "text/html": [
       "<div>\n",
       "<style scoped>\n",
       "    .dataframe tbody tr th:only-of-type {\n",
       "        vertical-align: middle;\n",
       "    }\n",
       "\n",
       "    .dataframe tbody tr th {\n",
       "        vertical-align: top;\n",
       "    }\n",
       "\n",
       "    .dataframe thead th {\n",
       "        text-align: right;\n",
       "    }\n",
       "</style>\n",
       "<table border=\"1\" class=\"dataframe\">\n",
       "  <thead>\n",
       "    <tr style=\"text-align: right;\">\n",
       "      <th></th>\n",
       "      <th>credit_score</th>\n",
       "      <th>Tenure</th>\n",
       "      <th>Balance</th>\n",
       "      <th>num_of_products</th>\n",
       "      <th>isActiveMember</th>\n",
       "      <th>estimated_salary</th>\n",
       "      <th>age_cat</th>\n",
       "      <th>exited</th>\n",
       "    </tr>\n",
       "  </thead>\n",
       "  <tbody>\n",
       "    <tr>\n",
       "      <th>0</th>\n",
       "      <td>0.375643</td>\n",
       "      <td>1.0</td>\n",
       "      <td>0.456421</td>\n",
       "      <td>-0.233956</td>\n",
       "      <td>-0.350731</td>\n",
       "      <td>-0.104782</td>\n",
       "      <td>0.4015</td>\n",
       "      <td>0</td>\n",
       "    </tr>\n",
       "    <tr>\n",
       "      <th>1</th>\n",
       "      <td>-0.310779</td>\n",
       "      <td>-1.0</td>\n",
       "      <td>-0.801700</td>\n",
       "      <td>-0.233956</td>\n",
       "      <td>0.649269</td>\n",
       "      <td>-0.175114</td>\n",
       "      <td>-0.8521</td>\n",
       "      <td>1</td>\n",
       "    </tr>\n",
       "    <tr>\n",
       "      <th>2</th>\n",
       "      <td>-0.398577</td>\n",
       "      <td>-1.0</td>\n",
       "      <td>-0.301306</td>\n",
       "      <td>0.766044</td>\n",
       "      <td>0.649269</td>\n",
       "      <td>-0.041026</td>\n",
       "      <td>0.4015</td>\n",
       "      <td>0</td>\n",
       "    </tr>\n",
       "  </tbody>\n",
       "</table>\n",
       "</div>"
      ],
      "text/plain": [
       "   credit_score  Tenure   Balance  num_of_products  isActiveMember  \\\n",
       "0      0.375643     1.0  0.456421        -0.233956       -0.350731   \n",
       "1     -0.310779    -1.0 -0.801700        -0.233956        0.649269   \n",
       "2     -0.398577    -1.0 -0.301306         0.766044        0.649269   \n",
       "\n",
       "   estimated_salary  age_cat  exited  \n",
       "0         -0.104782   0.4015       0  \n",
       "1         -0.175114  -0.8521       1  \n",
       "2         -0.041026   0.4015       0  "
      ]
     },
     "execution_count": 17,
     "metadata": {},
     "output_type": "execute_result"
    }
   ],
   "source": [
    "dados_selecionados.head(3)"
   ]
  },
  {
   "cell_type": "code",
   "execution_count": 18,
   "id": "ac11d01c",
   "metadata": {
    "ExecuteTime": {
     "end_time": "2022-09-26T15:42:22.003083Z",
     "start_time": "2022-09-26T15:42:21.689565Z"
    }
   },
   "outputs": [],
   "source": [
    "dados_selecionados.to_csv('datasets/dados_selecionados.csv')"
   ]
  },
  {
   "cell_type": "code",
   "execution_count": 19,
   "id": "8de3b698",
   "metadata": {
    "ExecuteTime": {
     "end_time": "2022-09-26T15:42:22.019077Z",
     "start_time": "2022-09-26T15:42:22.006076Z"
    }
   },
   "outputs": [],
   "source": [
    "X = dados_selecionados.drop('exited',axis=1)\n",
    "y = dados_selecionados['exited']"
   ]
  },
  {
   "cell_type": "code",
   "execution_count": 20,
   "id": "6d256fcc",
   "metadata": {
    "ExecuteTime": {
     "end_time": "2022-09-26T15:42:22.129141Z",
     "start_time": "2022-09-26T15:42:22.022081Z"
    }
   },
   "outputs": [],
   "source": [
    "X_train,X_test,y_train,y_test = train_test_split(X,y,test_size=0.3,random_state=42)"
   ]
  },
  {
   "cell_type": "code",
   "execution_count": 21,
   "id": "850f761a",
   "metadata": {
    "ExecuteTime": {
     "end_time": "2022-09-26T15:42:22.240001Z",
     "start_time": "2022-09-26T15:42:22.133154Z"
    }
   },
   "outputs": [
    {
     "data": {
      "text/html": [
       "<div>\n",
       "<style scoped>\n",
       "    .dataframe tbody tr th:only-of-type {\n",
       "        vertical-align: middle;\n",
       "    }\n",
       "\n",
       "    .dataframe tbody tr th {\n",
       "        vertical-align: top;\n",
       "    }\n",
       "\n",
       "    .dataframe thead th {\n",
       "        text-align: right;\n",
       "    }\n",
       "</style>\n",
       "<table border=\"1\" class=\"dataframe\">\n",
       "  <thead>\n",
       "    <tr style=\"text-align: right;\">\n",
       "      <th></th>\n",
       "      <th>credit_score</th>\n",
       "      <th>Tenure</th>\n",
       "      <th>Balance</th>\n",
       "      <th>num_of_products</th>\n",
       "      <th>isActiveMember</th>\n",
       "      <th>estimated_salary</th>\n",
       "      <th>age_cat</th>\n",
       "    </tr>\n",
       "  </thead>\n",
       "  <tbody>\n",
       "    <tr>\n",
       "      <th>5444</th>\n",
       "      <td>0.160138</td>\n",
       "      <td>-0.500000</td>\n",
       "      <td>-0.049195</td>\n",
       "      <td>-0.233956</td>\n",
       "      <td>-0.350731</td>\n",
       "      <td>0.766687</td>\n",
       "      <td>1.2092</td>\n",
       "    </tr>\n",
       "    <tr>\n",
       "      <th>7948</th>\n",
       "      <td>-0.644299</td>\n",
       "      <td>0.828871</td>\n",
       "      <td>0.107811</td>\n",
       "      <td>-0.233956</td>\n",
       "      <td>0.478140</td>\n",
       "      <td>0.080679</td>\n",
       "      <td>-0.8521</td>\n",
       "    </tr>\n",
       "    <tr>\n",
       "      <th>12271</th>\n",
       "      <td>-0.088222</td>\n",
       "      <td>0.693636</td>\n",
       "      <td>0.143040</td>\n",
       "      <td>1.271498</td>\n",
       "      <td>-0.350731</td>\n",
       "      <td>0.517359</td>\n",
       "      <td>0.4015</td>\n",
       "    </tr>\n",
       "    <tr>\n",
       "      <th>8883</th>\n",
       "      <td>0.613748</td>\n",
       "      <td>0.500000</td>\n",
       "      <td>-0.801700</td>\n",
       "      <td>0.752299</td>\n",
       "      <td>-0.336985</td>\n",
       "      <td>-0.427575</td>\n",
       "      <td>0.4015</td>\n",
       "    </tr>\n",
       "    <tr>\n",
       "      <th>5522</th>\n",
       "      <td>-0.973256</td>\n",
       "      <td>-0.750000</td>\n",
       "      <td>-0.158897</td>\n",
       "      <td>-0.233956</td>\n",
       "      <td>0.649269</td>\n",
       "      <td>0.225977</td>\n",
       "      <td>0.4015</td>\n",
       "    </tr>\n",
       "    <tr>\n",
       "      <th>4093</th>\n",
       "      <td>-0.087293</td>\n",
       "      <td>0.000000</td>\n",
       "      <td>0.729848</td>\n",
       "      <td>0.766044</td>\n",
       "      <td>-0.350731</td>\n",
       "      <td>0.413314</td>\n",
       "      <td>-0.8521</td>\n",
       "    </tr>\n",
       "    <tr>\n",
       "      <th>5720</th>\n",
       "      <td>0.431514</td>\n",
       "      <td>-1.250000</td>\n",
       "      <td>-0.044125</td>\n",
       "      <td>-0.233956</td>\n",
       "      <td>0.649269</td>\n",
       "      <td>-0.411397</td>\n",
       "      <td>-1.1870</td>\n",
       "    </tr>\n",
       "    <tr>\n",
       "      <th>1318</th>\n",
       "      <td>-0.725825</td>\n",
       "      <td>-0.250000</td>\n",
       "      <td>-0.801700</td>\n",
       "      <td>-0.233956</td>\n",
       "      <td>0.649269</td>\n",
       "      <td>-0.005061</td>\n",
       "      <td>1.2092</td>\n",
       "    </tr>\n",
       "    <tr>\n",
       "      <th>2730</th>\n",
       "      <td>-1.412247</td>\n",
       "      <td>1.000000</td>\n",
       "      <td>-0.801700</td>\n",
       "      <td>0.766044</td>\n",
       "      <td>-0.350731</td>\n",
       "      <td>-0.378324</td>\n",
       "      <td>-0.8521</td>\n",
       "    </tr>\n",
       "    <tr>\n",
       "      <th>4562</th>\n",
       "      <td>0.271881</td>\n",
       "      <td>-0.250000</td>\n",
       "      <td>-0.141871</td>\n",
       "      <td>0.766044</td>\n",
       "      <td>0.649269</td>\n",
       "      <td>0.948081</td>\n",
       "      <td>-0.8521</td>\n",
       "    </tr>\n",
       "  </tbody>\n",
       "</table>\n",
       "</div>"
      ],
      "text/plain": [
       "       credit_score    Tenure   Balance  num_of_products  isActiveMember  \\\n",
       "5444       0.160138 -0.500000 -0.049195        -0.233956       -0.350731   \n",
       "7948      -0.644299  0.828871  0.107811        -0.233956        0.478140   \n",
       "12271     -0.088222  0.693636  0.143040         1.271498       -0.350731   \n",
       "8883       0.613748  0.500000 -0.801700         0.752299       -0.336985   \n",
       "5522      -0.973256 -0.750000 -0.158897        -0.233956        0.649269   \n",
       "4093      -0.087293  0.000000  0.729848         0.766044       -0.350731   \n",
       "5720       0.431514 -1.250000 -0.044125        -0.233956        0.649269   \n",
       "1318      -0.725825 -0.250000 -0.801700        -0.233956        0.649269   \n",
       "2730      -1.412247  1.000000 -0.801700         0.766044       -0.350731   \n",
       "4562       0.271881 -0.250000 -0.141871         0.766044        0.649269   \n",
       "\n",
       "       estimated_salary  age_cat  \n",
       "5444           0.766687   1.2092  \n",
       "7948           0.080679  -0.8521  \n",
       "12271          0.517359   0.4015  \n",
       "8883          -0.427575   0.4015  \n",
       "5522           0.225977   0.4015  \n",
       "4093           0.413314  -0.8521  \n",
       "5720          -0.411397  -1.1870  \n",
       "1318          -0.005061   1.2092  \n",
       "2730          -0.378324  -0.8521  \n",
       "4562           0.948081  -0.8521  "
      ]
     },
     "execution_count": 21,
     "metadata": {},
     "output_type": "execute_result"
    }
   ],
   "source": [
    "X_train[:10]"
   ]
  },
  {
   "cell_type": "markdown",
   "id": "7ccd414a",
   "metadata": {
    "heading_collapsed": true
   },
   "source": [
    "# 4.0.Machine Learning Models"
   ]
  },
  {
   "cell_type": "markdown",
   "id": "4e1f21a0",
   "metadata": {
    "heading_collapsed": true,
    "hidden": true
   },
   "source": [
    "## 4.1.LogisticRegression"
   ]
  },
  {
   "cell_type": "code",
   "execution_count": 22,
   "id": "74b546f0",
   "metadata": {
    "ExecuteTime": {
     "end_time": "2022-09-26T15:42:22.428193Z",
     "start_time": "2022-09-26T15:42:22.243002Z"
    },
    "hidden": true
   },
   "outputs": [
    {
     "data": {
      "text/html": [
       "<style>#sk-container-id-1 {color: black;background-color: white;}#sk-container-id-1 pre{padding: 0;}#sk-container-id-1 div.sk-toggleable {background-color: white;}#sk-container-id-1 label.sk-toggleable__label {cursor: pointer;display: block;width: 100%;margin-bottom: 0;padding: 0.3em;box-sizing: border-box;text-align: center;}#sk-container-id-1 label.sk-toggleable__label-arrow:before {content: \"▸\";float: left;margin-right: 0.25em;color: #696969;}#sk-container-id-1 label.sk-toggleable__label-arrow:hover:before {color: black;}#sk-container-id-1 div.sk-estimator:hover label.sk-toggleable__label-arrow:before {color: black;}#sk-container-id-1 div.sk-toggleable__content {max-height: 0;max-width: 0;overflow: hidden;text-align: left;background-color: #f0f8ff;}#sk-container-id-1 div.sk-toggleable__content pre {margin: 0.2em;color: black;border-radius: 0.25em;background-color: #f0f8ff;}#sk-container-id-1 input.sk-toggleable__control:checked~div.sk-toggleable__content {max-height: 200px;max-width: 100%;overflow: auto;}#sk-container-id-1 input.sk-toggleable__control:checked~label.sk-toggleable__label-arrow:before {content: \"▾\";}#sk-container-id-1 div.sk-estimator input.sk-toggleable__control:checked~label.sk-toggleable__label {background-color: #d4ebff;}#sk-container-id-1 div.sk-label input.sk-toggleable__control:checked~label.sk-toggleable__label {background-color: #d4ebff;}#sk-container-id-1 input.sk-hidden--visually {border: 0;clip: rect(1px 1px 1px 1px);clip: rect(1px, 1px, 1px, 1px);height: 1px;margin: -1px;overflow: hidden;padding: 0;position: absolute;width: 1px;}#sk-container-id-1 div.sk-estimator {font-family: monospace;background-color: #f0f8ff;border: 1px dotted black;border-radius: 0.25em;box-sizing: border-box;margin-bottom: 0.5em;}#sk-container-id-1 div.sk-estimator:hover {background-color: #d4ebff;}#sk-container-id-1 div.sk-parallel-item::after {content: \"\";width: 100%;border-bottom: 1px solid gray;flex-grow: 1;}#sk-container-id-1 div.sk-label:hover label.sk-toggleable__label {background-color: #d4ebff;}#sk-container-id-1 div.sk-serial::before {content: \"\";position: absolute;border-left: 1px solid gray;box-sizing: border-box;top: 0;bottom: 0;left: 50%;z-index: 0;}#sk-container-id-1 div.sk-serial {display: flex;flex-direction: column;align-items: center;background-color: white;padding-right: 0.2em;padding-left: 0.2em;position: relative;}#sk-container-id-1 div.sk-item {position: relative;z-index: 1;}#sk-container-id-1 div.sk-parallel {display: flex;align-items: stretch;justify-content: center;background-color: white;position: relative;}#sk-container-id-1 div.sk-item::before, #sk-container-id-1 div.sk-parallel-item::before {content: \"\";position: absolute;border-left: 1px solid gray;box-sizing: border-box;top: 0;bottom: 0;left: 50%;z-index: -1;}#sk-container-id-1 div.sk-parallel-item {display: flex;flex-direction: column;z-index: 1;position: relative;background-color: white;}#sk-container-id-1 div.sk-parallel-item:first-child::after {align-self: flex-end;width: 50%;}#sk-container-id-1 div.sk-parallel-item:last-child::after {align-self: flex-start;width: 50%;}#sk-container-id-1 div.sk-parallel-item:only-child::after {width: 0;}#sk-container-id-1 div.sk-dashed-wrapped {border: 1px dashed gray;margin: 0 0.4em 0.5em 0.4em;box-sizing: border-box;padding-bottom: 0.4em;background-color: white;}#sk-container-id-1 div.sk-label label {font-family: monospace;font-weight: bold;display: inline-block;line-height: 1.2em;}#sk-container-id-1 div.sk-label-container {text-align: center;}#sk-container-id-1 div.sk-container {/* jupyter's `normalize.less` sets `[hidden] { display: none; }` but bootstrap.min.css set `[hidden] { display: none !important; }` so we also need the `!important` here to be able to override the default hidden behavior on the sphinx rendered scikit-learn.org. See: https://github.com/scikit-learn/scikit-learn/issues/21755 */display: inline-block !important;position: relative;}#sk-container-id-1 div.sk-text-repr-fallback {display: none;}</style><div id=\"sk-container-id-1\" class=\"sk-top-container\"><div class=\"sk-text-repr-fallback\"><pre>LogisticRegression(C=0.01)</pre><b>In a Jupyter environment, please rerun this cell to show the HTML representation or trust the notebook. <br />On GitHub, the HTML representation is unable to render, please try loading this page with nbviewer.org.</b></div><div class=\"sk-container\" hidden><div class=\"sk-item\"><div class=\"sk-estimator sk-toggleable\"><input class=\"sk-toggleable__control sk-hidden--visually\" id=\"sk-estimator-id-1\" type=\"checkbox\" checked><label for=\"sk-estimator-id-1\" class=\"sk-toggleable__label sk-toggleable__label-arrow\">LogisticRegression</label><div class=\"sk-toggleable__content\"><pre>LogisticRegression(C=0.01)</pre></div></div></div></div></div>"
      ],
      "text/plain": [
       "LogisticRegression(C=0.01)"
      ]
     },
     "execution_count": 22,
     "metadata": {},
     "output_type": "execute_result"
    }
   ],
   "source": [
    "lc = LogisticRegression(C=0.01)\n",
    "lc.fit(X_train,y_train)"
   ]
  },
  {
   "cell_type": "markdown",
   "id": "44ed9451",
   "metadata": {
    "heading_collapsed": true,
    "hidden": true
   },
   "source": [
    "## 4.2.Redes Neurais"
   ]
  },
  {
   "cell_type": "code",
   "execution_count": 23,
   "id": "5d750572",
   "metadata": {
    "ExecuteTime": {
     "end_time": "2022-09-26T15:42:22.522695Z",
     "start_time": "2022-09-26T15:42:22.431189Z"
    },
    "hidden": true
   },
   "outputs": [
    {
     "data": {
      "text/plain": [
       "array([[0., 1.],\n",
       "       [1., 0.],\n",
       "       [0., 1.],\n",
       "       [0., 1.],\n",
       "       [1., 0.],\n",
       "       [1., 0.],\n",
       "       [1., 0.],\n",
       "       [0., 1.],\n",
       "       [1., 0.],\n",
       "       [1., 0.]])"
      ]
     },
     "execution_count": 23,
     "metadata": {},
     "output_type": "execute_result"
    }
   ],
   "source": [
    "#Preprando os dados de treino\n",
    "ohe = OneHotEncoder()\n",
    "y_train_nn = ohe.fit_transform(y_train.values.reshape(-1,1)).toarray()\n",
    "y_train_nn[:10]"
   ]
  },
  {
   "cell_type": "code",
   "execution_count": 24,
   "id": "11fcf840",
   "metadata": {
    "ExecuteTime": {
     "end_time": "2022-09-26T15:42:22.602695Z",
     "start_time": "2022-09-26T15:42:22.525695Z"
    },
    "hidden": true
   },
   "outputs": [],
   "source": [
    "#Preprando os dados de teste\n",
    "y_test_nn = y_test.to_numpy()"
   ]
  },
  {
   "cell_type": "code",
   "execution_count": 25,
   "id": "05b15e58",
   "metadata": {
    "ExecuteTime": {
     "end_time": "2022-09-26T15:42:23.013696Z",
     "start_time": "2022-09-26T15:42:22.605698Z"
    },
    "hidden": true
   },
   "outputs": [
    {
     "name": "stdout",
     "output_type": "stream",
     "text": [
      "Model: \"sequential\"\n",
      "_________________________________________________________________\n",
      " Layer (type)                Output Shape              Param #   \n",
      "=================================================================\n",
      " dense (Dense)               (None, 30)                240       \n",
      "                                                                 \n",
      " dropout (Dropout)           (None, 30)                0         \n",
      "                                                                 \n",
      " dense_1 (Dense)             (None, 50)                1550      \n",
      "                                                                 \n",
      " dropout_1 (Dropout)         (None, 50)                0         \n",
      "                                                                 \n",
      " dense_2 (Dense)             (None, 2)                 102       \n",
      "                                                                 \n",
      "=================================================================\n",
      "Total params: 1,892\n",
      "Trainable params: 1,892\n",
      "Non-trainable params: 0\n",
      "_________________________________________________________________\n"
     ]
    }
   ],
   "source": [
    "#Modelo\n",
    "modelo = Sequential()\n",
    "\n",
    "modelo.add(Dense(30,input_dim=X_train.shape[1],kernel_initializer='normal',activation='relu'))\n",
    "modelo.add(Dropout(0.5))\n",
    "modelo.add(Dense(50,activation='relu',kernel_initializer='normal'))\n",
    "modelo.add(Dropout(0.5))\n",
    "modelo.add(Dense(2,kernel_initializer='normal',activation='softmax'))\n",
    "\n",
    "opt = Adam()\n",
    "\n",
    "#Compilando o modelo\n",
    "modelo.compile(loss='categorical_crossentropy',optimizer=opt,metrics=['acc'])\n",
    "\n",
    "\n",
    "modelo.summary()"
   ]
  },
  {
   "cell_type": "code",
   "execution_count": 26,
   "id": "cbbcdc08",
   "metadata": {
    "ExecuteTime": {
     "end_time": "2022-09-26T15:42:40.289083Z",
     "start_time": "2022-09-26T15:42:23.016702Z"
    },
    "hidden": true,
    "scrolled": true
   },
   "outputs": [
    {
     "name": "stdout",
     "output_type": "stream",
     "text": [
      "Epoch 1/100\n",
      "89/89 [==============================] - 1s 2ms/step - loss: 0.6488 - acc: 0.6519\n",
      "Epoch 2/100\n",
      "89/89 [==============================] - 0s 2ms/step - loss: 0.5754 - acc: 0.7104\n",
      "Epoch 3/100\n",
      "89/89 [==============================] - 0s 2ms/step - loss: 0.5699 - acc: 0.7198\n",
      "Epoch 4/100\n",
      "89/89 [==============================] - 0s 2ms/step - loss: 0.5615 - acc: 0.7273\n",
      "Epoch 5/100\n",
      "89/89 [==============================] - 0s 2ms/step - loss: 0.5535 - acc: 0.7293\n",
      "Epoch 6/100\n",
      "89/89 [==============================] - 0s 2ms/step - loss: 0.5517 - acc: 0.7298\n",
      "Epoch 7/100\n",
      "89/89 [==============================] - 0s 2ms/step - loss: 0.5490 - acc: 0.7333\n",
      "Epoch 8/100\n",
      "89/89 [==============================] - 0s 2ms/step - loss: 0.5426 - acc: 0.7317\n",
      "Epoch 9/100\n",
      "89/89 [==============================] - 0s 2ms/step - loss: 0.5437 - acc: 0.7352\n",
      "Epoch 10/100\n",
      "89/89 [==============================] - 0s 2ms/step - loss: 0.5366 - acc: 0.7407\n",
      "Epoch 11/100\n",
      "89/89 [==============================] - 0s 2ms/step - loss: 0.5319 - acc: 0.7381\n",
      "Epoch 12/100\n",
      "89/89 [==============================] - 0s 2ms/step - loss: 0.5305 - acc: 0.7392\n",
      "Epoch 13/100\n",
      "89/89 [==============================] - 0s 2ms/step - loss: 0.5311 - acc: 0.7376\n",
      "Epoch 14/100\n",
      "89/89 [==============================] - 0s 2ms/step - loss: 0.5260 - acc: 0.7430\n",
      "Epoch 15/100\n",
      "89/89 [==============================] - 0s 2ms/step - loss: 0.5220 - acc: 0.7431\n",
      "Epoch 16/100\n",
      "89/89 [==============================] - 0s 2ms/step - loss: 0.5231 - acc: 0.7437\n",
      "Epoch 17/100\n",
      "89/89 [==============================] - 0s 2ms/step - loss: 0.5203 - acc: 0.7457\n",
      "Epoch 18/100\n",
      "89/89 [==============================] - 0s 2ms/step - loss: 0.5197 - acc: 0.7435\n",
      "Epoch 19/100\n",
      "89/89 [==============================] - 0s 2ms/step - loss: 0.5139 - acc: 0.7523\n",
      "Epoch 20/100\n",
      "89/89 [==============================] - 0s 2ms/step - loss: 0.5156 - acc: 0.7507\n",
      "Epoch 21/100\n",
      "89/89 [==============================] - 0s 2ms/step - loss: 0.5182 - acc: 0.7480\n",
      "Epoch 22/100\n",
      "89/89 [==============================] - 0s 2ms/step - loss: 0.5158 - acc: 0.7462\n",
      "Epoch 23/100\n",
      "89/89 [==============================] - 0s 2ms/step - loss: 0.5100 - acc: 0.7522\n",
      "Epoch 24/100\n",
      "89/89 [==============================] - 0s 2ms/step - loss: 0.5084 - acc: 0.7517\n",
      "Epoch 25/100\n",
      "89/89 [==============================] - 0s 2ms/step - loss: 0.5050 - acc: 0.7527\n",
      "Epoch 26/100\n",
      "89/89 [==============================] - 0s 2ms/step - loss: 0.5070 - acc: 0.7586\n",
      "Epoch 27/100\n",
      "89/89 [==============================] - 0s 2ms/step - loss: 0.5020 - acc: 0.7559\n",
      "Epoch 28/100\n",
      "89/89 [==============================] - 0s 2ms/step - loss: 0.5057 - acc: 0.7561\n",
      "Epoch 29/100\n",
      "89/89 [==============================] - 0s 2ms/step - loss: 0.5021 - acc: 0.7549\n",
      "Epoch 30/100\n",
      "89/89 [==============================] - 0s 2ms/step - loss: 0.4987 - acc: 0.7586\n",
      "Epoch 31/100\n",
      "89/89 [==============================] - 0s 2ms/step - loss: 0.5046 - acc: 0.7589\n",
      "Epoch 32/100\n",
      "89/89 [==============================] - 0s 2ms/step - loss: 0.4963 - acc: 0.7608\n",
      "Epoch 33/100\n",
      "89/89 [==============================] - 0s 2ms/step - loss: 0.5010 - acc: 0.7591\n",
      "Epoch 34/100\n",
      "89/89 [==============================] - 0s 2ms/step - loss: 0.4986 - acc: 0.7607\n",
      "Epoch 35/100\n",
      "89/89 [==============================] - 0s 2ms/step - loss: 0.4973 - acc: 0.7595\n",
      "Epoch 36/100\n",
      "89/89 [==============================] - 0s 2ms/step - loss: 0.4961 - acc: 0.7602\n",
      "Epoch 37/100\n",
      "89/89 [==============================] - 0s 2ms/step - loss: 0.4942 - acc: 0.7616\n",
      "Epoch 38/100\n",
      "89/89 [==============================] - 0s 2ms/step - loss: 0.4974 - acc: 0.7568\n",
      "Epoch 39/100\n",
      "89/89 [==============================] - 0s 2ms/step - loss: 0.4951 - acc: 0.7637\n",
      "Epoch 40/100\n",
      "89/89 [==============================] - 0s 2ms/step - loss: 0.4976 - acc: 0.7599\n",
      "Epoch 41/100\n",
      "89/89 [==============================] - 0s 2ms/step - loss: 0.4908 - acc: 0.7618\n",
      "Epoch 42/100\n",
      "89/89 [==============================] - 0s 2ms/step - loss: 0.4941 - acc: 0.7635\n",
      "Epoch 43/100\n",
      "89/89 [==============================] - 0s 2ms/step - loss: 0.4911 - acc: 0.7626\n",
      "Epoch 44/100\n",
      "89/89 [==============================] - 0s 2ms/step - loss: 0.4943 - acc: 0.7658\n",
      "Epoch 45/100\n",
      "89/89 [==============================] - 0s 2ms/step - loss: 0.4910 - acc: 0.7632\n",
      "Epoch 46/100\n",
      "89/89 [==============================] - 0s 2ms/step - loss: 0.4916 - acc: 0.7653\n",
      "Epoch 47/100\n",
      "89/89 [==============================] - 0s 2ms/step - loss: 0.4950 - acc: 0.7600\n",
      "Epoch 48/100\n",
      "89/89 [==============================] - 0s 2ms/step - loss: 0.4955 - acc: 0.7651\n",
      "Epoch 49/100\n",
      "89/89 [==============================] - 0s 2ms/step - loss: 0.4890 - acc: 0.7670\n",
      "Epoch 50/100\n",
      "89/89 [==============================] - 0s 2ms/step - loss: 0.4929 - acc: 0.7648\n",
      "Epoch 51/100\n",
      "89/89 [==============================] - 0s 2ms/step - loss: 0.4938 - acc: 0.7649\n",
      "Epoch 52/100\n",
      "89/89 [==============================] - 0s 2ms/step - loss: 0.4897 - acc: 0.7649\n",
      "Epoch 53/100\n",
      "89/89 [==============================] - 0s 2ms/step - loss: 0.4933 - acc: 0.7632\n",
      "Epoch 54/100\n",
      "89/89 [==============================] - 0s 2ms/step - loss: 0.4911 - acc: 0.7611\n",
      "Epoch 55/100\n",
      "89/89 [==============================] - 0s 2ms/step - loss: 0.4880 - acc: 0.7643\n",
      "Epoch 56/100\n",
      "89/89 [==============================] - 0s 2ms/step - loss: 0.4935 - acc: 0.7629\n",
      "Epoch 57/100\n",
      "89/89 [==============================] - 0s 2ms/step - loss: 0.4939 - acc: 0.7603\n",
      "Epoch 58/100\n",
      "89/89 [==============================] - 0s 2ms/step - loss: 0.4951 - acc: 0.7672\n",
      "Epoch 59/100\n",
      "89/89 [==============================] - 0s 2ms/step - loss: 0.4941 - acc: 0.7684\n",
      "Epoch 60/100\n",
      "89/89 [==============================] - 0s 2ms/step - loss: 0.4877 - acc: 0.7657\n",
      "Epoch 61/100\n",
      "89/89 [==============================] - 0s 2ms/step - loss: 0.4899 - acc: 0.7657\n",
      "Epoch 62/100\n",
      "89/89 [==============================] - 0s 2ms/step - loss: 0.4902 - acc: 0.7620\n",
      "Epoch 63/100\n",
      "89/89 [==============================] - 0s 2ms/step - loss: 0.4914 - acc: 0.7631\n",
      "Epoch 64/100\n",
      "89/89 [==============================] - 0s 2ms/step - loss: 0.4887 - acc: 0.7687\n",
      "Epoch 65/100\n",
      "89/89 [==============================] - 0s 2ms/step - loss: 0.4886 - acc: 0.7661\n",
      "Epoch 66/100\n",
      "89/89 [==============================] - 0s 2ms/step - loss: 0.4884 - acc: 0.7687\n",
      "Epoch 67/100\n",
      "89/89 [==============================] - 0s 2ms/step - loss: 0.4847 - acc: 0.7665\n",
      "Epoch 68/100\n",
      "89/89 [==============================] - 0s 2ms/step - loss: 0.4894 - acc: 0.7670\n",
      "Epoch 69/100\n",
      "89/89 [==============================] - 0s 2ms/step - loss: 0.4844 - acc: 0.7680\n",
      "Epoch 70/100\n",
      "89/89 [==============================] - 0s 2ms/step - loss: 0.4868 - acc: 0.7663\n",
      "Epoch 71/100\n",
      "89/89 [==============================] - 0s 2ms/step - loss: 0.4804 - acc: 0.7704\n",
      "Epoch 72/100\n",
      "89/89 [==============================] - 0s 2ms/step - loss: 0.4897 - acc: 0.7679\n",
      "Epoch 73/100\n",
      "89/89 [==============================] - 0s 2ms/step - loss: 0.4871 - acc: 0.7643\n",
      "Epoch 74/100\n",
      "89/89 [==============================] - 0s 2ms/step - loss: 0.4848 - acc: 0.7689\n",
      "Epoch 75/100\n",
      "89/89 [==============================] - 0s 2ms/step - loss: 0.4843 - acc: 0.7682\n",
      "Epoch 76/100\n",
      "89/89 [==============================] - 0s 2ms/step - loss: 0.4887 - acc: 0.7653\n",
      "Epoch 77/100\n",
      "89/89 [==============================] - 0s 2ms/step - loss: 0.4861 - acc: 0.7685\n",
      "Epoch 78/100\n",
      "89/89 [==============================] - 0s 2ms/step - loss: 0.4905 - acc: 0.7676\n",
      "Epoch 79/100\n",
      "89/89 [==============================] - 0s 2ms/step - loss: 0.4833 - acc: 0.7709\n",
      "Epoch 80/100\n",
      "89/89 [==============================] - 0s 2ms/step - loss: 0.4781 - acc: 0.7696\n",
      "Epoch 81/100\n",
      "89/89 [==============================] - 0s 2ms/step - loss: 0.4858 - acc: 0.7696\n",
      "Epoch 82/100\n",
      "89/89 [==============================] - 0s 2ms/step - loss: 0.4826 - acc: 0.7686\n",
      "Epoch 83/100\n",
      "89/89 [==============================] - 0s 2ms/step - loss: 0.4866 - acc: 0.7669\n",
      "Epoch 84/100\n",
      "89/89 [==============================] - 0s 2ms/step - loss: 0.4872 - acc: 0.7684\n",
      "Epoch 85/100\n",
      "89/89 [==============================] - 0s 2ms/step - loss: 0.4811 - acc: 0.7704\n",
      "Epoch 86/100\n",
      "89/89 [==============================] - 0s 2ms/step - loss: 0.4827 - acc: 0.7695\n",
      "Epoch 87/100\n"
     ]
    },
    {
     "name": "stdout",
     "output_type": "stream",
     "text": [
      "89/89 [==============================] - 0s 2ms/step - loss: 0.4851 - acc: 0.7692\n",
      "Epoch 88/100\n",
      "89/89 [==============================] - 0s 2ms/step - loss: 0.4850 - acc: 0.7713\n",
      "Epoch 89/100\n",
      "89/89 [==============================] - 0s 2ms/step - loss: 0.4835 - acc: 0.7643\n",
      "Epoch 90/100\n",
      "89/89 [==============================] - 0s 2ms/step - loss: 0.4866 - acc: 0.7670\n",
      "Epoch 91/100\n",
      "89/89 [==============================] - 0s 2ms/step - loss: 0.4863 - acc: 0.7709\n",
      "Epoch 92/100\n",
      "89/89 [==============================] - 0s 2ms/step - loss: 0.4855 - acc: 0.7687\n",
      "Epoch 93/100\n",
      "89/89 [==============================] - 0s 2ms/step - loss: 0.4831 - acc: 0.7717\n",
      "Epoch 94/100\n",
      "89/89 [==============================] - 0s 2ms/step - loss: 0.4789 - acc: 0.7720\n",
      "Epoch 95/100\n",
      "89/89 [==============================] - 0s 2ms/step - loss: 0.4796 - acc: 0.7695\n",
      "Epoch 96/100\n",
      "89/89 [==============================] - 0s 2ms/step - loss: 0.4839 - acc: 0.7671\n",
      "Epoch 97/100\n",
      "89/89 [==============================] - 0s 2ms/step - loss: 0.4823 - acc: 0.7717\n",
      "Epoch 98/100\n",
      "89/89 [==============================] - 0s 2ms/step - loss: 0.4818 - acc: 0.7682\n",
      "Epoch 99/100\n",
      "89/89 [==============================] - 0s 2ms/step - loss: 0.4814 - acc: 0.7682\n",
      "Epoch 100/100\n",
      "89/89 [==============================] - 0s 2ms/step - loss: 0.4827 - acc: 0.7715\n"
     ]
    }
   ],
   "source": [
    "#Treinando o modelo\n",
    "historico = modelo.fit(X_train,y_train_nn,epochs=100,batch_size=100,verbose=1)"
   ]
  },
  {
   "cell_type": "markdown",
   "id": "29545219",
   "metadata": {
    "heading_collapsed": true,
    "hidden": true
   },
   "source": [
    "## 4.3.LGBM Classifier"
   ]
  },
  {
   "cell_type": "code",
   "execution_count": 27,
   "id": "e9fce4c3",
   "metadata": {
    "ExecuteTime": {
     "end_time": "2022-09-26T15:42:40.448084Z",
     "start_time": "2022-09-26T15:42:40.292086Z"
    },
    "hidden": true
   },
   "outputs": [
    {
     "data": {
      "text/html": [
       "<style>#sk-container-id-2 {color: black;background-color: white;}#sk-container-id-2 pre{padding: 0;}#sk-container-id-2 div.sk-toggleable {background-color: white;}#sk-container-id-2 label.sk-toggleable__label {cursor: pointer;display: block;width: 100%;margin-bottom: 0;padding: 0.3em;box-sizing: border-box;text-align: center;}#sk-container-id-2 label.sk-toggleable__label-arrow:before {content: \"▸\";float: left;margin-right: 0.25em;color: #696969;}#sk-container-id-2 label.sk-toggleable__label-arrow:hover:before {color: black;}#sk-container-id-2 div.sk-estimator:hover label.sk-toggleable__label-arrow:before {color: black;}#sk-container-id-2 div.sk-toggleable__content {max-height: 0;max-width: 0;overflow: hidden;text-align: left;background-color: #f0f8ff;}#sk-container-id-2 div.sk-toggleable__content pre {margin: 0.2em;color: black;border-radius: 0.25em;background-color: #f0f8ff;}#sk-container-id-2 input.sk-toggleable__control:checked~div.sk-toggleable__content {max-height: 200px;max-width: 100%;overflow: auto;}#sk-container-id-2 input.sk-toggleable__control:checked~label.sk-toggleable__label-arrow:before {content: \"▾\";}#sk-container-id-2 div.sk-estimator input.sk-toggleable__control:checked~label.sk-toggleable__label {background-color: #d4ebff;}#sk-container-id-2 div.sk-label input.sk-toggleable__control:checked~label.sk-toggleable__label {background-color: #d4ebff;}#sk-container-id-2 input.sk-hidden--visually {border: 0;clip: rect(1px 1px 1px 1px);clip: rect(1px, 1px, 1px, 1px);height: 1px;margin: -1px;overflow: hidden;padding: 0;position: absolute;width: 1px;}#sk-container-id-2 div.sk-estimator {font-family: monospace;background-color: #f0f8ff;border: 1px dotted black;border-radius: 0.25em;box-sizing: border-box;margin-bottom: 0.5em;}#sk-container-id-2 div.sk-estimator:hover {background-color: #d4ebff;}#sk-container-id-2 div.sk-parallel-item::after {content: \"\";width: 100%;border-bottom: 1px solid gray;flex-grow: 1;}#sk-container-id-2 div.sk-label:hover label.sk-toggleable__label {background-color: #d4ebff;}#sk-container-id-2 div.sk-serial::before {content: \"\";position: absolute;border-left: 1px solid gray;box-sizing: border-box;top: 0;bottom: 0;left: 50%;z-index: 0;}#sk-container-id-2 div.sk-serial {display: flex;flex-direction: column;align-items: center;background-color: white;padding-right: 0.2em;padding-left: 0.2em;position: relative;}#sk-container-id-2 div.sk-item {position: relative;z-index: 1;}#sk-container-id-2 div.sk-parallel {display: flex;align-items: stretch;justify-content: center;background-color: white;position: relative;}#sk-container-id-2 div.sk-item::before, #sk-container-id-2 div.sk-parallel-item::before {content: \"\";position: absolute;border-left: 1px solid gray;box-sizing: border-box;top: 0;bottom: 0;left: 50%;z-index: -1;}#sk-container-id-2 div.sk-parallel-item {display: flex;flex-direction: column;z-index: 1;position: relative;background-color: white;}#sk-container-id-2 div.sk-parallel-item:first-child::after {align-self: flex-end;width: 50%;}#sk-container-id-2 div.sk-parallel-item:last-child::after {align-self: flex-start;width: 50%;}#sk-container-id-2 div.sk-parallel-item:only-child::after {width: 0;}#sk-container-id-2 div.sk-dashed-wrapped {border: 1px dashed gray;margin: 0 0.4em 0.5em 0.4em;box-sizing: border-box;padding-bottom: 0.4em;background-color: white;}#sk-container-id-2 div.sk-label label {font-family: monospace;font-weight: bold;display: inline-block;line-height: 1.2em;}#sk-container-id-2 div.sk-label-container {text-align: center;}#sk-container-id-2 div.sk-container {/* jupyter's `normalize.less` sets `[hidden] { display: none; }` but bootstrap.min.css set `[hidden] { display: none !important; }` so we also need the `!important` here to be able to override the default hidden behavior on the sphinx rendered scikit-learn.org. See: https://github.com/scikit-learn/scikit-learn/issues/21755 */display: inline-block !important;position: relative;}#sk-container-id-2 div.sk-text-repr-fallback {display: none;}</style><div id=\"sk-container-id-2\" class=\"sk-top-container\"><div class=\"sk-text-repr-fallback\"><pre>LGBMClassifier()</pre><b>In a Jupyter environment, please rerun this cell to show the HTML representation or trust the notebook. <br />On GitHub, the HTML representation is unable to render, please try loading this page with nbviewer.org.</b></div><div class=\"sk-container\" hidden><div class=\"sk-item\"><div class=\"sk-estimator sk-toggleable\"><input class=\"sk-toggleable__control sk-hidden--visually\" id=\"sk-estimator-id-2\" type=\"checkbox\" checked><label for=\"sk-estimator-id-2\" class=\"sk-toggleable__label sk-toggleable__label-arrow\">LGBMClassifier</label><div class=\"sk-toggleable__content\"><pre>LGBMClassifier()</pre></div></div></div></div></div>"
      ],
      "text/plain": [
       "LGBMClassifier()"
      ]
     },
     "execution_count": 27,
     "metadata": {},
     "output_type": "execute_result"
    }
   ],
   "source": [
    "lgbm = LGBMClassifier()\n",
    "lgbm.fit(X_train,y_train)"
   ]
  },
  {
   "cell_type": "markdown",
   "id": "1f3bb890",
   "metadata": {
    "heading_collapsed": true,
    "hidden": true
   },
   "source": [
    "## 4.4.Random Forest Classifier"
   ]
  },
  {
   "cell_type": "code",
   "execution_count": 28,
   "id": "75724b90",
   "metadata": {
    "ExecuteTime": {
     "end_time": "2022-09-26T15:42:41.830085Z",
     "start_time": "2022-09-26T15:42:40.451085Z"
    },
    "hidden": true
   },
   "outputs": [
    {
     "data": {
      "text/html": [
       "<style>#sk-container-id-3 {color: black;background-color: white;}#sk-container-id-3 pre{padding: 0;}#sk-container-id-3 div.sk-toggleable {background-color: white;}#sk-container-id-3 label.sk-toggleable__label {cursor: pointer;display: block;width: 100%;margin-bottom: 0;padding: 0.3em;box-sizing: border-box;text-align: center;}#sk-container-id-3 label.sk-toggleable__label-arrow:before {content: \"▸\";float: left;margin-right: 0.25em;color: #696969;}#sk-container-id-3 label.sk-toggleable__label-arrow:hover:before {color: black;}#sk-container-id-3 div.sk-estimator:hover label.sk-toggleable__label-arrow:before {color: black;}#sk-container-id-3 div.sk-toggleable__content {max-height: 0;max-width: 0;overflow: hidden;text-align: left;background-color: #f0f8ff;}#sk-container-id-3 div.sk-toggleable__content pre {margin: 0.2em;color: black;border-radius: 0.25em;background-color: #f0f8ff;}#sk-container-id-3 input.sk-toggleable__control:checked~div.sk-toggleable__content {max-height: 200px;max-width: 100%;overflow: auto;}#sk-container-id-3 input.sk-toggleable__control:checked~label.sk-toggleable__label-arrow:before {content: \"▾\";}#sk-container-id-3 div.sk-estimator input.sk-toggleable__control:checked~label.sk-toggleable__label {background-color: #d4ebff;}#sk-container-id-3 div.sk-label input.sk-toggleable__control:checked~label.sk-toggleable__label {background-color: #d4ebff;}#sk-container-id-3 input.sk-hidden--visually {border: 0;clip: rect(1px 1px 1px 1px);clip: rect(1px, 1px, 1px, 1px);height: 1px;margin: -1px;overflow: hidden;padding: 0;position: absolute;width: 1px;}#sk-container-id-3 div.sk-estimator {font-family: monospace;background-color: #f0f8ff;border: 1px dotted black;border-radius: 0.25em;box-sizing: border-box;margin-bottom: 0.5em;}#sk-container-id-3 div.sk-estimator:hover {background-color: #d4ebff;}#sk-container-id-3 div.sk-parallel-item::after {content: \"\";width: 100%;border-bottom: 1px solid gray;flex-grow: 1;}#sk-container-id-3 div.sk-label:hover label.sk-toggleable__label {background-color: #d4ebff;}#sk-container-id-3 div.sk-serial::before {content: \"\";position: absolute;border-left: 1px solid gray;box-sizing: border-box;top: 0;bottom: 0;left: 50%;z-index: 0;}#sk-container-id-3 div.sk-serial {display: flex;flex-direction: column;align-items: center;background-color: white;padding-right: 0.2em;padding-left: 0.2em;position: relative;}#sk-container-id-3 div.sk-item {position: relative;z-index: 1;}#sk-container-id-3 div.sk-parallel {display: flex;align-items: stretch;justify-content: center;background-color: white;position: relative;}#sk-container-id-3 div.sk-item::before, #sk-container-id-3 div.sk-parallel-item::before {content: \"\";position: absolute;border-left: 1px solid gray;box-sizing: border-box;top: 0;bottom: 0;left: 50%;z-index: -1;}#sk-container-id-3 div.sk-parallel-item {display: flex;flex-direction: column;z-index: 1;position: relative;background-color: white;}#sk-container-id-3 div.sk-parallel-item:first-child::after {align-self: flex-end;width: 50%;}#sk-container-id-3 div.sk-parallel-item:last-child::after {align-self: flex-start;width: 50%;}#sk-container-id-3 div.sk-parallel-item:only-child::after {width: 0;}#sk-container-id-3 div.sk-dashed-wrapped {border: 1px dashed gray;margin: 0 0.4em 0.5em 0.4em;box-sizing: border-box;padding-bottom: 0.4em;background-color: white;}#sk-container-id-3 div.sk-label label {font-family: monospace;font-weight: bold;display: inline-block;line-height: 1.2em;}#sk-container-id-3 div.sk-label-container {text-align: center;}#sk-container-id-3 div.sk-container {/* jupyter's `normalize.less` sets `[hidden] { display: none; }` but bootstrap.min.css set `[hidden] { display: none !important; }` so we also need the `!important` here to be able to override the default hidden behavior on the sphinx rendered scikit-learn.org. See: https://github.com/scikit-learn/scikit-learn/issues/21755 */display: inline-block !important;position: relative;}#sk-container-id-3 div.sk-text-repr-fallback {display: none;}</style><div id=\"sk-container-id-3\" class=\"sk-top-container\"><div class=\"sk-text-repr-fallback\"><pre>RandomForestClassifier()</pre><b>In a Jupyter environment, please rerun this cell to show the HTML representation or trust the notebook. <br />On GitHub, the HTML representation is unable to render, please try loading this page with nbviewer.org.</b></div><div class=\"sk-container\" hidden><div class=\"sk-item\"><div class=\"sk-estimator sk-toggleable\"><input class=\"sk-toggleable__control sk-hidden--visually\" id=\"sk-estimator-id-3\" type=\"checkbox\" checked><label for=\"sk-estimator-id-3\" class=\"sk-toggleable__label sk-toggleable__label-arrow\">RandomForestClassifier</label><div class=\"sk-toggleable__content\"><pre>RandomForestClassifier()</pre></div></div></div></div></div>"
      ],
      "text/plain": [
       "RandomForestClassifier()"
      ]
     },
     "execution_count": 28,
     "metadata": {},
     "output_type": "execute_result"
    }
   ],
   "source": [
    "rfc = RandomForestClassifier()\n",
    "rfc.fit(X_train,y_train)"
   ]
  },
  {
   "cell_type": "markdown",
   "id": "c7d50e83",
   "metadata": {
    "heading_collapsed": true,
    "hidden": true
   },
   "source": [
    "## 4.5.XGB Classifier"
   ]
  },
  {
   "cell_type": "code",
   "execution_count": 29,
   "id": "6b695cf9",
   "metadata": {
    "ExecuteTime": {
     "end_time": "2022-09-26T15:42:42.530084Z",
     "start_time": "2022-09-26T15:42:41.833086Z"
    },
    "hidden": true
   },
   "outputs": [
    {
     "data": {
      "text/html": [
       "<style>#sk-container-id-4 {color: black;background-color: white;}#sk-container-id-4 pre{padding: 0;}#sk-container-id-4 div.sk-toggleable {background-color: white;}#sk-container-id-4 label.sk-toggleable__label {cursor: pointer;display: block;width: 100%;margin-bottom: 0;padding: 0.3em;box-sizing: border-box;text-align: center;}#sk-container-id-4 label.sk-toggleable__label-arrow:before {content: \"▸\";float: left;margin-right: 0.25em;color: #696969;}#sk-container-id-4 label.sk-toggleable__label-arrow:hover:before {color: black;}#sk-container-id-4 div.sk-estimator:hover label.sk-toggleable__label-arrow:before {color: black;}#sk-container-id-4 div.sk-toggleable__content {max-height: 0;max-width: 0;overflow: hidden;text-align: left;background-color: #f0f8ff;}#sk-container-id-4 div.sk-toggleable__content pre {margin: 0.2em;color: black;border-radius: 0.25em;background-color: #f0f8ff;}#sk-container-id-4 input.sk-toggleable__control:checked~div.sk-toggleable__content {max-height: 200px;max-width: 100%;overflow: auto;}#sk-container-id-4 input.sk-toggleable__control:checked~label.sk-toggleable__label-arrow:before {content: \"▾\";}#sk-container-id-4 div.sk-estimator input.sk-toggleable__control:checked~label.sk-toggleable__label {background-color: #d4ebff;}#sk-container-id-4 div.sk-label input.sk-toggleable__control:checked~label.sk-toggleable__label {background-color: #d4ebff;}#sk-container-id-4 input.sk-hidden--visually {border: 0;clip: rect(1px 1px 1px 1px);clip: rect(1px, 1px, 1px, 1px);height: 1px;margin: -1px;overflow: hidden;padding: 0;position: absolute;width: 1px;}#sk-container-id-4 div.sk-estimator {font-family: monospace;background-color: #f0f8ff;border: 1px dotted black;border-radius: 0.25em;box-sizing: border-box;margin-bottom: 0.5em;}#sk-container-id-4 div.sk-estimator:hover {background-color: #d4ebff;}#sk-container-id-4 div.sk-parallel-item::after {content: \"\";width: 100%;border-bottom: 1px solid gray;flex-grow: 1;}#sk-container-id-4 div.sk-label:hover label.sk-toggleable__label {background-color: #d4ebff;}#sk-container-id-4 div.sk-serial::before {content: \"\";position: absolute;border-left: 1px solid gray;box-sizing: border-box;top: 0;bottom: 0;left: 50%;z-index: 0;}#sk-container-id-4 div.sk-serial {display: flex;flex-direction: column;align-items: center;background-color: white;padding-right: 0.2em;padding-left: 0.2em;position: relative;}#sk-container-id-4 div.sk-item {position: relative;z-index: 1;}#sk-container-id-4 div.sk-parallel {display: flex;align-items: stretch;justify-content: center;background-color: white;position: relative;}#sk-container-id-4 div.sk-item::before, #sk-container-id-4 div.sk-parallel-item::before {content: \"\";position: absolute;border-left: 1px solid gray;box-sizing: border-box;top: 0;bottom: 0;left: 50%;z-index: -1;}#sk-container-id-4 div.sk-parallel-item {display: flex;flex-direction: column;z-index: 1;position: relative;background-color: white;}#sk-container-id-4 div.sk-parallel-item:first-child::after {align-self: flex-end;width: 50%;}#sk-container-id-4 div.sk-parallel-item:last-child::after {align-self: flex-start;width: 50%;}#sk-container-id-4 div.sk-parallel-item:only-child::after {width: 0;}#sk-container-id-4 div.sk-dashed-wrapped {border: 1px dashed gray;margin: 0 0.4em 0.5em 0.4em;box-sizing: border-box;padding-bottom: 0.4em;background-color: white;}#sk-container-id-4 div.sk-label label {font-family: monospace;font-weight: bold;display: inline-block;line-height: 1.2em;}#sk-container-id-4 div.sk-label-container {text-align: center;}#sk-container-id-4 div.sk-container {/* jupyter's `normalize.less` sets `[hidden] { display: none; }` but bootstrap.min.css set `[hidden] { display: none !important; }` so we also need the `!important` here to be able to override the default hidden behavior on the sphinx rendered scikit-learn.org. See: https://github.com/scikit-learn/scikit-learn/issues/21755 */display: inline-block !important;position: relative;}#sk-container-id-4 div.sk-text-repr-fallback {display: none;}</style><div id=\"sk-container-id-4\" class=\"sk-top-container\"><div class=\"sk-text-repr-fallback\"><pre>XGBClassifier(base_score=0.5, booster=&#x27;gbtree&#x27;, callbacks=None,\n",
       "              colsample_bylevel=1, colsample_bynode=1, colsample_bytree=1,\n",
       "              early_stopping_rounds=None, enable_categorical=False,\n",
       "              eval_metric=None, gamma=0, gpu_id=-1, grow_policy=&#x27;depthwise&#x27;,\n",
       "              importance_type=None, interaction_constraints=&#x27;&#x27;,\n",
       "              learning_rate=0.300000012, max_bin=256, max_cat_to_onehot=4,\n",
       "              max_delta_step=0, max_depth=6, max_leaves=0, min_child_weight=1,\n",
       "              missing=nan, monotone_constraints=&#x27;()&#x27;, n_estimators=100,\n",
       "              n_jobs=0, num_parallel_tree=1, predictor=&#x27;auto&#x27;, random_state=0,\n",
       "              reg_alpha=0, reg_lambda=1, ...)</pre><b>In a Jupyter environment, please rerun this cell to show the HTML representation or trust the notebook. <br />On GitHub, the HTML representation is unable to render, please try loading this page with nbviewer.org.</b></div><div class=\"sk-container\" hidden><div class=\"sk-item\"><div class=\"sk-estimator sk-toggleable\"><input class=\"sk-toggleable__control sk-hidden--visually\" id=\"sk-estimator-id-4\" type=\"checkbox\" checked><label for=\"sk-estimator-id-4\" class=\"sk-toggleable__label sk-toggleable__label-arrow\">XGBClassifier</label><div class=\"sk-toggleable__content\"><pre>XGBClassifier(base_score=0.5, booster=&#x27;gbtree&#x27;, callbacks=None,\n",
       "              colsample_bylevel=1, colsample_bynode=1, colsample_bytree=1,\n",
       "              early_stopping_rounds=None, enable_categorical=False,\n",
       "              eval_metric=None, gamma=0, gpu_id=-1, grow_policy=&#x27;depthwise&#x27;,\n",
       "              importance_type=None, interaction_constraints=&#x27;&#x27;,\n",
       "              learning_rate=0.300000012, max_bin=256, max_cat_to_onehot=4,\n",
       "              max_delta_step=0, max_depth=6, max_leaves=0, min_child_weight=1,\n",
       "              missing=nan, monotone_constraints=&#x27;()&#x27;, n_estimators=100,\n",
       "              n_jobs=0, num_parallel_tree=1, predictor=&#x27;auto&#x27;, random_state=0,\n",
       "              reg_alpha=0, reg_lambda=1, ...)</pre></div></div></div></div></div>"
      ],
      "text/plain": [
       "XGBClassifier(base_score=0.5, booster='gbtree', callbacks=None,\n",
       "              colsample_bylevel=1, colsample_bynode=1, colsample_bytree=1,\n",
       "              early_stopping_rounds=None, enable_categorical=False,\n",
       "              eval_metric=None, gamma=0, gpu_id=-1, grow_policy='depthwise',\n",
       "              importance_type=None, interaction_constraints='',\n",
       "              learning_rate=0.300000012, max_bin=256, max_cat_to_onehot=4,\n",
       "              max_delta_step=0, max_depth=6, max_leaves=0, min_child_weight=1,\n",
       "              missing=nan, monotone_constraints='()', n_estimators=100,\n",
       "              n_jobs=0, num_parallel_tree=1, predictor='auto', random_state=0,\n",
       "              reg_alpha=0, reg_lambda=1, ...)"
      ]
     },
     "execution_count": 29,
     "metadata": {},
     "output_type": "execute_result"
    }
   ],
   "source": [
    "xgb = XGBClassifier()\n",
    "xgb.fit(X_train,y_train)"
   ]
  },
  {
   "cell_type": "markdown",
   "id": "b53d13c1",
   "metadata": {},
   "source": [
    "# 5.0.Models Perfomance"
   ]
  },
  {
   "cell_type": "markdown",
   "id": "322fc0c9",
   "metadata": {},
   "source": [
    "## 5.1.Simple Performance"
   ]
  },
  {
   "cell_type": "markdown",
   "id": "c33784bf",
   "metadata": {},
   "source": [
    "### 5.1.1.Logistic Regression"
   ]
  },
  {
   "cell_type": "code",
   "execution_count": 30,
   "id": "158e9bcb",
   "metadata": {
    "ExecuteTime": {
     "end_time": "2022-09-26T15:42:42.817085Z",
     "start_time": "2022-09-26T15:42:42.533084Z"
    }
   },
   "outputs": [
    {
     "name": "stdout",
     "output_type": "stream",
     "text": [
      "Previsões erradas sobre o Total\n",
      "1077 / 3785\n",
      "\n",
      "\n",
      "Accuracy: 71.55%\n",
      "Balacend Acurracy: 70.26%\n",
      "Kappa Score: 41.00%\n",
      "AUC: 0.7026\n",
      "\n",
      "               precision    recall  f1-score   support\n",
      "\n",
      "           0       0.74      0.79      0.76      2185\n",
      "           1       0.68      0.62      0.65      1600\n",
      "\n",
      "    accuracy                           0.72      3785\n",
      "   macro avg       0.71      0.70      0.70      3785\n",
      "weighted avg       0.71      0.72      0.71      3785\n",
      "\n"
     ]
    },
    {
     "data": {
      "image/png": "[encoded data removed]",
      "text/plain": [
       "<Figure size 600x600 with 2 Axes>"
      ]
     },
     "metadata": {},
     "output_type": "display_data"
    }
   ],
   "source": [
    "results_lc = lc.predict(X_test)\n",
    "model_perfomance_class(y_test,results_lc,show=True)"
   ]
  },
  {
   "cell_type": "markdown",
   "id": "2789eb39",
   "metadata": {
    "heading_collapsed": true
   },
   "source": [
    "### 5.1.2.Redes Neurais"
   ]
  },
  {
   "cell_type": "code",
   "execution_count": 31,
   "id": "8e7c4cfd",
   "metadata": {
    "ExecuteTime": {
     "end_time": "2022-09-26T15:42:43.181820Z",
     "start_time": "2022-09-26T15:42:42.820086Z"
    },
    "hidden": true
   },
   "outputs": [
    {
     "name": "stdout",
     "output_type": "stream",
     "text": [
      "119/119 [==============================] - 0s 1ms/step\n",
      "Previsões erradas sobre o Total\n",
      "879 / 3785\n",
      "\n",
      "\n",
      "Accuracy: 76.78%\n",
      "Balacend Acurracy: 75.47%\n",
      "Kappa Score: 51.70%\n",
      "AUC: 0.7547\n",
      "\n",
      "               precision    recall  f1-score   support\n",
      "\n",
      "           0       0.78      0.84      0.81      2185\n",
      "           1       0.75      0.67      0.71      1600\n",
      "\n",
      "    accuracy                           0.77      3785\n",
      "   macro avg       0.76      0.75      0.76      3785\n",
      "weighted avg       0.77      0.77      0.77      3785\n",
      "\n"
     ]
    }
   ],
   "source": [
    "previsoes_rnn = modelo.predict(X_test)\n",
    "yhat_nn = ohe.inverse_transform(previsoes_rnn)\n",
    "yhat = yhat_nn.reshape(1,-1)[0]\n",
    "model_perfomance_class(y_test_nn,yhat)"
   ]
  },
  {
   "cell_type": "markdown",
   "id": "03ce0988",
   "metadata": {},
   "source": [
    "### 5.1.3.LGBM"
   ]
  },
  {
   "cell_type": "code",
   "execution_count": 32,
   "id": "d8ba2888",
   "metadata": {
    "ExecuteTime": {
     "end_time": "2022-09-26T15:42:43.512804Z",
     "start_time": "2022-09-26T15:42:43.184805Z"
    }
   },
   "outputs": [
    {
     "name": "stdout",
     "output_type": "stream",
     "text": [
      "Previsões erradas sobre o Total\n",
      "620 / 3785\n",
      "\n",
      "\n",
      "Accuracy: 83.62%\n",
      "Balacend Acurracy: 82.88%\n",
      "Kappa Score: 66.21%\n",
      "AUC: 0.8288\n",
      "\n",
      "               precision    recall  f1-score   support\n",
      "\n",
      "           0       0.85      0.88      0.86      2185\n",
      "           1       0.82      0.78      0.80      1600\n",
      "\n",
      "    accuracy                           0.84      3785\n",
      "   macro avg       0.83      0.83      0.83      3785\n",
      "weighted avg       0.84      0.84      0.84      3785\n",
      "\n"
     ]
    },
    {
     "data": {
      "image/png": "[encoded data removed]",
      "text/plain": [
       "<Figure size 600x600 with 2 Axes>"
      ]
     },
     "metadata": {},
     "output_type": "display_data"
    }
   ],
   "source": [
    "previsoes_lgbm = lgbm.predict(X_test)\n",
    "model_perfomance_class(y_test,previsoes_lgbm,show=True)"
   ]
  },
  {
   "cell_type": "markdown",
   "id": "0615c6da",
   "metadata": {},
   "source": [
    "### 5.1.4.Random Forest"
   ]
  },
  {
   "cell_type": "code",
   "execution_count": 33,
   "id": "fc2d5c45",
   "metadata": {
    "ExecuteTime": {
     "end_time": "2022-09-26T15:42:43.910806Z",
     "start_time": "2022-09-26T15:42:43.516805Z"
    }
   },
   "outputs": [
    {
     "name": "stdout",
     "output_type": "stream",
     "text": [
      "Previsões erradas sobre o Total\n",
      "554 / 3785\n",
      "\n",
      "\n",
      "Accuracy: 85.36%\n",
      "Balacend Acurracy: 84.77%\n",
      "Kappa Score: 69.87%\n",
      "AUC: 0.8477\n",
      "\n",
      "               precision    recall  f1-score   support\n",
      "\n",
      "           0       0.86      0.89      0.87      2185\n",
      "           1       0.84      0.81      0.82      1600\n",
      "\n",
      "    accuracy                           0.85      3785\n",
      "   macro avg       0.85      0.85      0.85      3785\n",
      "weighted avg       0.85      0.85      0.85      3785\n",
      "\n"
     ]
    },
    {
     "data": {
      "image/png": "[encoded data removed]",
      "text/plain": [
       "<Figure size 600x600 with 2 Axes>"
      ]
     },
     "metadata": {},
     "output_type": "display_data"
    }
   ],
   "source": [
    "previsoes_rfc = rfc.predict(X_test)\n",
    "model_perfomance_class(y_test,previsoes_rfc,show=True)"
   ]
  },
  {
   "cell_type": "markdown",
   "id": "64b86acc",
   "metadata": {},
   "source": [
    "### 5.1.5.Xgb"
   ]
  },
  {
   "cell_type": "code",
   "execution_count": 34,
   "id": "c5ea9867",
   "metadata": {
    "ExecuteTime": {
     "end_time": "2022-09-26T15:42:44.213804Z",
     "start_time": "2022-09-26T15:42:43.914805Z"
    }
   },
   "outputs": [
    {
     "name": "stdout",
     "output_type": "stream",
     "text": [
      "Previsões erradas sobre o Total\n",
      "591 / 3785\n",
      "\n",
      "\n",
      "Accuracy: 84.39%\n",
      "Balacend Acurracy: 83.82%\n",
      "Kappa Score: 67.89%\n",
      "AUC: 0.8382\n",
      "\n",
      "               precision    recall  f1-score   support\n",
      "\n",
      "           0       0.86      0.87      0.87      2185\n",
      "           1       0.82      0.80      0.81      1600\n",
      "\n",
      "    accuracy                           0.84      3785\n",
      "   macro avg       0.84      0.84      0.84      3785\n",
      "weighted avg       0.84      0.84      0.84      3785\n",
      "\n"
     ]
    },
    {
     "data": {
      "image/png": "[encoded data removed]",
      "text/plain": [
       "<Figure size 600x600 with 2 Axes>"
      ]
     },
     "metadata": {},
     "output_type": "display_data"
    }
   ],
   "source": [
    "previsoes_xgb = xgb.predict(X_test)\n",
    "model_perfomance_class(y_test,previsoes_xgb,show=True)"
   ]
  },
  {
   "cell_type": "markdown",
   "id": "ba86f969",
   "metadata": {},
   "source": [
    "## 5.2.Cross Validation Performance\n"
   ]
  },
  {
   "cell_type": "markdown",
   "id": "2bbe994d",
   "metadata": {},
   "source": [
    "### 5.2.1.Logistic Regression"
   ]
  },
  {
   "cell_type": "code",
   "execution_count": 35,
   "id": "e66efeed",
   "metadata": {
    "ExecuteTime": {
     "end_time": "2022-09-26T15:42:44.436041Z",
     "start_time": "2022-09-26T15:42:44.216815Z"
    },
    "scrolled": true
   },
   "outputs": [
    {
     "name": "stdout",
     "output_type": "stream",
     "text": [
      "Folds: 1/10\n",
      "Folds: 2/10\n",
      "Folds: 3/10\n",
      "Folds: 4/10\n",
      "Folds: 5/10\n",
      "Folds: 6/10\n",
      "Folds: 7/10\n",
      "Folds: 8/10\n",
      "Folds: 9/10\n",
      "Folds: 10/10\n"
     ]
    },
    {
     "data": {
      "text/html": [
       "<div>\n",
       "<style scoped>\n",
       "    .dataframe tbody tr th:only-of-type {\n",
       "        vertical-align: middle;\n",
       "    }\n",
       "\n",
       "    .dataframe tbody tr th {\n",
       "        vertical-align: top;\n",
       "    }\n",
       "\n",
       "    .dataframe thead th {\n",
       "        text-align: right;\n",
       "    }\n",
       "</style>\n",
       "<table border=\"1\" class=\"dataframe\">\n",
       "  <thead>\n",
       "    <tr style=\"text-align: right;\">\n",
       "      <th></th>\n",
       "      <th>Model Name</th>\n",
       "      <th>acurracy_score</th>\n",
       "      <th>Balacend_Acurracy</th>\n",
       "      <th>Kappa_Score</th>\n",
       "      <th>AUC</th>\n",
       "    </tr>\n",
       "  </thead>\n",
       "  <tbody>\n",
       "    <tr>\n",
       "      <th>0</th>\n",
       "      <td>LogisticRegression</td>\n",
       "      <td>71.00%+/- 1.00%</td>\n",
       "      <td>70.00%+/- 1.00%</td>\n",
       "      <td>40.00%+/- 0.00%</td>\n",
       "      <td>70.00%+/- 1.00%</td>\n",
       "    </tr>\n",
       "  </tbody>\n",
       "</table>\n",
       "</div>"
      ],
      "text/plain": [
       "           Model Name   acurracy_score Balacend_Acurracy      Kappa_Score  \\\n",
       "0  LogisticRegression  71.00%+/- 1.00%   70.00%+/- 1.00%  40.00%+/- 0.00%   \n",
       "\n",
       "               AUC  \n",
       "0  70.00%+/- 1.00%  "
      ]
     },
     "execution_count": 35,
     "metadata": {},
     "output_type": "execute_result"
    }
   ],
   "source": [
    "lc_cv = LogisticRegression(C=0.01)\n",
    "cross_validation_kfold_class('LogisticRegression',lc_cv,10,X_train,y_train,verbose=True)"
   ]
  },
  {
   "cell_type": "markdown",
   "id": "6eed26ea",
   "metadata": {},
   "source": [
    "### 5.2.2.LGBM Classifier"
   ]
  },
  {
   "cell_type": "code",
   "execution_count": 36,
   "id": "c7098654",
   "metadata": {
    "ExecuteTime": {
     "end_time": "2022-09-26T15:42:45.850036Z",
     "start_time": "2022-09-26T15:42:44.439041Z"
    }
   },
   "outputs": [
    {
     "name": "stdout",
     "output_type": "stream",
     "text": [
      "Folds: 1/10\n",
      "Folds: 2/10\n",
      "Folds: 3/10\n",
      "Folds: 4/10\n",
      "Folds: 5/10\n",
      "Folds: 6/10\n",
      "Folds: 7/10\n",
      "Folds: 8/10\n",
      "Folds: 9/10\n",
      "Folds: 10/10\n"
     ]
    },
    {
     "data": {
      "text/html": [
       "<div>\n",
       "<style scoped>\n",
       "    .dataframe tbody tr th:only-of-type {\n",
       "        vertical-align: middle;\n",
       "    }\n",
       "\n",
       "    .dataframe tbody tr th {\n",
       "        vertical-align: top;\n",
       "    }\n",
       "\n",
       "    .dataframe thead th {\n",
       "        text-align: right;\n",
       "    }\n",
       "</style>\n",
       "<table border=\"1\" class=\"dataframe\">\n",
       "  <thead>\n",
       "    <tr style=\"text-align: right;\">\n",
       "      <th></th>\n",
       "      <th>Model Name</th>\n",
       "      <th>acurracy_score</th>\n",
       "      <th>Balacend_Acurracy</th>\n",
       "      <th>Kappa_Score</th>\n",
       "      <th>AUC</th>\n",
       "    </tr>\n",
       "  </thead>\n",
       "  <tbody>\n",
       "    <tr>\n",
       "      <th>0</th>\n",
       "      <td>LGBM Classifier</td>\n",
       "      <td>83.00%+/- 1.00%</td>\n",
       "      <td>83.00%+/- 1.00%</td>\n",
       "      <td>66.00%+/- 0.00%</td>\n",
       "      <td>83.00%+/- 1.00%</td>\n",
       "    </tr>\n",
       "  </tbody>\n",
       "</table>\n",
       "</div>"
      ],
      "text/plain": [
       "        Model Name   acurracy_score Balacend_Acurracy      Kappa_Score  \\\n",
       "0  LGBM Classifier  83.00%+/- 1.00%   83.00%+/- 1.00%  66.00%+/- 0.00%   \n",
       "\n",
       "               AUC  \n",
       "0  83.00%+/- 1.00%  "
      ]
     },
     "execution_count": 36,
     "metadata": {},
     "output_type": "execute_result"
    }
   ],
   "source": [
    "lgbm_cv = LGBMClassifier()\n",
    "cross_validation_kfold_class('LGBM Classifier',lgbm_cv,10,X_train,y_train,verbose=True)"
   ]
  },
  {
   "cell_type": "markdown",
   "id": "71b15912",
   "metadata": {},
   "source": [
    "### 5.2.3Random Forest Classifier"
   ]
  },
  {
   "cell_type": "code",
   "execution_count": 37,
   "id": "e1cfcdad",
   "metadata": {
    "ExecuteTime": {
     "end_time": "2022-09-26T15:42:58.061039Z",
     "start_time": "2022-09-26T15:42:45.853041Z"
    }
   },
   "outputs": [
    {
     "name": "stdout",
     "output_type": "stream",
     "text": [
      "Folds: 1/10\n",
      "Folds: 2/10\n",
      "Folds: 3/10\n",
      "Folds: 4/10\n",
      "Folds: 5/10\n",
      "Folds: 6/10\n",
      "Folds: 7/10\n",
      "Folds: 8/10\n",
      "Folds: 9/10\n",
      "Folds: 10/10\n"
     ]
    },
    {
     "data": {
      "text/html": [
       "<div>\n",
       "<style scoped>\n",
       "    .dataframe tbody tr th:only-of-type {\n",
       "        vertical-align: middle;\n",
       "    }\n",
       "\n",
       "    .dataframe tbody tr th {\n",
       "        vertical-align: top;\n",
       "    }\n",
       "\n",
       "    .dataframe thead th {\n",
       "        text-align: right;\n",
       "    }\n",
       "</style>\n",
       "<table border=\"1\" class=\"dataframe\">\n",
       "  <thead>\n",
       "    <tr style=\"text-align: right;\">\n",
       "      <th></th>\n",
       "      <th>Model Name</th>\n",
       "      <th>acurracy_score</th>\n",
       "      <th>Balacend_Acurracy</th>\n",
       "      <th>Kappa_Score</th>\n",
       "      <th>AUC</th>\n",
       "    </tr>\n",
       "  </thead>\n",
       "  <tbody>\n",
       "    <tr>\n",
       "      <th>0</th>\n",
       "      <td>Random Forest Classifier</td>\n",
       "      <td>86.00%+/- 1.00%</td>\n",
       "      <td>85.00%+/- 1.00%</td>\n",
       "      <td>70.00%+/- 0.00%</td>\n",
       "      <td>85.00%+/- 1.00%</td>\n",
       "    </tr>\n",
       "  </tbody>\n",
       "</table>\n",
       "</div>"
      ],
      "text/plain": [
       "                 Model Name   acurracy_score Balacend_Acurracy  \\\n",
       "0  Random Forest Classifier  86.00%+/- 1.00%   85.00%+/- 1.00%   \n",
       "\n",
       "       Kappa_Score              AUC  \n",
       "0  70.00%+/- 0.00%  85.00%+/- 1.00%  "
      ]
     },
     "execution_count": 37,
     "metadata": {},
     "output_type": "execute_result"
    }
   ],
   "source": [
    "rfc_cv = RandomForestClassifier()\n",
    "cross_validation_kfold_class('Random Forest Classifier',rfc_cv,10,X_train,y_train,verbose=True)"
   ]
  },
  {
   "cell_type": "markdown",
   "id": "712887fe",
   "metadata": {
    "heading_collapsed": true
   },
   "source": [
    "### 5.2.4.XGB Classifier"
   ]
  },
  {
   "cell_type": "code",
   "execution_count": 38,
   "id": "adb475eb",
   "metadata": {
    "ExecuteTime": {
     "end_time": "2022-09-26T15:43:04.015036Z",
     "start_time": "2022-09-26T15:42:58.065040Z"
    },
    "hidden": true
   },
   "outputs": [
    {
     "name": "stdout",
     "output_type": "stream",
     "text": [
      "Folds: 1/10\n",
      "Folds: 2/10\n",
      "Folds: 3/10\n",
      "Folds: 4/10\n",
      "Folds: 5/10\n",
      "Folds: 6/10\n",
      "Folds: 7/10\n",
      "Folds: 8/10\n",
      "Folds: 9/10\n",
      "Folds: 10/10\n"
     ]
    },
    {
     "data": {
      "text/html": [
       "<div>\n",
       "<style scoped>\n",
       "    .dataframe tbody tr th:only-of-type {\n",
       "        vertical-align: middle;\n",
       "    }\n",
       "\n",
       "    .dataframe tbody tr th {\n",
       "        vertical-align: top;\n",
       "    }\n",
       "\n",
       "    .dataframe thead th {\n",
       "        text-align: right;\n",
       "    }\n",
       "</style>\n",
       "<table border=\"1\" class=\"dataframe\">\n",
       "  <thead>\n",
       "    <tr style=\"text-align: right;\">\n",
       "      <th></th>\n",
       "      <th>Model Name</th>\n",
       "      <th>acurracy_score</th>\n",
       "      <th>Balacend_Acurracy</th>\n",
       "      <th>Kappa_Score</th>\n",
       "      <th>AUC</th>\n",
       "    </tr>\n",
       "  </thead>\n",
       "  <tbody>\n",
       "    <tr>\n",
       "      <th>0</th>\n",
       "      <td>XGB Classifier</td>\n",
       "      <td>84.00%+/- 1.00%</td>\n",
       "      <td>84.00%+/- 1.00%</td>\n",
       "      <td>68.00%+/- 0.00%</td>\n",
       "      <td>84.00%+/- 1.00%</td>\n",
       "    </tr>\n",
       "  </tbody>\n",
       "</table>\n",
       "</div>"
      ],
      "text/plain": [
       "       Model Name   acurracy_score Balacend_Acurracy      Kappa_Score  \\\n",
       "0  XGB Classifier  84.00%+/- 1.00%   84.00%+/- 1.00%  68.00%+/- 0.00%   \n",
       "\n",
       "               AUC  \n",
       "0  84.00%+/- 1.00%  "
      ]
     },
     "execution_count": 38,
     "metadata": {},
     "output_type": "execute_result"
    }
   ],
   "source": [
    "xgb_cv = XGBClassifier()\n",
    "cross_validation_kfold_class('XGB Classifier',xgb_cv,10,X_train,y_train,verbose=True)"
   ]
  },
  {
   "cell_type": "markdown",
   "id": "9ebbc69b",
   "metadata": {},
   "source": [
    "### Resultado\n",
    "\n",
    "**Modelo Escolhido:** Vou escolher seguir em frente com o modelo **Random Forest Classifier**\n",
    "\n",
    "**Motivo:** E um modelo com uma exelente perfomance, rápido e tenho uma função de tunning feita para esse modelo, por isso vou seguir em frente com ele para a etapa de tunning."
   ]
  },
  {
   "cell_type": "markdown",
   "id": "62c81d09",
   "metadata": {},
   "source": [
    "# 6.0.Tunning do modelo escolhido\n",
    "\n",
    "**Resultado:** Após aplicar um tunning do modelo, modificando vários parâmetros, percebi que os parâmetros padrão deles são os melhores, nenhum modelo do tunning foi superior ao padrão, por isso seguirei com o modelo padrão da random forest."
   ]
  },
  {
   "cell_type": "code",
   "execution_count": 39,
   "id": "1ad501b4",
   "metadata": {
    "ExecuteTime": {
     "end_time": "2022-09-26T15:43:21.869044Z",
     "start_time": "2022-09-26T15:43:04.018041Z"
    }
   },
   "outputs": [
    {
     "name": "stdout",
     "output_type": "stream",
     "text": [
      "Previsões erradas sobre o Total\n",
      "555 / 3785\n",
      "\n",
      "\n",
      "Accuracy: 85.34%\n",
      "Balacend Acurracy: 84.83%\n",
      "Kappa Score: 69.87%\n",
      "AUC: 0.8483\n",
      "\n",
      "               precision    recall  f1-score   support\n",
      "\n",
      "           0       0.87      0.88      0.87      2185\n",
      "           1       0.83      0.82      0.82      1600\n",
      "\n",
      "    accuracy                           0.85      3785\n",
      "   macro avg       0.85      0.85      0.85      3785\n",
      "weighted avg       0.85      0.85      0.85      3785\n",
      "\n"
     ]
    },
    {
     "data": {
      "image/png": "[encoded data removed]",
      "text/plain": [
       "<Figure size 600x600 with 2 Axes>"
      ]
     },
     "metadata": {},
     "output_type": "display_data"
    }
   ],
   "source": [
    "random_class = RandomForestClassifier(n_estimators=1200,random_state=42) #Pelo visto um pequeno aumento no numero de estimators melhora o modelo.\n",
    "random_class.fit(X_train,y_train)\n",
    "model_perfomance_class(y_test,random_class.predict(X_test),show=True)"
   ]
  },
  {
   "cell_type": "code",
   "execution_count": 40,
   "id": "01a4bc6e",
   "metadata": {
    "ExecuteTime": {
     "end_time": "2022-09-26T15:43:29.574244Z",
     "start_time": "2022-09-26T15:43:21.874039Z"
    }
   },
   "outputs": [],
   "source": [
    "#Salvando o modelo\n",
    "joblib.dump(random_class,open('modelo/custumer_churn_random_forest_class.joblib','wb'))"
   ]
  },
  {
   "cell_type": "markdown",
   "id": "2f89a2be",
   "metadata": {},
   "source": [
    "**O que foi feito nessa etapa?**\n",
    "- Machine Learning Models:\n",
    "    - Essa e uma etapa de teste que visa encontrar o melhor modelo que se adéque aos meus dados, para isso testei diversos modelos e até redes neurais, e encontrei o melhor modelo com uma performance de 87%, um excelente resultado.\n",
    "    \n",
    "**O que será feito na próxima etapa?**\n",
    "- Interpretação do erro:\n",
    "    - Analisarei o comportamento do erro, analisar graficamente como ele esta distribuído o cliente churn, comparar com o real e analisar a distribuição  do erro.\n",
    "\n",
    "    - Caso houvesse alguma feature numérica de valor nos dados, eu poderia analisar o quanto o modelo trará de lucro para a empresa, porem como e um projeto de classificação não sera possível.\n",
    "\n",
    "**Próxima etapa:**\n",
    "Interpretação do erro"
   ]
  }
 ],
 "metadata": {
  "kernelspec": {
   "display_name": "Python 3 (ipykernel)",
   "language": "python",
   "name": "python3"
  },
  "language_info": {
   "codemirror_mode": {
    "name": "ipython",
    "version": 3
   },
   "file_extension": ".py",
   "mimetype": "text/x-python",
   "name": "python",
   "nbconvert_exporter": "python",
   "pygments_lexer": "ipython3",
   "version": "3.10.4"
  },
  "toc": {
   "base_numbering": "0",
   "nav_menu": {},
   "number_sections": true,
   "sideBar": true,
   "skip_h1_title": false,
   "title_cell": "Table of Contents",
   "title_sidebar": "Contents",
   "toc_cell": false,
   "toc_position": {},
   "toc_section_display": true,
   "toc_window_display": false
  },
  "varInspector": {
   "cols": {
    "lenName": 16,
    "lenType": 16,
    "lenVar": 40
   },
   "kernels_config": {
    "python": {
     "delete_cmd_postfix": "",
     "delete_cmd_prefix": "del ",
     "library": "var_list.py",
     "varRefreshCmd": "print(var_dic_list())"
    },
    "r": {
     "delete_cmd_postfix": ") ",
     "delete_cmd_prefix": "rm(",
     "library": "var_list.r",
     "varRefreshCmd": "cat(var_dic_list()) "
    }
   },
   "types_to_exclude": [
    "module",
    "function",
    "builtin_function_or_method",
    "instance",
    "_Feature"
   ],
   "window_display": false
  }
 },
 "nbformat": 4,
 "nbformat_minor": 5
}
