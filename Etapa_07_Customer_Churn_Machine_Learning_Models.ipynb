{
 "cells": [
  {
   "cell_type": "markdown",
   "id": "818b5ea4",
   "metadata": {},
   "source": [
    "# 0.0.Entendimento do projeto\n",
    "\n",
    "**Objetivo do projeto, como ele sera resolvido e muitas outras informações contidas no arquivo PDS(Plano de Solução).**\n",
    "\n",
    "\n",
    "**OBS:** Como realizei diversas análises e cálculos no notebook anterior e salvei os dados balanceados, decidir apenas deixar esse notebook com o enconder dos dados e assim por diante nos modelos de ML, será mais rápido e mais logico trabalhar assim."
   ]
  },
  {
   "cell_type": "markdown",
   "id": "92acd22b",
   "metadata": {},
   "source": [
    "# 1.0.Impots"
   ]
  },
  {
   "cell_type": "code",
   "execution_count": 85,
   "id": "1eb77291",
   "metadata": {
    "ExecuteTime": {
     "end_time": "2022-09-23T15:37:37.502980Z",
     "start_time": "2022-09-23T15:37:37.479983Z"
    }
   },
   "outputs": [],
   "source": [
    "#Manipulação de dados\n",
    "import pandas as pd\n",
    "import numpy as np\n",
    "import sys , os\n",
    "import joblib\n",
    "\n",
    "#Visualização de dados\n",
    "import matplotlib.pyplot as plt\n",
    "import seaborn as sns\n",
    "\n",
    "#SQl\n",
    "import sqlalchemy\n",
    "\n",
    "#Machine Learning Models\n",
    "from sklearn.model_selection import train_test_split\n",
    "from sklearn.linear_model import LogisticRegression\n",
    "from sklearn.ensemble import RandomForestClassifier\n",
    "from lightgbm import LGBMClassifier\n",
    "from xgboost import XGBClassifier\n",
    "\n",
    "#Redes Neurais\n",
    "import tensorflow as tf\n",
    "from keras.layers import Dense, Dropout, activation\n",
    "from keras.optimizers import Adam\n",
    "from keras import Sequential\n",
    "\n",
    "#Transformação dos dados\n",
    "from sklearn.preprocessing import OneHotEncoder\n",
    "from sklearn.compose import ColumnTransformer\n",
    "from sklearn.preprocessing import RobustScaler\n",
    "\n",
    "#Rebalanceamento de dados\n",
    "from imblearn import combine as c\n",
    "\n",
    "#Seleção das melhores colunas\n",
    "from sklearn.feature_selection import SelectKBest\n",
    "from sklearn.feature_selection import chi2\n",
    "from sklearn.feature_selection import RFE\n",
    "\n",
    "# Estatística\n",
    "import scipy\n",
    "from scipy.stats import normaltest\n",
    "from scipy.stats import chi2_contingency\n",
    "\n",
    "\n",
    "#filterwarnings\n",
    "import warnings\n",
    "warnings.filterwarnings('ignore')\n",
    "\n",
    "#Show all columns\n",
    "pd.set_option('display.max_columns', None)"
   ]
  },
  {
   "cell_type": "markdown",
   "id": "77ce9b8b",
   "metadata": {},
   "source": [
    "## 1.1.Funções de ajuda"
   ]
  },
  {
   "cell_type": "code",
   "execution_count": 2,
   "id": "c4e243f4",
   "metadata": {
    "ExecuteTime": {
     "end_time": "2022-09-23T15:04:07.814258Z",
     "start_time": "2022-09-23T15:04:07.063965Z"
    }
   },
   "outputs": [],
   "source": [
    "sys.path.append(os.path.abspath(os.path.join('modulos')))\n",
    "\n",
    "#Funções Gerais\n",
    "from functions_help import data_dimensions,analise_descritiva_dos_dados\n",
    "\n",
    "#Validação\n",
    "from cross_validation import cross_validation_kfold_class\n",
    "\n",
    "from visualization import sns_histplot\n",
    "\n",
    "\n",
    "#Avaliar perfomance\n",
    "from models_performance import model_perfomance_class\n",
    "\n",
    "#Feature Selection\n",
    "from feature_selection import selecao_univariada,eliminacao_recursiva_rfe, relevancia_iv, boruta_selection"
   ]
  },
  {
   "cell_type": "markdown",
   "id": "d6548fb3",
   "metadata": {
    "heading_collapsed": true
   },
   "source": [
    "# 2.0.Enconder dos dados"
   ]
  },
  {
   "cell_type": "code",
   "execution_count": 3,
   "id": "b3479b0b",
   "metadata": {
    "ExecuteTime": {
     "end_time": "2022-09-23T15:04:08.898953Z",
     "start_time": "2022-09-23T15:04:07.817251Z"
    },
    "hidden": true
   },
   "outputs": [
    {
     "data": {
      "text/html": [
       "<div>\n",
       "<style scoped>\n",
       "    .dataframe tbody tr th:only-of-type {\n",
       "        vertical-align: middle;\n",
       "    }\n",
       "\n",
       "    .dataframe tbody tr th {\n",
       "        vertical-align: top;\n",
       "    }\n",
       "\n",
       "    .dataframe thead th {\n",
       "        text-align: right;\n",
       "    }\n",
       "</style>\n",
       "<table border=\"1\" class=\"dataframe\">\n",
       "  <thead>\n",
       "    <tr style=\"text-align: right;\">\n",
       "      <th></th>\n",
       "      <th>credit_score</th>\n",
       "      <th>Tenure</th>\n",
       "      <th>Balance</th>\n",
       "      <th>num_of_products</th>\n",
       "      <th>isActiveMember</th>\n",
       "      <th>estimated_salary</th>\n",
       "      <th>geography</th>\n",
       "      <th>gender</th>\n",
       "      <th>age_cat</th>\n",
       "      <th>exited</th>\n",
       "    </tr>\n",
       "  </thead>\n",
       "  <tbody>\n",
       "    <tr>\n",
       "      <th>0</th>\n",
       "      <td>612.0</td>\n",
       "      <td>1.0</td>\n",
       "      <td>0.00</td>\n",
       "      <td>1.0</td>\n",
       "      <td>1.0</td>\n",
       "      <td>83256.26</td>\n",
       "      <td>Spain</td>\n",
       "      <td>Male</td>\n",
       "      <td>29-38</td>\n",
       "      <td>1</td>\n",
       "    </tr>\n",
       "    <tr>\n",
       "      <th>1</th>\n",
       "      <td>601.0</td>\n",
       "      <td>1.0</td>\n",
       "      <td>64430.06</td>\n",
       "      <td>2.0</td>\n",
       "      <td>1.0</td>\n",
       "      <td>96517.97</td>\n",
       "      <td>France</td>\n",
       "      <td>Male</td>\n",
       "      <td>39-48</td>\n",
       "      <td>0</td>\n",
       "    </tr>\n",
       "    <tr>\n",
       "      <th>2</th>\n",
       "      <td>627.0</td>\n",
       "      <td>6.0</td>\n",
       "      <td>57809.32</td>\n",
       "      <td>1.0</td>\n",
       "      <td>0.0</td>\n",
       "      <td>188258.49</td>\n",
       "      <td>Germany</td>\n",
       "      <td>Female</td>\n",
       "      <td>29-38</td>\n",
       "      <td>0</td>\n",
       "    </tr>\n",
       "    <tr>\n",
       "      <th>3</th>\n",
       "      <td>745.0</td>\n",
       "      <td>10.0</td>\n",
       "      <td>96048.55</td>\n",
       "      <td>1.0</td>\n",
       "      <td>0.0</td>\n",
       "      <td>74510.65</td>\n",
       "      <td>Germany</td>\n",
       "      <td>Male</td>\n",
       "      <td>39-48</td>\n",
       "      <td>0</td>\n",
       "    </tr>\n",
       "    <tr>\n",
       "      <th>4</th>\n",
       "      <td>532.0</td>\n",
       "      <td>9.0</td>\n",
       "      <td>0.00</td>\n",
       "      <td>2.0</td>\n",
       "      <td>0.0</td>\n",
       "      <td>30583.95</td>\n",
       "      <td>France</td>\n",
       "      <td>Male</td>\n",
       "      <td>29-38</td>\n",
       "      <td>0</td>\n",
       "    </tr>\n",
       "  </tbody>\n",
       "</table>\n",
       "</div>"
      ],
      "text/plain": [
       "   credit_score  Tenure   Balance  num_of_products  isActiveMember  \\\n",
       "0         612.0     1.0      0.00              1.0             1.0   \n",
       "1         601.0     1.0  64430.06              2.0             1.0   \n",
       "2         627.0     6.0  57809.32              1.0             0.0   \n",
       "3         745.0    10.0  96048.55              1.0             0.0   \n",
       "4         532.0     9.0      0.00              2.0             0.0   \n",
       "\n",
       "   estimated_salary geography  gender age_cat  exited  \n",
       "0          83256.26     Spain    Male   29-38       1  \n",
       "1          96517.97    France    Male   39-48       0  \n",
       "2         188258.49   Germany  Female   29-38       0  \n",
       "3          74510.65   Germany    Male   39-48       0  \n",
       "4          30583.95    France    Male   29-38       0  "
      ]
     },
     "execution_count": 3,
     "metadata": {},
     "output_type": "execute_result"
    }
   ],
   "source": [
    "df2 = pd.read_feather('datasets/dados_balanceados.feather')\n",
    "df2.head()"
   ]
  },
  {
   "cell_type": "code",
   "execution_count": 4,
   "id": "72f7c1ea",
   "metadata": {
    "ExecuteTime": {
     "end_time": "2022-09-23T15:04:08.914956Z",
     "start_time": "2022-09-23T15:04:08.901953Z"
    },
    "hidden": true
   },
   "outputs": [],
   "source": [
    "#Separando os dados entre numéricos e categoricos, pois será necessario para realizar as transformações\n",
    "\n",
    "attributes_num = df2.select_dtypes(include=['int64','float64']).drop('exited',axis=1)\n",
    "attibutes_cat  = df2.select_dtypes(include=['object'])\n",
    "\n",
    "col_num = attributes_num.columns.tolist()\n",
    "col_cat = attibutes_cat.columns.tolist()"
   ]
  },
  {
   "cell_type": "markdown",
   "id": "753bb0ce",
   "metadata": {
    "heading_collapsed": true,
    "hidden": true
   },
   "source": [
    "## 2.1.Fazendo Rescaling nos dados\n",
    "\n",
    "**Rescaling escolhido: RobustScaler**\n",
    "\n",
    "**Motivo:** Acredito que ele e o melhor, pois foi feito para lidar com grandes distribuições de dados, pegando os valores de quartil para realizar seus cálculos, assim sendo pouco influenciado para valor outliers nos dados."
   ]
  },
  {
   "cell_type": "code",
   "execution_count": 5,
   "id": "d10b845f",
   "metadata": {
    "ExecuteTime": {
     "end_time": "2022-09-23T15:04:09.103465Z",
     "start_time": "2022-09-23T15:04:08.919958Z"
    },
    "hidden": true
   },
   "outputs": [],
   "source": [
    "rs = RobustScaler()"
   ]
  },
  {
   "cell_type": "code",
   "execution_count": 6,
   "id": "b46026c0",
   "metadata": {
    "ExecuteTime": {
     "end_time": "2022-09-23T15:04:09.351708Z",
     "start_time": "2022-09-23T15:04:09.106461Z"
    },
    "hidden": true
   },
   "outputs": [
    {
     "data": {
      "text/html": [
       "<div>\n",
       "<style scoped>\n",
       "    .dataframe tbody tr th:only-of-type {\n",
       "        vertical-align: middle;\n",
       "    }\n",
       "\n",
       "    .dataframe tbody tr th {\n",
       "        vertical-align: top;\n",
       "    }\n",
       "\n",
       "    .dataframe thead th {\n",
       "        text-align: right;\n",
       "    }\n",
       "</style>\n",
       "<table border=\"1\" class=\"dataframe\">\n",
       "  <thead>\n",
       "    <tr style=\"text-align: right;\">\n",
       "      <th></th>\n",
       "      <th>credit_score</th>\n",
       "      <th>Tenure</th>\n",
       "      <th>Balance</th>\n",
       "      <th>num_of_products</th>\n",
       "      <th>isActiveMember</th>\n",
       "      <th>estimated_salary</th>\n",
       "      <th>geography</th>\n",
       "      <th>gender</th>\n",
       "      <th>age_cat</th>\n",
       "      <th>exited</th>\n",
       "    </tr>\n",
       "  </thead>\n",
       "  <tbody>\n",
       "    <tr>\n",
       "      <th>0</th>\n",
       "      <td>-0.304518</td>\n",
       "      <td>-1.00</td>\n",
       "      <td>-0.798963</td>\n",
       "      <td>0.0</td>\n",
       "      <td>0.720705</td>\n",
       "      <td>-0.181422</td>\n",
       "      <td>Spain</td>\n",
       "      <td>Male</td>\n",
       "      <td>29-38</td>\n",
       "      <td>1</td>\n",
       "    </tr>\n",
       "    <tr>\n",
       "      <th>1</th>\n",
       "      <td>-0.390407</td>\n",
       "      <td>-1.00</td>\n",
       "      <td>-0.298145</td>\n",
       "      <td>1.0</td>\n",
       "      <td>0.720705</td>\n",
       "      <td>-0.045743</td>\n",
       "      <td>France</td>\n",
       "      <td>Male</td>\n",
       "      <td>39-48</td>\n",
       "      <td>0</td>\n",
       "    </tr>\n",
       "    <tr>\n",
       "      <th>2</th>\n",
       "      <td>-0.187396</td>\n",
       "      <td>0.25</td>\n",
       "      <td>-0.349608</td>\n",
       "      <td>0.0</td>\n",
       "      <td>-0.279295</td>\n",
       "      <td>0.892843</td>\n",
       "      <td>Germany</td>\n",
       "      <td>Female</td>\n",
       "      <td>29-38</td>\n",
       "      <td>0</td>\n",
       "    </tr>\n",
       "  </tbody>\n",
       "</table>\n",
       "</div>"
      ],
      "text/plain": [
       "   credit_score  Tenure   Balance  num_of_products  isActiveMember  \\\n",
       "0     -0.304518   -1.00 -0.798963              0.0        0.720705   \n",
       "1     -0.390407   -1.00 -0.298145              1.0        0.720705   \n",
       "2     -0.187396    0.25 -0.349608              0.0       -0.279295   \n",
       "\n",
       "   estimated_salary geography  gender age_cat  exited  \n",
       "0         -0.181422     Spain    Male   29-38       1  \n",
       "1         -0.045743    France    Male   39-48       0  \n",
       "2          0.892843   Germany  Female   29-38       0  "
      ]
     },
     "execution_count": 6,
     "metadata": {},
     "output_type": "execute_result"
    }
   ],
   "source": [
    "df2[col_num] = rs.fit_transform(df2[col_num].values)\n",
    "df2.head(3)"
   ]
  },
  {
   "cell_type": "code",
   "execution_count": 7,
   "id": "24af3721",
   "metadata": {
    "ExecuteTime": {
     "end_time": "2022-09-23T15:04:12.721822Z",
     "start_time": "2022-09-23T15:04:09.354709Z"
    },
    "hidden": true
   },
   "outputs": [
    {
     "data": {
      "image/png": "[encoded data removed]",
      "text/plain": [
       "<Figure size 1800x2400 with 7 Axes>"
      ]
     },
     "metadata": {},
     "output_type": "display_data"
    }
   ],
   "source": [
    "#Analisando a distribuição dos dados reescalados\n",
    "sns_histplot(df2,df2.select_dtypes(include=['int64','float64']).columns.tolist())"
   ]
  },
  {
   "cell_type": "markdown",
   "id": "bbf91043",
   "metadata": {
    "heading_collapsed": true,
    "hidden": true
   },
   "source": [
    "## 2.2.Tratando as features categoricas.\n",
    "\n",
    "**Metodo usado: Relevancia WOE**\n",
    "\n",
    "**Motivo:** Usarei a relevância da predição da feature para substituir o valor dela, farei por que julgo ser o mais apropriado para os nossos dados, embora o One Hot não seja má ideia, acredito que a força preditora da variável pode me surpreender e me dar bons resultados. "
   ]
  },
  {
   "cell_type": "code",
   "execution_count": 8,
   "id": "139446f0",
   "metadata": {
    "ExecuteTime": {
     "end_time": "2022-09-23T15:04:13.415602Z",
     "start_time": "2022-09-23T15:04:12.724822Z"
    },
    "hidden": true
   },
   "outputs": [
    {
     "data": {
      "text/plain": [
       "<Figure size 700x700 with 0 Axes>"
      ]
     },
     "metadata": {},
     "output_type": "display_data"
    },
    {
     "data": {
      "image/png": "[encoded data removed]",
      "text/plain": [
       "<Figure size 640x480 with 1 Axes>"
      ]
     },
     "metadata": {},
     "output_type": "display_data"
    }
   ],
   "source": [
    "results = relevancia_iv(df2,col_cat,'exited')"
   ]
  },
  {
   "cell_type": "code",
   "execution_count": 9,
   "id": "17ff2d71",
   "metadata": {
    "ExecuteTime": {
     "end_time": "2022-09-23T15:04:13.447427Z",
     "start_time": "2022-09-23T15:04:13.419608Z"
    },
    "hidden": true
   },
   "outputs": [
    {
     "data": {
      "text/html": [
       "<div>\n",
       "<style scoped>\n",
       "    .dataframe tbody tr th:only-of-type {\n",
       "        vertical-align: middle;\n",
       "    }\n",
       "\n",
       "    .dataframe tbody tr th {\n",
       "        vertical-align: top;\n",
       "    }\n",
       "\n",
       "    .dataframe thead th {\n",
       "        text-align: right;\n",
       "    }\n",
       "</style>\n",
       "<table border=\"1\" class=\"dataframe\">\n",
       "  <thead>\n",
       "    <tr style=\"text-align: right;\">\n",
       "      <th>exited</th>\n",
       "      <th>Feature</th>\n",
       "      <th>woe</th>\n",
       "    </tr>\n",
       "  </thead>\n",
       "  <tbody>\n",
       "    <tr>\n",
       "      <th>0</th>\n",
       "      <td>France</td>\n",
       "      <td>-0.305765</td>\n",
       "    </tr>\n",
       "    <tr>\n",
       "      <th>1</th>\n",
       "      <td>Germany</td>\n",
       "      <td>0.672271</td>\n",
       "    </tr>\n",
       "    <tr>\n",
       "      <th>2</th>\n",
       "      <td>Spain</td>\n",
       "      <td>-0.285178</td>\n",
       "    </tr>\n",
       "    <tr>\n",
       "      <th>3</th>\n",
       "      <td>Female</td>\n",
       "      <td>0.268062</td>\n",
       "    </tr>\n",
       "    <tr>\n",
       "      <th>4</th>\n",
       "      <td>Male</td>\n",
       "      <td>-0.256816</td>\n",
       "    </tr>\n",
       "    <tr>\n",
       "      <th>5</th>\n",
       "      <td>18-28</td>\n",
       "      <td>-1.186965</td>\n",
       "    </tr>\n",
       "    <tr>\n",
       "      <th>6</th>\n",
       "      <td>29-38</td>\n",
       "      <td>-0.852067</td>\n",
       "    </tr>\n",
       "    <tr>\n",
       "      <th>7</th>\n",
       "      <td>39-48</td>\n",
       "      <td>0.401472</td>\n",
       "    </tr>\n",
       "    <tr>\n",
       "      <th>8</th>\n",
       "      <td>49+</td>\n",
       "      <td>1.209181</td>\n",
       "    </tr>\n",
       "  </tbody>\n",
       "</table>\n",
       "</div>"
      ],
      "text/plain": [
       "exited  Feature       woe\n",
       "0        France -0.305765\n",
       "1       Germany  0.672271\n",
       "2         Spain -0.285178\n",
       "3        Female  0.268062\n",
       "4          Male -0.256816\n",
       "5         18-28 -1.186965\n",
       "6         29-38 -0.852067\n",
       "7         39-48  0.401472\n",
       "8           49+  1.209181"
      ]
     },
     "execution_count": 9,
     "metadata": {},
     "output_type": "execute_result"
    }
   ],
   "source": [
    "#Relevancia de cada valor\n",
    "results.reset_index().rename(columns={'index':'Feature'})[['Feature','woe']]"
   ]
  },
  {
   "cell_type": "code",
   "execution_count": 10,
   "id": "d9a86788",
   "metadata": {
    "ExecuteTime": {
     "end_time": "2022-09-23T15:04:14.336262Z",
     "start_time": "2022-09-23T15:04:13.450430Z"
    },
    "hidden": true
   },
   "outputs": [],
   "source": [
    "df2['geography'] = df2['geography'].apply(lambda x: np.round(-0.30576518233901606,4) if x == 'France' else\n",
    "                                 np.round(0.6722712456759936,4) if x == 'Germany' else np.round(0.-0.28517824850850665,4) )\n",
    "\n",
    "df2['gender'] = df2['gender'].apply(lambda x: np.round(-0.2568164644490587,3) if x == 'Male' else np.round(0.26806228125338905,4))\n",
    "\n",
    "\n",
    "df2['age_cat'] = df2['age_cat'].apply(lambda x: np.round(-1.1869652746964552,4) if x == '18-28' else\n",
    "                                                 np.round(-0.8520671946724286,4) if x == '29-38' else\n",
    "                                                 np.round(0.40147162830539146,4) if x == '39-48' else np.round(1.209180769346363,4))"
   ]
  },
  {
   "cell_type": "markdown",
   "id": "8c6c0acb",
   "metadata": {},
   "source": [
    "# 3.0.Seleção de colunas\n",
    "**Vou usar o Boruta como metodo de seleção de features**\n",
    "\n",
    "**Motivo:** O Boruta usa um método para achar as colunas mais relevantes de uma forma muito espetacular, ele simplesmente cria um modelo para cada coluna e verifica se a coluna ajudou o modelo na performance ou não."
   ]
  },
  {
   "cell_type": "code",
   "execution_count": 11,
   "id": "a0ae45c1",
   "metadata": {
    "ExecuteTime": {
     "end_time": "2022-09-23T15:04:14.366540Z",
     "start_time": "2022-09-23T15:04:14.339253Z"
    }
   },
   "outputs": [
    {
     "data": {
      "text/html": [
       "<div>\n",
       "<style scoped>\n",
       "    .dataframe tbody tr th:only-of-type {\n",
       "        vertical-align: middle;\n",
       "    }\n",
       "\n",
       "    .dataframe tbody tr th {\n",
       "        vertical-align: top;\n",
       "    }\n",
       "\n",
       "    .dataframe thead th {\n",
       "        text-align: right;\n",
       "    }\n",
       "</style>\n",
       "<table border=\"1\" class=\"dataframe\">\n",
       "  <thead>\n",
       "    <tr style=\"text-align: right;\">\n",
       "      <th></th>\n",
       "      <th>credit_score</th>\n",
       "      <th>Tenure</th>\n",
       "      <th>Balance</th>\n",
       "      <th>num_of_products</th>\n",
       "      <th>isActiveMember</th>\n",
       "      <th>estimated_salary</th>\n",
       "      <th>geography</th>\n",
       "      <th>gender</th>\n",
       "      <th>age_cat</th>\n",
       "      <th>exited</th>\n",
       "    </tr>\n",
       "  </thead>\n",
       "  <tbody>\n",
       "    <tr>\n",
       "      <th>0</th>\n",
       "      <td>-0.304518</td>\n",
       "      <td>-1.00</td>\n",
       "      <td>-0.798963</td>\n",
       "      <td>0.0</td>\n",
       "      <td>0.720705</td>\n",
       "      <td>-0.181422</td>\n",
       "      <td>-0.2852</td>\n",
       "      <td>-0.2570</td>\n",
       "      <td>-0.8521</td>\n",
       "      <td>1</td>\n",
       "    </tr>\n",
       "    <tr>\n",
       "      <th>1</th>\n",
       "      <td>-0.390407</td>\n",
       "      <td>-1.00</td>\n",
       "      <td>-0.298145</td>\n",
       "      <td>1.0</td>\n",
       "      <td>0.720705</td>\n",
       "      <td>-0.045743</td>\n",
       "      <td>-0.3058</td>\n",
       "      <td>-0.2570</td>\n",
       "      <td>0.4015</td>\n",
       "      <td>0</td>\n",
       "    </tr>\n",
       "    <tr>\n",
       "      <th>2</th>\n",
       "      <td>-0.187396</td>\n",
       "      <td>0.25</td>\n",
       "      <td>-0.349608</td>\n",
       "      <td>0.0</td>\n",
       "      <td>-0.279295</td>\n",
       "      <td>0.892843</td>\n",
       "      <td>0.6723</td>\n",
       "      <td>0.2681</td>\n",
       "      <td>-0.8521</td>\n",
       "      <td>0</td>\n",
       "    </tr>\n",
       "    <tr>\n",
       "      <th>3</th>\n",
       "      <td>0.733966</td>\n",
       "      <td>1.25</td>\n",
       "      <td>-0.052373</td>\n",
       "      <td>0.0</td>\n",
       "      <td>-0.279295</td>\n",
       "      <td>-0.270897</td>\n",
       "      <td>0.6723</td>\n",
       "      <td>-0.2570</td>\n",
       "      <td>0.4015</td>\n",
       "      <td>0</td>\n",
       "    </tr>\n",
       "    <tr>\n",
       "      <th>4</th>\n",
       "      <td>-0.929170</td>\n",
       "      <td>1.00</td>\n",
       "      <td>-0.798963</td>\n",
       "      <td>1.0</td>\n",
       "      <td>-0.279295</td>\n",
       "      <td>-0.720305</td>\n",
       "      <td>-0.3058</td>\n",
       "      <td>-0.2570</td>\n",
       "      <td>-0.8521</td>\n",
       "      <td>0</td>\n",
       "    </tr>\n",
       "  </tbody>\n",
       "</table>\n",
       "</div>"
      ],
      "text/plain": [
       "   credit_score  Tenure   Balance  num_of_products  isActiveMember  \\\n",
       "0     -0.304518   -1.00 -0.798963              0.0        0.720705   \n",
       "1     -0.390407   -1.00 -0.298145              1.0        0.720705   \n",
       "2     -0.187396    0.25 -0.349608              0.0       -0.279295   \n",
       "3      0.733966    1.25 -0.052373              0.0       -0.279295   \n",
       "4     -0.929170    1.00 -0.798963              1.0       -0.279295   \n",
       "\n",
       "   estimated_salary  geography  gender  age_cat  exited  \n",
       "0         -0.181422    -0.2852 -0.2570  -0.8521       1  \n",
       "1         -0.045743    -0.3058 -0.2570   0.4015       0  \n",
       "2          0.892843     0.6723  0.2681  -0.8521       0  \n",
       "3         -0.270897     0.6723 -0.2570   0.4015       0  \n",
       "4         -0.720305    -0.3058 -0.2570  -0.8521       0  "
      ]
     },
     "execution_count": 11,
     "metadata": {},
     "output_type": "execute_result"
    }
   ],
   "source": [
    "df3 = df2.copy()\n",
    "df3.head()"
   ]
  },
  {
   "cell_type": "code",
   "execution_count": 12,
   "id": "1c7dc734",
   "metadata": {
    "ExecuteTime": {
     "end_time": "2022-09-23T15:04:14.462546Z",
     "start_time": "2022-09-23T15:04:14.369542Z"
    }
   },
   "outputs": [],
   "source": [
    "X = df3.drop('exited',axis=1)\n",
    "y = df3['exited']"
   ]
  },
  {
   "cell_type": "code",
   "execution_count": 13,
   "id": "ab19acf6",
   "metadata": {
    "ExecuteTime": {
     "end_time": "2022-09-23T15:04:14.620906Z",
     "start_time": "2022-09-23T15:04:14.465541Z"
    }
   },
   "outputs": [],
   "source": [
    "X_train,X_test,y_train,y_test = train_test_split(X,y,test_size=0.3,random_state=42)"
   ]
  },
  {
   "cell_type": "code",
   "execution_count": 14,
   "id": "d4942b61",
   "metadata": {
    "ExecuteTime": {
     "end_time": "2022-09-23T15:04:35.092228Z",
     "start_time": "2022-09-23T15:04:14.628907Z"
    }
   },
   "outputs": [],
   "source": [
    "dados_selecionados, dados_nao_selecionados = boruta_selection(df3,X_train,y_train,'exited',RandomForestClassifier)"
   ]
  },
  {
   "cell_type": "code",
   "execution_count": 15,
   "id": "70d7d860",
   "metadata": {
    "ExecuteTime": {
     "end_time": "2022-09-23T15:04:35.124218Z",
     "start_time": "2022-09-23T15:04:35.095222Z"
    }
   },
   "outputs": [
    {
     "data": {
      "text/html": [
       "<div>\n",
       "<style scoped>\n",
       "    .dataframe tbody tr th:only-of-type {\n",
       "        vertical-align: middle;\n",
       "    }\n",
       "\n",
       "    .dataframe tbody tr th {\n",
       "        vertical-align: top;\n",
       "    }\n",
       "\n",
       "    .dataframe thead th {\n",
       "        text-align: right;\n",
       "    }\n",
       "</style>\n",
       "<table border=\"1\" class=\"dataframe\">\n",
       "  <thead>\n",
       "    <tr style=\"text-align: right;\">\n",
       "      <th></th>\n",
       "      <th>Tenure</th>\n",
       "      <th>gender</th>\n",
       "      <th>geography</th>\n",
       "      <th>exited</th>\n",
       "    </tr>\n",
       "  </thead>\n",
       "  <tbody>\n",
       "    <tr>\n",
       "      <th>0</th>\n",
       "      <td>-1.00</td>\n",
       "      <td>-0.2570</td>\n",
       "      <td>-0.2852</td>\n",
       "      <td>1</td>\n",
       "    </tr>\n",
       "    <tr>\n",
       "      <th>1</th>\n",
       "      <td>-1.00</td>\n",
       "      <td>-0.2570</td>\n",
       "      <td>-0.3058</td>\n",
       "      <td>0</td>\n",
       "    </tr>\n",
       "    <tr>\n",
       "      <th>2</th>\n",
       "      <td>0.25</td>\n",
       "      <td>0.2681</td>\n",
       "      <td>0.6723</td>\n",
       "      <td>0</td>\n",
       "    </tr>\n",
       "  </tbody>\n",
       "</table>\n",
       "</div>"
      ],
      "text/plain": [
       "   Tenure  gender  geography  exited\n",
       "0   -1.00 -0.2570    -0.2852       1\n",
       "1   -1.00 -0.2570    -0.3058       0\n",
       "2    0.25  0.2681     0.6723       0"
      ]
     },
     "execution_count": 15,
     "metadata": {},
     "output_type": "execute_result"
    }
   ],
   "source": [
    "dados_nao_selecionados.head(3)"
   ]
  },
  {
   "cell_type": "code",
   "execution_count": 16,
   "id": "7bff732f",
   "metadata": {
    "ExecuteTime": {
     "end_time": "2022-09-23T15:04:35.204220Z",
     "start_time": "2022-09-23T15:04:35.127219Z"
    }
   },
   "outputs": [
    {
     "data": {
      "text/html": [
       "<div>\n",
       "<style scoped>\n",
       "    .dataframe tbody tr th:only-of-type {\n",
       "        vertical-align: middle;\n",
       "    }\n",
       "\n",
       "    .dataframe tbody tr th {\n",
       "        vertical-align: top;\n",
       "    }\n",
       "\n",
       "    .dataframe thead th {\n",
       "        text-align: right;\n",
       "    }\n",
       "</style>\n",
       "<table border=\"1\" class=\"dataframe\">\n",
       "  <thead>\n",
       "    <tr style=\"text-align: right;\">\n",
       "      <th></th>\n",
       "      <th>credit_score</th>\n",
       "      <th>Balance</th>\n",
       "      <th>num_of_products</th>\n",
       "      <th>isActiveMember</th>\n",
       "      <th>estimated_salary</th>\n",
       "      <th>age_cat</th>\n",
       "      <th>exited</th>\n",
       "    </tr>\n",
       "  </thead>\n",
       "  <tbody>\n",
       "    <tr>\n",
       "      <th>0</th>\n",
       "      <td>-0.304518</td>\n",
       "      <td>-0.798963</td>\n",
       "      <td>0.0</td>\n",
       "      <td>0.720705</td>\n",
       "      <td>-0.181422</td>\n",
       "      <td>-0.8521</td>\n",
       "      <td>1</td>\n",
       "    </tr>\n",
       "    <tr>\n",
       "      <th>1</th>\n",
       "      <td>-0.390407</td>\n",
       "      <td>-0.298145</td>\n",
       "      <td>1.0</td>\n",
       "      <td>0.720705</td>\n",
       "      <td>-0.045743</td>\n",
       "      <td>0.4015</td>\n",
       "      <td>0</td>\n",
       "    </tr>\n",
       "    <tr>\n",
       "      <th>2</th>\n",
       "      <td>-0.187396</td>\n",
       "      <td>-0.349608</td>\n",
       "      <td>0.0</td>\n",
       "      <td>-0.279295</td>\n",
       "      <td>0.892843</td>\n",
       "      <td>-0.8521</td>\n",
       "      <td>0</td>\n",
       "    </tr>\n",
       "  </tbody>\n",
       "</table>\n",
       "</div>"
      ],
      "text/plain": [
       "   credit_score   Balance  num_of_products  isActiveMember  estimated_salary  \\\n",
       "0     -0.304518 -0.798963              0.0        0.720705         -0.181422   \n",
       "1     -0.390407 -0.298145              1.0        0.720705         -0.045743   \n",
       "2     -0.187396 -0.349608              0.0       -0.279295          0.892843   \n",
       "\n",
       "   age_cat  exited  \n",
       "0  -0.8521       1  \n",
       "1   0.4015       0  \n",
       "2  -0.8521       0  "
      ]
     },
     "execution_count": 16,
     "metadata": {},
     "output_type": "execute_result"
    }
   ],
   "source": [
    "dados_selecionados.head(3)"
   ]
  },
  {
   "cell_type": "code",
   "execution_count": 17,
   "id": "8de3b698",
   "metadata": {
    "ExecuteTime": {
     "end_time": "2022-09-23T15:04:35.316219Z",
     "start_time": "2022-09-23T15:04:35.207217Z"
    }
   },
   "outputs": [],
   "source": [
    "X = dados_selecionados.drop('exited',axis=1)\n",
    "y = dados_selecionados['exited']"
   ]
  },
  {
   "cell_type": "code",
   "execution_count": 18,
   "id": "6d256fcc",
   "metadata": {
    "ExecuteTime": {
     "end_time": "2022-09-23T15:04:35.427675Z",
     "start_time": "2022-09-23T15:04:35.320219Z"
    }
   },
   "outputs": [],
   "source": [
    "X_train,X_test,y_train,y_test = train_test_split(X,y,test_size=0.3,random_state=42)"
   ]
  },
  {
   "cell_type": "code",
   "execution_count": 19,
   "id": "850f761a",
   "metadata": {
    "ExecuteTime": {
     "end_time": "2022-09-23T15:04:35.520652Z",
     "start_time": "2022-09-23T15:04:35.430677Z"
    }
   },
   "outputs": [
    {
     "data": {
      "text/html": [
       "<div>\n",
       "<style scoped>\n",
       "    .dataframe tbody tr th:only-of-type {\n",
       "        vertical-align: middle;\n",
       "    }\n",
       "\n",
       "    .dataframe tbody tr th {\n",
       "        vertical-align: top;\n",
       "    }\n",
       "\n",
       "    .dataframe thead th {\n",
       "        text-align: right;\n",
       "    }\n",
       "</style>\n",
       "<table border=\"1\" class=\"dataframe\">\n",
       "  <thead>\n",
       "    <tr style=\"text-align: right;\">\n",
       "      <th></th>\n",
       "      <th>credit_score</th>\n",
       "      <th>Balance</th>\n",
       "      <th>num_of_products</th>\n",
       "      <th>isActiveMember</th>\n",
       "      <th>estimated_salary</th>\n",
       "      <th>age_cat</th>\n",
       "    </tr>\n",
       "  </thead>\n",
       "  <tbody>\n",
       "    <tr>\n",
       "      <th>7363</th>\n",
       "      <td>-1.686560</td>\n",
       "      <td>-0.355767</td>\n",
       "      <td>1.000000</td>\n",
       "      <td>0.720705</td>\n",
       "      <td>-0.972771</td>\n",
       "      <td>-0.8521</td>\n",
       "    </tr>\n",
       "    <tr>\n",
       "      <th>8027</th>\n",
       "      <td>0.874513</td>\n",
       "      <td>-0.798963</td>\n",
       "      <td>0.000000</td>\n",
       "      <td>0.720705</td>\n",
       "      <td>-0.712234</td>\n",
       "      <td>-0.8521</td>\n",
       "    </tr>\n",
       "    <tr>\n",
       "      <th>6187</th>\n",
       "      <td>1.553821</td>\n",
       "      <td>-0.037278</td>\n",
       "      <td>1.000000</td>\n",
       "      <td>-0.279295</td>\n",
       "      <td>0.058336</td>\n",
       "      <td>0.4015</td>\n",
       "    </tr>\n",
       "    <tr>\n",
       "      <th>11614</th>\n",
       "      <td>-0.789708</td>\n",
       "      <td>0.319000</td>\n",
       "      <td>0.966804</td>\n",
       "      <td>-0.279295</td>\n",
       "      <td>0.413768</td>\n",
       "      <td>0.4015</td>\n",
       "    </tr>\n",
       "    <tr>\n",
       "      <th>10332</th>\n",
       "      <td>0.557503</td>\n",
       "      <td>0.158809</td>\n",
       "      <td>2.000000</td>\n",
       "      <td>0.720705</td>\n",
       "      <td>0.294330</td>\n",
       "      <td>1.2092</td>\n",
       "    </tr>\n",
       "    <tr>\n",
       "      <th>2110</th>\n",
       "      <td>-0.210820</td>\n",
       "      <td>-0.798963</td>\n",
       "      <td>1.000000</td>\n",
       "      <td>0.720705</td>\n",
       "      <td>0.871582</td>\n",
       "      <td>-0.8521</td>\n",
       "    </tr>\n",
       "    <tr>\n",
       "      <th>8862</th>\n",
       "      <td>-0.342375</td>\n",
       "      <td>-0.175866</td>\n",
       "      <td>0.000000</td>\n",
       "      <td>-0.279295</td>\n",
       "      <td>-0.833156</td>\n",
       "      <td>0.4015</td>\n",
       "    </tr>\n",
       "    <tr>\n",
       "      <th>2375</th>\n",
       "      <td>0.679309</td>\n",
       "      <td>0.282317</td>\n",
       "      <td>0.000000</td>\n",
       "      <td>-0.279295</td>\n",
       "      <td>0.418269</td>\n",
       "      <td>-0.8521</td>\n",
       "    </tr>\n",
       "    <tr>\n",
       "      <th>9148</th>\n",
       "      <td>-0.528620</td>\n",
       "      <td>0.139439</td>\n",
       "      <td>0.000000</td>\n",
       "      <td>-0.279295</td>\n",
       "      <td>-0.363834</td>\n",
       "      <td>1.2092</td>\n",
       "    </tr>\n",
       "    <tr>\n",
       "      <th>10775</th>\n",
       "      <td>0.432887</td>\n",
       "      <td>-0.003544</td>\n",
       "      <td>0.000000</td>\n",
       "      <td>-0.279295</td>\n",
       "      <td>0.787770</td>\n",
       "      <td>-0.8521</td>\n",
       "    </tr>\n",
       "  </tbody>\n",
       "</table>\n",
       "</div>"
      ],
      "text/plain": [
       "       credit_score   Balance  num_of_products  isActiveMember  \\\n",
       "7363      -1.686560 -0.355767         1.000000        0.720705   \n",
       "8027       0.874513 -0.798963         0.000000        0.720705   \n",
       "6187       1.553821 -0.037278         1.000000       -0.279295   \n",
       "11614     -0.789708  0.319000         0.966804       -0.279295   \n",
       "10332      0.557503  0.158809         2.000000        0.720705   \n",
       "2110      -0.210820 -0.798963         1.000000        0.720705   \n",
       "8862      -0.342375 -0.175866         0.000000       -0.279295   \n",
       "2375       0.679309  0.282317         0.000000       -0.279295   \n",
       "9148      -0.528620  0.139439         0.000000       -0.279295   \n",
       "10775      0.432887 -0.003544         0.000000       -0.279295   \n",
       "\n",
       "       estimated_salary  age_cat  \n",
       "7363          -0.972771  -0.8521  \n",
       "8027          -0.712234  -0.8521  \n",
       "6187           0.058336   0.4015  \n",
       "11614          0.413768   0.4015  \n",
       "10332          0.294330   1.2092  \n",
       "2110           0.871582  -0.8521  \n",
       "8862          -0.833156   0.4015  \n",
       "2375           0.418269  -0.8521  \n",
       "9148          -0.363834   1.2092  \n",
       "10775          0.787770  -0.8521  "
      ]
     },
     "execution_count": 19,
     "metadata": {},
     "output_type": "execute_result"
    }
   ],
   "source": [
    "X_train[:10]"
   ]
  },
  {
   "cell_type": "markdown",
   "id": "7ccd414a",
   "metadata": {
    "heading_collapsed": true
   },
   "source": [
    "# 4.0.Machine Learning Models"
   ]
  },
  {
   "cell_type": "markdown",
   "id": "4e1f21a0",
   "metadata": {
    "heading_collapsed": true,
    "hidden": true
   },
   "source": [
    "## 4.1.LogisticRegression"
   ]
  },
  {
   "cell_type": "code",
   "execution_count": 20,
   "id": "74b546f0",
   "metadata": {
    "ExecuteTime": {
     "end_time": "2022-09-23T15:04:35.866501Z",
     "start_time": "2022-09-23T15:04:35.523652Z"
    },
    "hidden": true
   },
   "outputs": [
    {
     "data": {
      "text/html": [
       "<style>#sk-container-id-1 {color: black;background-color: white;}#sk-container-id-1 pre{padding: 0;}#sk-container-id-1 div.sk-toggleable {background-color: white;}#sk-container-id-1 label.sk-toggleable__label {cursor: pointer;display: block;width: 100%;margin-bottom: 0;padding: 0.3em;box-sizing: border-box;text-align: center;}#sk-container-id-1 label.sk-toggleable__label-arrow:before {content: \"▸\";float: left;margin-right: 0.25em;color: #696969;}#sk-container-id-1 label.sk-toggleable__label-arrow:hover:before {color: black;}#sk-container-id-1 div.sk-estimator:hover label.sk-toggleable__label-arrow:before {color: black;}#sk-container-id-1 div.sk-toggleable__content {max-height: 0;max-width: 0;overflow: hidden;text-align: left;background-color: #f0f8ff;}#sk-container-id-1 div.sk-toggleable__content pre {margin: 0.2em;color: black;border-radius: 0.25em;background-color: #f0f8ff;}#sk-container-id-1 input.sk-toggleable__control:checked~div.sk-toggleable__content {max-height: 200px;max-width: 100%;overflow: auto;}#sk-container-id-1 input.sk-toggleable__control:checked~label.sk-toggleable__label-arrow:before {content: \"▾\";}#sk-container-id-1 div.sk-estimator input.sk-toggleable__control:checked~label.sk-toggleable__label {background-color: #d4ebff;}#sk-container-id-1 div.sk-label input.sk-toggleable__control:checked~label.sk-toggleable__label {background-color: #d4ebff;}#sk-container-id-1 input.sk-hidden--visually {border: 0;clip: rect(1px 1px 1px 1px);clip: rect(1px, 1px, 1px, 1px);height: 1px;margin: -1px;overflow: hidden;padding: 0;position: absolute;width: 1px;}#sk-container-id-1 div.sk-estimator {font-family: monospace;background-color: #f0f8ff;border: 1px dotted black;border-radius: 0.25em;box-sizing: border-box;margin-bottom: 0.5em;}#sk-container-id-1 div.sk-estimator:hover {background-color: #d4ebff;}#sk-container-id-1 div.sk-parallel-item::after {content: \"\";width: 100%;border-bottom: 1px solid gray;flex-grow: 1;}#sk-container-id-1 div.sk-label:hover label.sk-toggleable__label {background-color: #d4ebff;}#sk-container-id-1 div.sk-serial::before {content: \"\";position: absolute;border-left: 1px solid gray;box-sizing: border-box;top: 0;bottom: 0;left: 50%;z-index: 0;}#sk-container-id-1 div.sk-serial {display: flex;flex-direction: column;align-items: center;background-color: white;padding-right: 0.2em;padding-left: 0.2em;position: relative;}#sk-container-id-1 div.sk-item {position: relative;z-index: 1;}#sk-container-id-1 div.sk-parallel {display: flex;align-items: stretch;justify-content: center;background-color: white;position: relative;}#sk-container-id-1 div.sk-item::before, #sk-container-id-1 div.sk-parallel-item::before {content: \"\";position: absolute;border-left: 1px solid gray;box-sizing: border-box;top: 0;bottom: 0;left: 50%;z-index: -1;}#sk-container-id-1 div.sk-parallel-item {display: flex;flex-direction: column;z-index: 1;position: relative;background-color: white;}#sk-container-id-1 div.sk-parallel-item:first-child::after {align-self: flex-end;width: 50%;}#sk-container-id-1 div.sk-parallel-item:last-child::after {align-self: flex-start;width: 50%;}#sk-container-id-1 div.sk-parallel-item:only-child::after {width: 0;}#sk-container-id-1 div.sk-dashed-wrapped {border: 1px dashed gray;margin: 0 0.4em 0.5em 0.4em;box-sizing: border-box;padding-bottom: 0.4em;background-color: white;}#sk-container-id-1 div.sk-label label {font-family: monospace;font-weight: bold;display: inline-block;line-height: 1.2em;}#sk-container-id-1 div.sk-label-container {text-align: center;}#sk-container-id-1 div.sk-container {/* jupyter's `normalize.less` sets `[hidden] { display: none; }` but bootstrap.min.css set `[hidden] { display: none !important; }` so we also need the `!important` here to be able to override the default hidden behavior on the sphinx rendered scikit-learn.org. See: https://github.com/scikit-learn/scikit-learn/issues/21755 */display: inline-block !important;position: relative;}#sk-container-id-1 div.sk-text-repr-fallback {display: none;}</style><div id=\"sk-container-id-1\" class=\"sk-top-container\"><div class=\"sk-text-repr-fallback\"><pre>LogisticRegression(C=0.01)</pre><b>In a Jupyter environment, please rerun this cell to show the HTML representation or trust the notebook. <br />On GitHub, the HTML representation is unable to render, please try loading this page with nbviewer.org.</b></div><div class=\"sk-container\" hidden><div class=\"sk-item\"><div class=\"sk-estimator sk-toggleable\"><input class=\"sk-toggleable__control sk-hidden--visually\" id=\"sk-estimator-id-1\" type=\"checkbox\" checked><label for=\"sk-estimator-id-1\" class=\"sk-toggleable__label sk-toggleable__label-arrow\">LogisticRegression</label><div class=\"sk-toggleable__content\"><pre>LogisticRegression(C=0.01)</pre></div></div></div></div></div>"
      ],
      "text/plain": [
       "LogisticRegression(C=0.01)"
      ]
     },
     "execution_count": 20,
     "metadata": {},
     "output_type": "execute_result"
    }
   ],
   "source": [
    "lc = LogisticRegression(C=0.01)\n",
    "lc.fit(X_train,y_train)"
   ]
  },
  {
   "cell_type": "markdown",
   "id": "44ed9451",
   "metadata": {
    "heading_collapsed": true,
    "hidden": true
   },
   "source": [
    "## 4.2.Redes Neurais"
   ]
  },
  {
   "cell_type": "code",
   "execution_count": 21,
   "id": "5d750572",
   "metadata": {
    "ExecuteTime": {
     "end_time": "2022-09-23T15:04:35.960173Z",
     "start_time": "2022-09-23T15:04:35.870505Z"
    },
    "hidden": true
   },
   "outputs": [
    {
     "data": {
      "text/plain": [
       "array([[1., 0.],\n",
       "       [1., 0.],\n",
       "       [1., 0.],\n",
       "       [0., 1.],\n",
       "       [0., 1.],\n",
       "       [1., 0.],\n",
       "       [0., 1.],\n",
       "       [0., 1.],\n",
       "       [0., 1.],\n",
       "       [0., 1.]])"
      ]
     },
     "execution_count": 21,
     "metadata": {},
     "output_type": "execute_result"
    }
   ],
   "source": [
    "#Preprando os dados de treino\n",
    "ohe = OneHotEncoder()\n",
    "y_train_nn = ohe.fit_transform(y_train.values.reshape(-1,1)).toarray()\n",
    "y_train_nn[:10]"
   ]
  },
  {
   "cell_type": "code",
   "execution_count": 22,
   "id": "11fcf840",
   "metadata": {
    "ExecuteTime": {
     "end_time": "2022-09-23T15:04:36.023471Z",
     "start_time": "2022-09-23T15:04:35.963155Z"
    },
    "hidden": true
   },
   "outputs": [],
   "source": [
    "#Preprando os dados de teste\n",
    "y_test_nn = y_test.to_numpy()"
   ]
  },
  {
   "cell_type": "code",
   "execution_count": 23,
   "id": "05b15e58",
   "metadata": {
    "ExecuteTime": {
     "end_time": "2022-09-23T15:04:38.130483Z",
     "start_time": "2022-09-23T15:04:36.026467Z"
    },
    "hidden": true
   },
   "outputs": [
    {
     "name": "stdout",
     "output_type": "stream",
     "text": [
      "Model: \"sequential\"\n",
      "_________________________________________________________________\n",
      " Layer (type)                Output Shape              Param #   \n",
      "=================================================================\n",
      " dense (Dense)               (None, 30)                210       \n",
      "                                                                 \n",
      " dropout (Dropout)           (None, 30)                0         \n",
      "                                                                 \n",
      " dense_1 (Dense)             (None, 50)                1550      \n",
      "                                                                 \n",
      " dropout_1 (Dropout)         (None, 50)                0         \n",
      "                                                                 \n",
      " dense_2 (Dense)             (None, 2)                 102       \n",
      "                                                                 \n",
      "=================================================================\n",
      "Total params: 1,862\n",
      "Trainable params: 1,862\n",
      "Non-trainable params: 0\n",
      "_________________________________________________________________\n"
     ]
    }
   ],
   "source": [
    "#Modelo\n",
    "modelo = Sequential()\n",
    "\n",
    "modelo.add(Dense(30,input_dim=X_train.shape[1],kernel_initializer='normal',activation='relu'))\n",
    "modelo.add(Dropout(0.5))\n",
    "modelo.add(Dense(50,activation='relu',kernel_initializer='normal'))\n",
    "modelo.add(Dropout(0.5))\n",
    "modelo.add(Dense(2,kernel_initializer='normal',activation='softmax'))\n",
    "\n",
    "opt = Adam()\n",
    "\n",
    "#Compilando o modelo\n",
    "modelo.compile(loss='categorical_crossentropy',optimizer=opt,metrics=['acc'])\n",
    "\n",
    "\n",
    "modelo.summary()"
   ]
  },
  {
   "cell_type": "code",
   "execution_count": 24,
   "id": "cbbcdc08",
   "metadata": {
    "ExecuteTime": {
     "end_time": "2022-09-23T15:04:59.539113Z",
     "start_time": "2022-09-23T15:04:38.133486Z"
    },
    "hidden": true,
    "scrolled": true
   },
   "outputs": [
    {
     "name": "stdout",
     "output_type": "stream",
     "text": [
      "Epoch 1/100\n",
      "85/85 [==============================] - 3s 3ms/step - loss: 0.6459 - acc: 0.6405\n",
      "Epoch 2/100\n",
      "85/85 [==============================] - 0s 2ms/step - loss: 0.5810 - acc: 0.7119\n",
      "Epoch 3/100\n",
      "85/85 [==============================] - 0s 2ms/step - loss: 0.5744 - acc: 0.7136\n",
      "Epoch 4/100\n",
      "85/85 [==============================] - 0s 2ms/step - loss: 0.5690 - acc: 0.7221\n",
      "Epoch 5/100\n",
      "85/85 [==============================] - 0s 2ms/step - loss: 0.5624 - acc: 0.7242\n",
      "Epoch 6/100\n",
      "85/85 [==============================] - 0s 2ms/step - loss: 0.5621 - acc: 0.7286\n",
      "Epoch 7/100\n",
      "85/85 [==============================] - 0s 2ms/step - loss: 0.5534 - acc: 0.7320\n",
      "Epoch 8/100\n",
      "85/85 [==============================] - 0s 2ms/step - loss: 0.5488 - acc: 0.7375\n",
      "Epoch 9/100\n",
      "85/85 [==============================] - 0s 2ms/step - loss: 0.5462 - acc: 0.7371\n",
      "Epoch 10/100\n",
      "85/85 [==============================] - 0s 2ms/step - loss: 0.5429 - acc: 0.7390\n",
      "Epoch 11/100\n",
      "85/85 [==============================] - 0s 2ms/step - loss: 0.5363 - acc: 0.7429\n",
      "Epoch 12/100\n",
      "85/85 [==============================] - 0s 2ms/step - loss: 0.5319 - acc: 0.7490\n",
      "Epoch 13/100\n",
      "85/85 [==============================] - 0s 2ms/step - loss: 0.5329 - acc: 0.7434\n",
      "Epoch 14/100\n",
      "85/85 [==============================] - 0s 2ms/step - loss: 0.5219 - acc: 0.7482\n",
      "Epoch 15/100\n",
      "85/85 [==============================] - 0s 2ms/step - loss: 0.5213 - acc: 0.7472\n",
      "Epoch 16/100\n",
      "85/85 [==============================] - 0s 2ms/step - loss: 0.5174 - acc: 0.7515\n",
      "Epoch 17/100\n",
      "85/85 [==============================] - 0s 2ms/step - loss: 0.5162 - acc: 0.7550\n",
      "Epoch 18/100\n",
      "85/85 [==============================] - 0s 2ms/step - loss: 0.5059 - acc: 0.7597\n",
      "Epoch 19/100\n",
      "85/85 [==============================] - 0s 2ms/step - loss: 0.5072 - acc: 0.7592\n",
      "Epoch 20/100\n",
      "85/85 [==============================] - 0s 2ms/step - loss: 0.5079 - acc: 0.7593\n",
      "Epoch 21/100\n",
      "85/85 [==============================] - 0s 2ms/step - loss: 0.5001 - acc: 0.7672\n",
      "Epoch 22/100\n",
      "85/85 [==============================] - 0s 2ms/step - loss: 0.4972 - acc: 0.7683\n",
      "Epoch 23/100\n",
      "85/85 [==============================] - 0s 2ms/step - loss: 0.4959 - acc: 0.7727\n",
      "Epoch 24/100\n",
      "85/85 [==============================] - 0s 2ms/step - loss: 0.4939 - acc: 0.7756\n",
      "Epoch 25/100\n",
      "85/85 [==============================] - 0s 2ms/step - loss: 0.4933 - acc: 0.7768\n",
      "Epoch 26/100\n",
      "85/85 [==============================] - 0s 2ms/step - loss: 0.4826 - acc: 0.7800\n",
      "Epoch 27/100\n",
      "85/85 [==============================] - 0s 2ms/step - loss: 0.4870 - acc: 0.7802\n",
      "Epoch 28/100\n",
      "85/85 [==============================] - 0s 2ms/step - loss: 0.4798 - acc: 0.7861\n",
      "Epoch 29/100\n",
      "85/85 [==============================] - 0s 2ms/step - loss: 0.4839 - acc: 0.7812\n",
      "Epoch 30/100\n",
      "85/85 [==============================] - 0s 2ms/step - loss: 0.4808 - acc: 0.7813\n",
      "Epoch 31/100\n",
      "85/85 [==============================] - 0s 2ms/step - loss: 0.4754 - acc: 0.7876\n",
      "Epoch 32/100\n",
      "85/85 [==============================] - 0s 2ms/step - loss: 0.4772 - acc: 0.7825\n",
      "Epoch 33/100\n",
      "85/85 [==============================] - 0s 2ms/step - loss: 0.4737 - acc: 0.7875\n",
      "Epoch 34/100\n",
      "85/85 [==============================] - 0s 2ms/step - loss: 0.4719 - acc: 0.7888\n",
      "Epoch 35/100\n",
      "85/85 [==============================] - 0s 2ms/step - loss: 0.4673 - acc: 0.7868\n",
      "Epoch 36/100\n",
      "85/85 [==============================] - 0s 2ms/step - loss: 0.4666 - acc: 0.7919\n",
      "Epoch 37/100\n",
      "85/85 [==============================] - 0s 2ms/step - loss: 0.4663 - acc: 0.7900\n",
      "Epoch 38/100\n",
      "85/85 [==============================] - 0s 2ms/step - loss: 0.4667 - acc: 0.7884\n",
      "Epoch 39/100\n",
      "85/85 [==============================] - 0s 2ms/step - loss: 0.4677 - acc: 0.7913\n",
      "Epoch 40/100\n",
      "85/85 [==============================] - 0s 2ms/step - loss: 0.4672 - acc: 0.7901\n",
      "Epoch 41/100\n",
      "85/85 [==============================] - 0s 2ms/step - loss: 0.4688 - acc: 0.7941\n",
      "Epoch 42/100\n",
      "85/85 [==============================] - 0s 2ms/step - loss: 0.4586 - acc: 0.7959\n",
      "Epoch 43/100\n",
      "85/85 [==============================] - 0s 2ms/step - loss: 0.4623 - acc: 0.7931\n",
      "Epoch 44/100\n",
      "85/85 [==============================] - 0s 2ms/step - loss: 0.4654 - acc: 0.7932\n",
      "Epoch 45/100\n",
      "85/85 [==============================] - 0s 2ms/step - loss: 0.4570 - acc: 0.7968\n",
      "Epoch 46/100\n",
      "85/85 [==============================] - 0s 2ms/step - loss: 0.4640 - acc: 0.7925\n",
      "Epoch 47/100\n",
      "85/85 [==============================] - 0s 2ms/step - loss: 0.4605 - acc: 0.7966\n",
      "Epoch 48/100\n",
      "85/85 [==============================] - 0s 2ms/step - loss: 0.4568 - acc: 0.7950\n",
      "Epoch 49/100\n",
      "85/85 [==============================] - 0s 2ms/step - loss: 0.4528 - acc: 0.7983\n",
      "Epoch 50/100\n",
      "85/85 [==============================] - 0s 2ms/step - loss: 0.4549 - acc: 0.7941\n",
      "Epoch 51/100\n",
      "85/85 [==============================] - 0s 2ms/step - loss: 0.4500 - acc: 0.8037\n",
      "Epoch 52/100\n",
      "85/85 [==============================] - 0s 2ms/step - loss: 0.4524 - acc: 0.7988\n",
      "Epoch 53/100\n",
      "85/85 [==============================] - 0s 2ms/step - loss: 0.4570 - acc: 0.7963\n",
      "Epoch 54/100\n",
      "85/85 [==============================] - 0s 2ms/step - loss: 0.4463 - acc: 0.7987\n",
      "Epoch 55/100\n",
      "85/85 [==============================] - 0s 2ms/step - loss: 0.4548 - acc: 0.7985\n",
      "Epoch 56/100\n",
      "85/85 [==============================] - 0s 2ms/step - loss: 0.4527 - acc: 0.7984\n",
      "Epoch 57/100\n",
      "85/85 [==============================] - 0s 2ms/step - loss: 0.4518 - acc: 0.8007\n",
      "Epoch 58/100\n",
      "85/85 [==============================] - 0s 2ms/step - loss: 0.4527 - acc: 0.7990\n",
      "Epoch 59/100\n",
      "85/85 [==============================] - 0s 2ms/step - loss: 0.4572 - acc: 0.8003\n",
      "Epoch 60/100\n",
      "85/85 [==============================] - 0s 2ms/step - loss: 0.4485 - acc: 0.8029\n",
      "Epoch 61/100\n",
      "85/85 [==============================] - 0s 2ms/step - loss: 0.4492 - acc: 0.7993\n",
      "Epoch 62/100\n",
      "85/85 [==============================] - 0s 2ms/step - loss: 0.4555 - acc: 0.7997\n",
      "Epoch 63/100\n",
      "85/85 [==============================] - 0s 2ms/step - loss: 0.4531 - acc: 0.8001\n",
      "Epoch 64/100\n",
      "85/85 [==============================] - 0s 2ms/step - loss: 0.4573 - acc: 0.7982\n",
      "Epoch 65/100\n",
      "85/85 [==============================] - 0s 2ms/step - loss: 0.4462 - acc: 0.8051\n",
      "Epoch 66/100\n",
      "85/85 [==============================] - 0s 2ms/step - loss: 0.4507 - acc: 0.7988\n",
      "Epoch 67/100\n",
      "85/85 [==============================] - 0s 2ms/step - loss: 0.4439 - acc: 0.8038\n",
      "Epoch 68/100\n",
      "85/85 [==============================] - 0s 2ms/step - loss: 0.4462 - acc: 0.8034\n",
      "Epoch 69/100\n",
      "85/85 [==============================] - 0s 2ms/step - loss: 0.4434 - acc: 0.8043\n",
      "Epoch 70/100\n",
      "85/85 [==============================] - 0s 2ms/step - loss: 0.4418 - acc: 0.8024\n",
      "Epoch 71/100\n",
      "85/85 [==============================] - 0s 2ms/step - loss: 0.4480 - acc: 0.8008\n",
      "Epoch 72/100\n",
      "85/85 [==============================] - 0s 2ms/step - loss: 0.4407 - acc: 0.8073\n",
      "Epoch 73/100\n",
      "85/85 [==============================] - 0s 2ms/step - loss: 0.4480 - acc: 0.8032\n",
      "Epoch 74/100\n",
      "85/85 [==============================] - 0s 2ms/step - loss: 0.4419 - acc: 0.8083\n",
      "Epoch 75/100\n",
      "85/85 [==============================] - 0s 2ms/step - loss: 0.4472 - acc: 0.8027\n",
      "Epoch 76/100\n",
      "85/85 [==============================] - 0s 2ms/step - loss: 0.4399 - acc: 0.8058\n",
      "Epoch 77/100\n",
      "85/85 [==============================] - 0s 2ms/step - loss: 0.4480 - acc: 0.8056\n",
      "Epoch 78/100\n",
      "85/85 [==============================] - 0s 2ms/step - loss: 0.4428 - acc: 0.8065\n",
      "Epoch 79/100\n",
      "85/85 [==============================] - 0s 2ms/step - loss: 0.4408 - acc: 0.8058\n",
      "Epoch 80/100\n",
      "85/85 [==============================] - 0s 2ms/step - loss: 0.4392 - acc: 0.8085\n",
      "Epoch 81/100\n",
      "85/85 [==============================] - 0s 2ms/step - loss: 0.4399 - acc: 0.8069\n",
      "Epoch 82/100\n",
      "85/85 [==============================] - 0s 2ms/step - loss: 0.4337 - acc: 0.8104\n",
      "Epoch 83/100\n",
      "85/85 [==============================] - 0s 2ms/step - loss: 0.4411 - acc: 0.8043\n",
      "Epoch 84/100\n",
      "85/85 [==============================] - 0s 2ms/step - loss: 0.4417 - acc: 0.8070\n",
      "Epoch 85/100\n",
      "85/85 [==============================] - 0s 2ms/step - loss: 0.4384 - acc: 0.8057\n",
      "Epoch 86/100\n",
      "85/85 [==============================] - 0s 2ms/step - loss: 0.4365 - acc: 0.8098\n",
      "Epoch 87/100\n"
     ]
    },
    {
     "name": "stdout",
     "output_type": "stream",
     "text": [
      "85/85 [==============================] - 0s 2ms/step - loss: 0.4376 - acc: 0.8078\n",
      "Epoch 88/100\n",
      "85/85 [==============================] - 0s 2ms/step - loss: 0.4379 - acc: 0.8076\n",
      "Epoch 89/100\n",
      "85/85 [==============================] - 0s 2ms/step - loss: 0.4366 - acc: 0.8084\n",
      "Epoch 90/100\n",
      "85/85 [==============================] - 0s 2ms/step - loss: 0.4350 - acc: 0.8075\n",
      "Epoch 91/100\n",
      "85/85 [==============================] - 0s 2ms/step - loss: 0.4317 - acc: 0.8110\n",
      "Epoch 92/100\n",
      "85/85 [==============================] - 0s 2ms/step - loss: 0.4335 - acc: 0.8085\n",
      "Epoch 93/100\n",
      "85/85 [==============================] - 0s 2ms/step - loss: 0.4304 - acc: 0.8125\n",
      "Epoch 94/100\n",
      "85/85 [==============================] - 0s 2ms/step - loss: 0.4384 - acc: 0.8085\n",
      "Epoch 95/100\n",
      "85/85 [==============================] - 0s 2ms/step - loss: 0.4386 - acc: 0.8058\n",
      "Epoch 96/100\n",
      "85/85 [==============================] - 0s 2ms/step - loss: 0.4348 - acc: 0.8108\n",
      "Epoch 97/100\n",
      "85/85 [==============================] - 0s 2ms/step - loss: 0.4382 - acc: 0.8084\n",
      "Epoch 98/100\n",
      "85/85 [==============================] - 0s 2ms/step - loss: 0.4364 - acc: 0.8107\n",
      "Epoch 99/100\n",
      "85/85 [==============================] - 0s 2ms/step - loss: 0.4362 - acc: 0.8084\n",
      "Epoch 100/100\n",
      "85/85 [==============================] - 0s 2ms/step - loss: 0.4373 - acc: 0.8114\n"
     ]
    }
   ],
   "source": [
    "#Treinando o modelo\n",
    "historico = modelo.fit(X_train,y_train_nn,epochs=100,batch_size=100,verbose=1)"
   ]
  },
  {
   "cell_type": "markdown",
   "id": "29545219",
   "metadata": {
    "heading_collapsed": true,
    "hidden": true
   },
   "source": [
    "## 4.3.LGBM Classifier"
   ]
  },
  {
   "cell_type": "code",
   "execution_count": 25,
   "id": "e9fce4c3",
   "metadata": {
    "ExecuteTime": {
     "end_time": "2022-09-23T15:05:00.045056Z",
     "start_time": "2022-09-23T15:04:59.543114Z"
    },
    "hidden": true
   },
   "outputs": [
    {
     "data": {
      "text/html": [
       "<style>#sk-container-id-2 {color: black;background-color: white;}#sk-container-id-2 pre{padding: 0;}#sk-container-id-2 div.sk-toggleable {background-color: white;}#sk-container-id-2 label.sk-toggleable__label {cursor: pointer;display: block;width: 100%;margin-bottom: 0;padding: 0.3em;box-sizing: border-box;text-align: center;}#sk-container-id-2 label.sk-toggleable__label-arrow:before {content: \"▸\";float: left;margin-right: 0.25em;color: #696969;}#sk-container-id-2 label.sk-toggleable__label-arrow:hover:before {color: black;}#sk-container-id-2 div.sk-estimator:hover label.sk-toggleable__label-arrow:before {color: black;}#sk-container-id-2 div.sk-toggleable__content {max-height: 0;max-width: 0;overflow: hidden;text-align: left;background-color: #f0f8ff;}#sk-container-id-2 div.sk-toggleable__content pre {margin: 0.2em;color: black;border-radius: 0.25em;background-color: #f0f8ff;}#sk-container-id-2 input.sk-toggleable__control:checked~div.sk-toggleable__content {max-height: 200px;max-width: 100%;overflow: auto;}#sk-container-id-2 input.sk-toggleable__control:checked~label.sk-toggleable__label-arrow:before {content: \"▾\";}#sk-container-id-2 div.sk-estimator input.sk-toggleable__control:checked~label.sk-toggleable__label {background-color: #d4ebff;}#sk-container-id-2 div.sk-label input.sk-toggleable__control:checked~label.sk-toggleable__label {background-color: #d4ebff;}#sk-container-id-2 input.sk-hidden--visually {border: 0;clip: rect(1px 1px 1px 1px);clip: rect(1px, 1px, 1px, 1px);height: 1px;margin: -1px;overflow: hidden;padding: 0;position: absolute;width: 1px;}#sk-container-id-2 div.sk-estimator {font-family: monospace;background-color: #f0f8ff;border: 1px dotted black;border-radius: 0.25em;box-sizing: border-box;margin-bottom: 0.5em;}#sk-container-id-2 div.sk-estimator:hover {background-color: #d4ebff;}#sk-container-id-2 div.sk-parallel-item::after {content: \"\";width: 100%;border-bottom: 1px solid gray;flex-grow: 1;}#sk-container-id-2 div.sk-label:hover label.sk-toggleable__label {background-color: #d4ebff;}#sk-container-id-2 div.sk-serial::before {content: \"\";position: absolute;border-left: 1px solid gray;box-sizing: border-box;top: 0;bottom: 0;left: 50%;z-index: 0;}#sk-container-id-2 div.sk-serial {display: flex;flex-direction: column;align-items: center;background-color: white;padding-right: 0.2em;padding-left: 0.2em;position: relative;}#sk-container-id-2 div.sk-item {position: relative;z-index: 1;}#sk-container-id-2 div.sk-parallel {display: flex;align-items: stretch;justify-content: center;background-color: white;position: relative;}#sk-container-id-2 div.sk-item::before, #sk-container-id-2 div.sk-parallel-item::before {content: \"\";position: absolute;border-left: 1px solid gray;box-sizing: border-box;top: 0;bottom: 0;left: 50%;z-index: -1;}#sk-container-id-2 div.sk-parallel-item {display: flex;flex-direction: column;z-index: 1;position: relative;background-color: white;}#sk-container-id-2 div.sk-parallel-item:first-child::after {align-self: flex-end;width: 50%;}#sk-container-id-2 div.sk-parallel-item:last-child::after {align-self: flex-start;width: 50%;}#sk-container-id-2 div.sk-parallel-item:only-child::after {width: 0;}#sk-container-id-2 div.sk-dashed-wrapped {border: 1px dashed gray;margin: 0 0.4em 0.5em 0.4em;box-sizing: border-box;padding-bottom: 0.4em;background-color: white;}#sk-container-id-2 div.sk-label label {font-family: monospace;font-weight: bold;display: inline-block;line-height: 1.2em;}#sk-container-id-2 div.sk-label-container {text-align: center;}#sk-container-id-2 div.sk-container {/* jupyter's `normalize.less` sets `[hidden] { display: none; }` but bootstrap.min.css set `[hidden] { display: none !important; }` so we also need the `!important` here to be able to override the default hidden behavior on the sphinx rendered scikit-learn.org. See: https://github.com/scikit-learn/scikit-learn/issues/21755 */display: inline-block !important;position: relative;}#sk-container-id-2 div.sk-text-repr-fallback {display: none;}</style><div id=\"sk-container-id-2\" class=\"sk-top-container\"><div class=\"sk-text-repr-fallback\"><pre>LGBMClassifier()</pre><b>In a Jupyter environment, please rerun this cell to show the HTML representation or trust the notebook. <br />On GitHub, the HTML representation is unable to render, please try loading this page with nbviewer.org.</b></div><div class=\"sk-container\" hidden><div class=\"sk-item\"><div class=\"sk-estimator sk-toggleable\"><input class=\"sk-toggleable__control sk-hidden--visually\" id=\"sk-estimator-id-2\" type=\"checkbox\" checked><label for=\"sk-estimator-id-2\" class=\"sk-toggleable__label sk-toggleable__label-arrow\">LGBMClassifier</label><div class=\"sk-toggleable__content\"><pre>LGBMClassifier()</pre></div></div></div></div></div>"
      ],
      "text/plain": [
       "LGBMClassifier()"
      ]
     },
     "execution_count": 25,
     "metadata": {},
     "output_type": "execute_result"
    }
   ],
   "source": [
    "lgbm = LGBMClassifier()\n",
    "lgbm.fit(X_train,y_train)"
   ]
  },
  {
   "cell_type": "markdown",
   "id": "1f3bb890",
   "metadata": {
    "heading_collapsed": true,
    "hidden": true
   },
   "source": [
    "## 4.4.Random Forest Classifier"
   ]
  },
  {
   "cell_type": "code",
   "execution_count": 26,
   "id": "75724b90",
   "metadata": {
    "ExecuteTime": {
     "end_time": "2022-09-23T15:05:01.106554Z",
     "start_time": "2022-09-23T15:05:00.048059Z"
    },
    "hidden": true
   },
   "outputs": [
    {
     "data": {
      "text/html": [
       "<style>#sk-container-id-3 {color: black;background-color: white;}#sk-container-id-3 pre{padding: 0;}#sk-container-id-3 div.sk-toggleable {background-color: white;}#sk-container-id-3 label.sk-toggleable__label {cursor: pointer;display: block;width: 100%;margin-bottom: 0;padding: 0.3em;box-sizing: border-box;text-align: center;}#sk-container-id-3 label.sk-toggleable__label-arrow:before {content: \"▸\";float: left;margin-right: 0.25em;color: #696969;}#sk-container-id-3 label.sk-toggleable__label-arrow:hover:before {color: black;}#sk-container-id-3 div.sk-estimator:hover label.sk-toggleable__label-arrow:before {color: black;}#sk-container-id-3 div.sk-toggleable__content {max-height: 0;max-width: 0;overflow: hidden;text-align: left;background-color: #f0f8ff;}#sk-container-id-3 div.sk-toggleable__content pre {margin: 0.2em;color: black;border-radius: 0.25em;background-color: #f0f8ff;}#sk-container-id-3 input.sk-toggleable__control:checked~div.sk-toggleable__content {max-height: 200px;max-width: 100%;overflow: auto;}#sk-container-id-3 input.sk-toggleable__control:checked~label.sk-toggleable__label-arrow:before {content: \"▾\";}#sk-container-id-3 div.sk-estimator input.sk-toggleable__control:checked~label.sk-toggleable__label {background-color: #d4ebff;}#sk-container-id-3 div.sk-label input.sk-toggleable__control:checked~label.sk-toggleable__label {background-color: #d4ebff;}#sk-container-id-3 input.sk-hidden--visually {border: 0;clip: rect(1px 1px 1px 1px);clip: rect(1px, 1px, 1px, 1px);height: 1px;margin: -1px;overflow: hidden;padding: 0;position: absolute;width: 1px;}#sk-container-id-3 div.sk-estimator {font-family: monospace;background-color: #f0f8ff;border: 1px dotted black;border-radius: 0.25em;box-sizing: border-box;margin-bottom: 0.5em;}#sk-container-id-3 div.sk-estimator:hover {background-color: #d4ebff;}#sk-container-id-3 div.sk-parallel-item::after {content: \"\";width: 100%;border-bottom: 1px solid gray;flex-grow: 1;}#sk-container-id-3 div.sk-label:hover label.sk-toggleable__label {background-color: #d4ebff;}#sk-container-id-3 div.sk-serial::before {content: \"\";position: absolute;border-left: 1px solid gray;box-sizing: border-box;top: 0;bottom: 0;left: 50%;z-index: 0;}#sk-container-id-3 div.sk-serial {display: flex;flex-direction: column;align-items: center;background-color: white;padding-right: 0.2em;padding-left: 0.2em;position: relative;}#sk-container-id-3 div.sk-item {position: relative;z-index: 1;}#sk-container-id-3 div.sk-parallel {display: flex;align-items: stretch;justify-content: center;background-color: white;position: relative;}#sk-container-id-3 div.sk-item::before, #sk-container-id-3 div.sk-parallel-item::before {content: \"\";position: absolute;border-left: 1px solid gray;box-sizing: border-box;top: 0;bottom: 0;left: 50%;z-index: -1;}#sk-container-id-3 div.sk-parallel-item {display: flex;flex-direction: column;z-index: 1;position: relative;background-color: white;}#sk-container-id-3 div.sk-parallel-item:first-child::after {align-self: flex-end;width: 50%;}#sk-container-id-3 div.sk-parallel-item:last-child::after {align-self: flex-start;width: 50%;}#sk-container-id-3 div.sk-parallel-item:only-child::after {width: 0;}#sk-container-id-3 div.sk-dashed-wrapped {border: 1px dashed gray;margin: 0 0.4em 0.5em 0.4em;box-sizing: border-box;padding-bottom: 0.4em;background-color: white;}#sk-container-id-3 div.sk-label label {font-family: monospace;font-weight: bold;display: inline-block;line-height: 1.2em;}#sk-container-id-3 div.sk-label-container {text-align: center;}#sk-container-id-3 div.sk-container {/* jupyter's `normalize.less` sets `[hidden] { display: none; }` but bootstrap.min.css set `[hidden] { display: none !important; }` so we also need the `!important` here to be able to override the default hidden behavior on the sphinx rendered scikit-learn.org. See: https://github.com/scikit-learn/scikit-learn/issues/21755 */display: inline-block !important;position: relative;}#sk-container-id-3 div.sk-text-repr-fallback {display: none;}</style><div id=\"sk-container-id-3\" class=\"sk-top-container\"><div class=\"sk-text-repr-fallback\"><pre>RandomForestClassifier()</pre><b>In a Jupyter environment, please rerun this cell to show the HTML representation or trust the notebook. <br />On GitHub, the HTML representation is unable to render, please try loading this page with nbviewer.org.</b></div><div class=\"sk-container\" hidden><div class=\"sk-item\"><div class=\"sk-estimator sk-toggleable\"><input class=\"sk-toggleable__control sk-hidden--visually\" id=\"sk-estimator-id-3\" type=\"checkbox\" checked><label for=\"sk-estimator-id-3\" class=\"sk-toggleable__label sk-toggleable__label-arrow\">RandomForestClassifier</label><div class=\"sk-toggleable__content\"><pre>RandomForestClassifier()</pre></div></div></div></div></div>"
      ],
      "text/plain": [
       "RandomForestClassifier()"
      ]
     },
     "execution_count": 26,
     "metadata": {},
     "output_type": "execute_result"
    }
   ],
   "source": [
    "rfc = RandomForestClassifier()\n",
    "rfc.fit(X_train,y_train)"
   ]
  },
  {
   "cell_type": "markdown",
   "id": "c7d50e83",
   "metadata": {
    "heading_collapsed": true,
    "hidden": true
   },
   "source": [
    "## 4.5.XGB Classifier"
   ]
  },
  {
   "cell_type": "code",
   "execution_count": 27,
   "id": "6b695cf9",
   "metadata": {
    "ExecuteTime": {
     "end_time": "2022-09-23T15:05:01.835950Z",
     "start_time": "2022-09-23T15:05:01.110555Z"
    },
    "hidden": true
   },
   "outputs": [
    {
     "data": {
      "text/html": [
       "<style>#sk-container-id-4 {color: black;background-color: white;}#sk-container-id-4 pre{padding: 0;}#sk-container-id-4 div.sk-toggleable {background-color: white;}#sk-container-id-4 label.sk-toggleable__label {cursor: pointer;display: block;width: 100%;margin-bottom: 0;padding: 0.3em;box-sizing: border-box;text-align: center;}#sk-container-id-4 label.sk-toggleable__label-arrow:before {content: \"▸\";float: left;margin-right: 0.25em;color: #696969;}#sk-container-id-4 label.sk-toggleable__label-arrow:hover:before {color: black;}#sk-container-id-4 div.sk-estimator:hover label.sk-toggleable__label-arrow:before {color: black;}#sk-container-id-4 div.sk-toggleable__content {max-height: 0;max-width: 0;overflow: hidden;text-align: left;background-color: #f0f8ff;}#sk-container-id-4 div.sk-toggleable__content pre {margin: 0.2em;color: black;border-radius: 0.25em;background-color: #f0f8ff;}#sk-container-id-4 input.sk-toggleable__control:checked~div.sk-toggleable__content {max-height: 200px;max-width: 100%;overflow: auto;}#sk-container-id-4 input.sk-toggleable__control:checked~label.sk-toggleable__label-arrow:before {content: \"▾\";}#sk-container-id-4 div.sk-estimator input.sk-toggleable__control:checked~label.sk-toggleable__label {background-color: #d4ebff;}#sk-container-id-4 div.sk-label input.sk-toggleable__control:checked~label.sk-toggleable__label {background-color: #d4ebff;}#sk-container-id-4 input.sk-hidden--visually {border: 0;clip: rect(1px 1px 1px 1px);clip: rect(1px, 1px, 1px, 1px);height: 1px;margin: -1px;overflow: hidden;padding: 0;position: absolute;width: 1px;}#sk-container-id-4 div.sk-estimator {font-family: monospace;background-color: #f0f8ff;border: 1px dotted black;border-radius: 0.25em;box-sizing: border-box;margin-bottom: 0.5em;}#sk-container-id-4 div.sk-estimator:hover {background-color: #d4ebff;}#sk-container-id-4 div.sk-parallel-item::after {content: \"\";width: 100%;border-bottom: 1px solid gray;flex-grow: 1;}#sk-container-id-4 div.sk-label:hover label.sk-toggleable__label {background-color: #d4ebff;}#sk-container-id-4 div.sk-serial::before {content: \"\";position: absolute;border-left: 1px solid gray;box-sizing: border-box;top: 0;bottom: 0;left: 50%;z-index: 0;}#sk-container-id-4 div.sk-serial {display: flex;flex-direction: column;align-items: center;background-color: white;padding-right: 0.2em;padding-left: 0.2em;position: relative;}#sk-container-id-4 div.sk-item {position: relative;z-index: 1;}#sk-container-id-4 div.sk-parallel {display: flex;align-items: stretch;justify-content: center;background-color: white;position: relative;}#sk-container-id-4 div.sk-item::before, #sk-container-id-4 div.sk-parallel-item::before {content: \"\";position: absolute;border-left: 1px solid gray;box-sizing: border-box;top: 0;bottom: 0;left: 50%;z-index: -1;}#sk-container-id-4 div.sk-parallel-item {display: flex;flex-direction: column;z-index: 1;position: relative;background-color: white;}#sk-container-id-4 div.sk-parallel-item:first-child::after {align-self: flex-end;width: 50%;}#sk-container-id-4 div.sk-parallel-item:last-child::after {align-self: flex-start;width: 50%;}#sk-container-id-4 div.sk-parallel-item:only-child::after {width: 0;}#sk-container-id-4 div.sk-dashed-wrapped {border: 1px dashed gray;margin: 0 0.4em 0.5em 0.4em;box-sizing: border-box;padding-bottom: 0.4em;background-color: white;}#sk-container-id-4 div.sk-label label {font-family: monospace;font-weight: bold;display: inline-block;line-height: 1.2em;}#sk-container-id-4 div.sk-label-container {text-align: center;}#sk-container-id-4 div.sk-container {/* jupyter's `normalize.less` sets `[hidden] { display: none; }` but bootstrap.min.css set `[hidden] { display: none !important; }` so we also need the `!important` here to be able to override the default hidden behavior on the sphinx rendered scikit-learn.org. See: https://github.com/scikit-learn/scikit-learn/issues/21755 */display: inline-block !important;position: relative;}#sk-container-id-4 div.sk-text-repr-fallback {display: none;}</style><div id=\"sk-container-id-4\" class=\"sk-top-container\"><div class=\"sk-text-repr-fallback\"><pre>XGBClassifier(base_score=0.5, booster=&#x27;gbtree&#x27;, callbacks=None,\n",
       "              colsample_bylevel=1, colsample_bynode=1, colsample_bytree=1,\n",
       "              early_stopping_rounds=None, enable_categorical=False,\n",
       "              eval_metric=None, gamma=0, gpu_id=-1, grow_policy=&#x27;depthwise&#x27;,\n",
       "              importance_type=None, interaction_constraints=&#x27;&#x27;,\n",
       "              learning_rate=0.300000012, max_bin=256, max_cat_to_onehot=4,\n",
       "              max_delta_step=0, max_depth=6, max_leaves=0, min_child_weight=1,\n",
       "              missing=nan, monotone_constraints=&#x27;()&#x27;, n_estimators=100,\n",
       "              n_jobs=0, num_parallel_tree=1, predictor=&#x27;auto&#x27;, random_state=0,\n",
       "              reg_alpha=0, reg_lambda=1, ...)</pre><b>In a Jupyter environment, please rerun this cell to show the HTML representation or trust the notebook. <br />On GitHub, the HTML representation is unable to render, please try loading this page with nbviewer.org.</b></div><div class=\"sk-container\" hidden><div class=\"sk-item\"><div class=\"sk-estimator sk-toggleable\"><input class=\"sk-toggleable__control sk-hidden--visually\" id=\"sk-estimator-id-4\" type=\"checkbox\" checked><label for=\"sk-estimator-id-4\" class=\"sk-toggleable__label sk-toggleable__label-arrow\">XGBClassifier</label><div class=\"sk-toggleable__content\"><pre>XGBClassifier(base_score=0.5, booster=&#x27;gbtree&#x27;, callbacks=None,\n",
       "              colsample_bylevel=1, colsample_bynode=1, colsample_bytree=1,\n",
       "              early_stopping_rounds=None, enable_categorical=False,\n",
       "              eval_metric=None, gamma=0, gpu_id=-1, grow_policy=&#x27;depthwise&#x27;,\n",
       "              importance_type=None, interaction_constraints=&#x27;&#x27;,\n",
       "              learning_rate=0.300000012, max_bin=256, max_cat_to_onehot=4,\n",
       "              max_delta_step=0, max_depth=6, max_leaves=0, min_child_weight=1,\n",
       "              missing=nan, monotone_constraints=&#x27;()&#x27;, n_estimators=100,\n",
       "              n_jobs=0, num_parallel_tree=1, predictor=&#x27;auto&#x27;, random_state=0,\n",
       "              reg_alpha=0, reg_lambda=1, ...)</pre></div></div></div></div></div>"
      ],
      "text/plain": [
       "XGBClassifier(base_score=0.5, booster='gbtree', callbacks=None,\n",
       "              colsample_bylevel=1, colsample_bynode=1, colsample_bytree=1,\n",
       "              early_stopping_rounds=None, enable_categorical=False,\n",
       "              eval_metric=None, gamma=0, gpu_id=-1, grow_policy='depthwise',\n",
       "              importance_type=None, interaction_constraints='',\n",
       "              learning_rate=0.300000012, max_bin=256, max_cat_to_onehot=4,\n",
       "              max_delta_step=0, max_depth=6, max_leaves=0, min_child_weight=1,\n",
       "              missing=nan, monotone_constraints='()', n_estimators=100,\n",
       "              n_jobs=0, num_parallel_tree=1, predictor='auto', random_state=0,\n",
       "              reg_alpha=0, reg_lambda=1, ...)"
      ]
     },
     "execution_count": 27,
     "metadata": {},
     "output_type": "execute_result"
    }
   ],
   "source": [
    "xgb = XGBClassifier()\n",
    "xgb.fit(X_train,y_train)"
   ]
  },
  {
   "cell_type": "markdown",
   "id": "b53d13c1",
   "metadata": {},
   "source": [
    "# 5.0.Models Perfomance"
   ]
  },
  {
   "cell_type": "markdown",
   "id": "322fc0c9",
   "metadata": {},
   "source": [
    "## 5.1.Simple Performance"
   ]
  },
  {
   "cell_type": "markdown",
   "id": "c33784bf",
   "metadata": {},
   "source": [
    "### 5.1.1.Logistic Regression"
   ]
  },
  {
   "cell_type": "code",
   "execution_count": 28,
   "id": "158e9bcb",
   "metadata": {
    "ExecuteTime": {
     "end_time": "2022-09-23T15:05:02.234163Z",
     "start_time": "2022-09-23T15:05:01.837951Z"
    }
   },
   "outputs": [
    {
     "name": "stdout",
     "output_type": "stream",
     "text": [
      "Previsões erradas sobre o Total\n",
      "1017 / 3605\n",
      "\n",
      "\n",
      "Accuracy: 71.79%\n",
      "Balacend Acurracy: 70.33%\n",
      "Kappa Score: 41.28%\n",
      "AUC: 0.7033\n",
      "\n",
      "               precision    recall  f1-score   support\n",
      "\n",
      "           0       0.74      0.80      0.77      2085\n",
      "           1       0.69      0.61      0.65      1520\n",
      "\n",
      "    accuracy                           0.72      3605\n",
      "   macro avg       0.71      0.70      0.71      3605\n",
      "weighted avg       0.72      0.72      0.72      3605\n",
      "\n"
     ]
    },
    {
     "data": {
      "image/png": "[encoded data removed]",
      "text/plain": [
       "<Figure size 600x600 with 2 Axes>"
      ]
     },
     "metadata": {},
     "output_type": "display_data"
    }
   ],
   "source": [
    "results_lc = lc.predict(X_test)\n",
    "model_perfomance_class(y_test,results_lc,show=True)"
   ]
  },
  {
   "cell_type": "markdown",
   "id": "2789eb39",
   "metadata": {
    "heading_collapsed": true
   },
   "source": [
    "### 5.1.2.Redes Neurais"
   ]
  },
  {
   "cell_type": "code",
   "execution_count": 29,
   "id": "8e7c4cfd",
   "metadata": {
    "ExecuteTime": {
     "end_time": "2022-09-23T15:05:02.692589Z",
     "start_time": "2022-09-23T15:05:02.237164Z"
    },
    "hidden": true
   },
   "outputs": [
    {
     "name": "stdout",
     "output_type": "stream",
     "text": [
      "113/113 [==============================] - 0s 1ms/step\n",
      "Previsões erradas sobre o Total\n",
      "681 / 3605\n",
      "\n",
      "\n",
      "Accuracy: 81.11%\n",
      "Balacend Acurracy: 79.43%\n",
      "Kappa Score: 60.32%\n",
      "AUC: 0.7943\n",
      "\n",
      "               precision    recall  f1-score   support\n",
      "\n",
      "           0       0.80      0.90      0.85      2085\n",
      "           1       0.84      0.69      0.75      1520\n",
      "\n",
      "    accuracy                           0.81      3605\n",
      "   macro avg       0.82      0.79      0.80      3605\n",
      "weighted avg       0.81      0.81      0.81      3605\n",
      "\n"
     ]
    }
   ],
   "source": [
    "previsoes_rnn = modelo.predict(X_test)\n",
    "yhat_nn = ohe.inverse_transform(previsoes_rnn)\n",
    "yhat = yhat_nn.reshape(1,-1)[0]\n",
    "model_perfomance_class(y_test_nn,yhat)"
   ]
  },
  {
   "cell_type": "markdown",
   "id": "03ce0988",
   "metadata": {},
   "source": [
    "### 5.1.3.LGBM"
   ]
  },
  {
   "cell_type": "code",
   "execution_count": 30,
   "id": "d8ba2888",
   "metadata": {
    "ExecuteTime": {
     "end_time": "2022-09-23T15:05:03.040467Z",
     "start_time": "2022-09-23T15:05:02.696589Z"
    }
   },
   "outputs": [
    {
     "name": "stdout",
     "output_type": "stream",
     "text": [
      "Previsões erradas sobre o Total\n",
      "516 / 3605\n",
      "\n",
      "\n",
      "Accuracy: 85.69%\n",
      "Balacend Acurracy: 84.69%\n",
      "Kappa Score: 70.28%\n",
      "AUC: 0.8469\n",
      "\n",
      "               precision    recall  f1-score   support\n",
      "\n",
      "           0       0.85      0.91      0.88      2085\n",
      "           1       0.86      0.78      0.82      1520\n",
      "\n",
      "    accuracy                           0.86      3605\n",
      "   macro avg       0.86      0.85      0.85      3605\n",
      "weighted avg       0.86      0.86      0.86      3605\n",
      "\n"
     ]
    },
    {
     "data": {
      "image/png": "[encoded data removed]",
      "text/plain": [
       "<Figure size 600x600 with 2 Axes>"
      ]
     },
     "metadata": {},
     "output_type": "display_data"
    }
   ],
   "source": [
    "previsoes_lgbm = lgbm.predict(X_test)\n",
    "model_perfomance_class(y_test,previsoes_lgbm,show=True)"
   ]
  },
  {
   "cell_type": "markdown",
   "id": "0615c6da",
   "metadata": {},
   "source": [
    "### 5.1.4.Random Forest"
   ]
  },
  {
   "cell_type": "code",
   "execution_count": 31,
   "id": "fc2d5c45",
   "metadata": {
    "ExecuteTime": {
     "end_time": "2022-09-23T15:05:03.420486Z",
     "start_time": "2022-09-23T15:05:03.043462Z"
    }
   },
   "outputs": [
    {
     "name": "stdout",
     "output_type": "stream",
     "text": [
      "Previsões erradas sobre o Total\n",
      "459 / 3605\n",
      "\n",
      "\n",
      "Accuracy: 87.27%\n",
      "Balacend Acurracy: 86.56%\n",
      "Kappa Score: 73.69%\n",
      "AUC: 0.8656\n",
      "\n",
      "               precision    recall  f1-score   support\n",
      "\n",
      "           0       0.87      0.91      0.89      2085\n",
      "           1       0.87      0.82      0.84      1520\n",
      "\n",
      "    accuracy                           0.87      3605\n",
      "   macro avg       0.87      0.87      0.87      3605\n",
      "weighted avg       0.87      0.87      0.87      3605\n",
      "\n"
     ]
    },
    {
     "data": {
      "image/png": "[encoded data removed]",
      "text/plain": [
       "<Figure size 600x600 with 2 Axes>"
      ]
     },
     "metadata": {},
     "output_type": "display_data"
    }
   ],
   "source": [
    "previsoes_rfc = rfc.predict(X_test)\n",
    "model_perfomance_class(y_test,previsoes_rfc,show=True)"
   ]
  },
  {
   "cell_type": "markdown",
   "id": "64b86acc",
   "metadata": {},
   "source": [
    "### 5.1.5.Xgb"
   ]
  },
  {
   "cell_type": "code",
   "execution_count": 32,
   "id": "c5ea9867",
   "metadata": {
    "ExecuteTime": {
     "end_time": "2022-09-23T15:05:03.770480Z",
     "start_time": "2022-09-23T15:05:03.423482Z"
    }
   },
   "outputs": [
    {
     "name": "stdout",
     "output_type": "stream",
     "text": [
      "Previsões erradas sobre o Total\n",
      "494 / 3605\n",
      "\n",
      "\n",
      "Accuracy: 86.30%\n",
      "Balacend Acurracy: 85.47%\n",
      "Kappa Score: 71.63%\n",
      "AUC: 0.8547\n",
      "\n",
      "               precision    recall  f1-score   support\n",
      "\n",
      "           0       0.86      0.91      0.88      2085\n",
      "           1       0.86      0.80      0.83      1520\n",
      "\n",
      "    accuracy                           0.86      3605\n",
      "   macro avg       0.86      0.85      0.86      3605\n",
      "weighted avg       0.86      0.86      0.86      3605\n",
      "\n"
     ]
    },
    {
     "data": {
      "image/png": "[encoded data removed]",
      "text/plain": [
       "<Figure size 600x600 with 2 Axes>"
      ]
     },
     "metadata": {},
     "output_type": "display_data"
    }
   ],
   "source": [
    "previsoes_xgb = xgb.predict(X_test)\n",
    "model_perfomance_class(y_test,previsoes_xgb,show=True)"
   ]
  },
  {
   "cell_type": "markdown",
   "id": "ba86f969",
   "metadata": {},
   "source": [
    "## 5.2.Cross Validation Performance\n"
   ]
  },
  {
   "cell_type": "markdown",
   "id": "2bbe994d",
   "metadata": {},
   "source": [
    "### 5.2.1.Logistic Regression"
   ]
  },
  {
   "cell_type": "code",
   "execution_count": 33,
   "id": "e66efeed",
   "metadata": {
    "ExecuteTime": {
     "end_time": "2022-09-23T15:05:03.978481Z",
     "start_time": "2022-09-23T15:05:03.773480Z"
    },
    "scrolled": true
   },
   "outputs": [
    {
     "name": "stdout",
     "output_type": "stream",
     "text": [
      "Folds: 1/10\n",
      "Folds: 2/10\n",
      "Folds: 3/10\n",
      "Folds: 4/10\n",
      "Folds: 5/10\n",
      "Folds: 6/10\n",
      "Folds: 7/10\n",
      "Folds: 8/10\n",
      "Folds: 9/10\n",
      "Folds: 10/10\n"
     ]
    },
    {
     "data": {
      "text/html": [
       "<div>\n",
       "<style scoped>\n",
       "    .dataframe tbody tr th:only-of-type {\n",
       "        vertical-align: middle;\n",
       "    }\n",
       "\n",
       "    .dataframe tbody tr th {\n",
       "        vertical-align: top;\n",
       "    }\n",
       "\n",
       "    .dataframe thead th {\n",
       "        text-align: right;\n",
       "    }\n",
       "</style>\n",
       "<table border=\"1\" class=\"dataframe\">\n",
       "  <thead>\n",
       "    <tr style=\"text-align: right;\">\n",
       "      <th></th>\n",
       "      <th>Model Name</th>\n",
       "      <th>acurracy_score</th>\n",
       "      <th>Balacend_Acurracy</th>\n",
       "      <th>Kappa_Score</th>\n",
       "      <th>AUC</th>\n",
       "    </tr>\n",
       "  </thead>\n",
       "  <tbody>\n",
       "    <tr>\n",
       "      <th>0</th>\n",
       "      <td>LogisticRegression</td>\n",
       "      <td>72.00%+/- 1.00%</td>\n",
       "      <td>71.00%+/- 1.00%</td>\n",
       "      <td>42.00%+/- 0.00%</td>\n",
       "      <td>71.00%+/- 1.00%</td>\n",
       "    </tr>\n",
       "  </tbody>\n",
       "</table>\n",
       "</div>"
      ],
      "text/plain": [
       "           Model Name   acurracy_score Balacend_Acurracy      Kappa_Score  \\\n",
       "0  LogisticRegression  72.00%+/- 1.00%   71.00%+/- 1.00%  42.00%+/- 0.00%   \n",
       "\n",
       "               AUC  \n",
       "0  71.00%+/- 1.00%  "
      ]
     },
     "execution_count": 33,
     "metadata": {},
     "output_type": "execute_result"
    }
   ],
   "source": [
    "lc_cv = LogisticRegression(C=0.01)\n",
    "cross_validation_kfold_class('LogisticRegression',lc_cv,10,X_train,y_train,verbose=True)"
   ]
  },
  {
   "cell_type": "markdown",
   "id": "6eed26ea",
   "metadata": {},
   "source": [
    "### 5.2.2.LGBM Classifier"
   ]
  },
  {
   "cell_type": "code",
   "execution_count": 34,
   "id": "c7098654",
   "metadata": {
    "ExecuteTime": {
     "end_time": "2022-09-23T15:05:05.030481Z",
     "start_time": "2022-09-23T15:05:03.981480Z"
    }
   },
   "outputs": [
    {
     "name": "stdout",
     "output_type": "stream",
     "text": [
      "Folds: 1/10\n",
      "Folds: 2/10\n",
      "Folds: 3/10\n",
      "Folds: 4/10\n",
      "Folds: 5/10\n",
      "Folds: 6/10\n",
      "Folds: 7/10\n",
      "Folds: 8/10\n",
      "Folds: 9/10\n",
      "Folds: 10/10\n"
     ]
    },
    {
     "data": {
      "text/html": [
       "<div>\n",
       "<style scoped>\n",
       "    .dataframe tbody tr th:only-of-type {\n",
       "        vertical-align: middle;\n",
       "    }\n",
       "\n",
       "    .dataframe tbody tr th {\n",
       "        vertical-align: top;\n",
       "    }\n",
       "\n",
       "    .dataframe thead th {\n",
       "        text-align: right;\n",
       "    }\n",
       "</style>\n",
       "<table border=\"1\" class=\"dataframe\">\n",
       "  <thead>\n",
       "    <tr style=\"text-align: right;\">\n",
       "      <th></th>\n",
       "      <th>Model Name</th>\n",
       "      <th>acurracy_score</th>\n",
       "      <th>Balacend_Acurracy</th>\n",
       "      <th>Kappa_Score</th>\n",
       "      <th>AUC</th>\n",
       "    </tr>\n",
       "  </thead>\n",
       "  <tbody>\n",
       "    <tr>\n",
       "      <th>0</th>\n",
       "      <td>LGBM Classifier</td>\n",
       "      <td>87.00%+/- 1.00%</td>\n",
       "      <td>86.00%+/- 1.00%</td>\n",
       "      <td>73.00%+/- 0.00%</td>\n",
       "      <td>86.00%+/- 1.00%</td>\n",
       "    </tr>\n",
       "  </tbody>\n",
       "</table>\n",
       "</div>"
      ],
      "text/plain": [
       "        Model Name   acurracy_score Balacend_Acurracy      Kappa_Score  \\\n",
       "0  LGBM Classifier  87.00%+/- 1.00%   86.00%+/- 1.00%  73.00%+/- 0.00%   \n",
       "\n",
       "               AUC  \n",
       "0  86.00%+/- 1.00%  "
      ]
     },
     "execution_count": 34,
     "metadata": {},
     "output_type": "execute_result"
    }
   ],
   "source": [
    "lgbm_cv = LGBMClassifier()\n",
    "cross_validation_kfold_class('LGBM Classifier',lgbm_cv,10,X_train,y_train,verbose=True)"
   ]
  },
  {
   "cell_type": "markdown",
   "id": "71b15912",
   "metadata": {},
   "source": [
    "### 5.2.3Random Forest Classifier"
   ]
  },
  {
   "cell_type": "code",
   "execution_count": 35,
   "id": "e1cfcdad",
   "metadata": {
    "ExecuteTime": {
     "end_time": "2022-09-23T15:05:14.341509Z",
     "start_time": "2022-09-23T15:05:05.033480Z"
    }
   },
   "outputs": [
    {
     "name": "stdout",
     "output_type": "stream",
     "text": [
      "Folds: 1/10\n",
      "Folds: 2/10\n",
      "Folds: 3/10\n",
      "Folds: 4/10\n",
      "Folds: 5/10\n",
      "Folds: 6/10\n",
      "Folds: 7/10\n",
      "Folds: 8/10\n",
      "Folds: 9/10\n",
      "Folds: 10/10\n"
     ]
    },
    {
     "data": {
      "text/html": [
       "<div>\n",
       "<style scoped>\n",
       "    .dataframe tbody tr th:only-of-type {\n",
       "        vertical-align: middle;\n",
       "    }\n",
       "\n",
       "    .dataframe tbody tr th {\n",
       "        vertical-align: top;\n",
       "    }\n",
       "\n",
       "    .dataframe thead th {\n",
       "        text-align: right;\n",
       "    }\n",
       "</style>\n",
       "<table border=\"1\" class=\"dataframe\">\n",
       "  <thead>\n",
       "    <tr style=\"text-align: right;\">\n",
       "      <th></th>\n",
       "      <th>Model Name</th>\n",
       "      <th>acurracy_score</th>\n",
       "      <th>Balacend_Acurracy</th>\n",
       "      <th>Kappa_Score</th>\n",
       "      <th>AUC</th>\n",
       "    </tr>\n",
       "  </thead>\n",
       "  <tbody>\n",
       "    <tr>\n",
       "      <th>0</th>\n",
       "      <td>Random Forest Classifier</td>\n",
       "      <td>88.00%+/- 1.00%</td>\n",
       "      <td>87.00%+/- 1.00%</td>\n",
       "      <td>74.00%+/- 0.00%</td>\n",
       "      <td>87.00%+/- 1.00%</td>\n",
       "    </tr>\n",
       "  </tbody>\n",
       "</table>\n",
       "</div>"
      ],
      "text/plain": [
       "                 Model Name   acurracy_score Balacend_Acurracy  \\\n",
       "0  Random Forest Classifier  88.00%+/- 1.00%   87.00%+/- 1.00%   \n",
       "\n",
       "       Kappa_Score              AUC  \n",
       "0  74.00%+/- 0.00%  87.00%+/- 1.00%  "
      ]
     },
     "execution_count": 35,
     "metadata": {},
     "output_type": "execute_result"
    }
   ],
   "source": [
    "rfc_cv = RandomForestClassifier()\n",
    "cross_validation_kfold_class('Random Forest Classifier',rfc_cv,10,X_train,y_train,verbose=True)"
   ]
  },
  {
   "cell_type": "markdown",
   "id": "712887fe",
   "metadata": {
    "heading_collapsed": true
   },
   "source": [
    "### 5.2.4.XGB Classifier"
   ]
  },
  {
   "cell_type": "code",
   "execution_count": 36,
   "id": "adb475eb",
   "metadata": {
    "ExecuteTime": {
     "end_time": "2022-09-23T15:05:18.721509Z",
     "start_time": "2022-09-23T15:05:14.343512Z"
    },
    "hidden": true
   },
   "outputs": [
    {
     "name": "stdout",
     "output_type": "stream",
     "text": [
      "Folds: 1/10\n",
      "Folds: 2/10\n",
      "Folds: 3/10\n",
      "Folds: 4/10\n",
      "Folds: 5/10\n",
      "Folds: 6/10\n",
      "Folds: 7/10\n",
      "Folds: 8/10\n",
      "Folds: 9/10\n",
      "Folds: 10/10\n"
     ]
    },
    {
     "data": {
      "text/html": [
       "<div>\n",
       "<style scoped>\n",
       "    .dataframe tbody tr th:only-of-type {\n",
       "        vertical-align: middle;\n",
       "    }\n",
       "\n",
       "    .dataframe tbody tr th {\n",
       "        vertical-align: top;\n",
       "    }\n",
       "\n",
       "    .dataframe thead th {\n",
       "        text-align: right;\n",
       "    }\n",
       "</style>\n",
       "<table border=\"1\" class=\"dataframe\">\n",
       "  <thead>\n",
       "    <tr style=\"text-align: right;\">\n",
       "      <th></th>\n",
       "      <th>Model Name</th>\n",
       "      <th>acurracy_score</th>\n",
       "      <th>Balacend_Acurracy</th>\n",
       "      <th>Kappa_Score</th>\n",
       "      <th>AUC</th>\n",
       "    </tr>\n",
       "  </thead>\n",
       "  <tbody>\n",
       "    <tr>\n",
       "      <th>0</th>\n",
       "      <td>XGB Classifier</td>\n",
       "      <td>87.00%+/- 1.00%</td>\n",
       "      <td>86.00%+/- 1.00%</td>\n",
       "      <td>73.00%+/- 0.00%</td>\n",
       "      <td>86.00%+/- 1.00%</td>\n",
       "    </tr>\n",
       "  </tbody>\n",
       "</table>\n",
       "</div>"
      ],
      "text/plain": [
       "       Model Name   acurracy_score Balacend_Acurracy      Kappa_Score  \\\n",
       "0  XGB Classifier  87.00%+/- 1.00%   86.00%+/- 1.00%  73.00%+/- 0.00%   \n",
       "\n",
       "               AUC  \n",
       "0  86.00%+/- 1.00%  "
      ]
     },
     "execution_count": 36,
     "metadata": {},
     "output_type": "execute_result"
    }
   ],
   "source": [
    "xgb_cv = XGBClassifier()\n",
    "cross_validation_kfold_class('XGB Classifier',xgb_cv,10,X_train,y_train,verbose=True)"
   ]
  },
  {
   "cell_type": "markdown",
   "id": "9ebbc69b",
   "metadata": {},
   "source": [
    "### Resultado\n",
    "\n",
    "**Modelo Escolhido:** Vou escolher seguir em frente com o modelo **Random Forest Classifier**\n",
    "\n",
    "**Motivo:** E um modelo com uma exelente perfomance, rápido e tenho uma função de tunning feita para esse modelo, por isso vou seguir em frente com ele para a etapa de tunning."
   ]
  },
  {
   "cell_type": "markdown",
   "id": "62c81d09",
   "metadata": {},
   "source": [
    "# 6.0.Tunning do modelo escolhido\n",
    "\n",
    "**Resultado:** Após aplicar um tunning do modelo, modificando vários parâmetros, percebi que os parâmetros padrão deles são os melhores, nenhum modelo do tunning foi superior ao padrão, por isso seguirei com o modelo padrão da random forest."
   ]
  },
  {
   "cell_type": "code",
   "execution_count": 84,
   "id": "1ad501b4",
   "metadata": {
    "ExecuteTime": {
     "end_time": "2022-09-23T15:36:49.476834Z",
     "start_time": "2022-09-23T15:36:36.480687Z"
    }
   },
   "outputs": [
    {
     "name": "stdout",
     "output_type": "stream",
     "text": [
      "Previsões erradas sobre o Total\n",
      "450 / 3605\n",
      "\n",
      "\n",
      "Accuracy: 87.52%\n",
      "Balacend Acurracy: 86.82%\n",
      "Kappa Score: 74.21%\n",
      "AUC: 0.8682\n",
      "\n",
      "               precision    recall  f1-score   support\n",
      "\n",
      "           0       0.88      0.91      0.89      2085\n",
      "           1       0.87      0.82      0.85      1520\n",
      "\n",
      "    accuracy                           0.88      3605\n",
      "   macro avg       0.87      0.87      0.87      3605\n",
      "weighted avg       0.88      0.88      0.87      3605\n",
      "\n"
     ]
    },
    {
     "data": {
      "image/png": "[encoded data removed]",
      "text/plain": [
       "<Figure size 600x600 with 2 Axes>"
      ]
     },
     "metadata": {},
     "output_type": "display_data"
    }
   ],
   "source": [
    "random_class = RandomForestClassifier(n_estimators=1200,random_state=42) #Pelo visto um pequeno aumento no numero de estimators melhora o modelo.\n",
    "random_class.fit(X_train,y_train)\n",
    "model_perfomance_class(y_test,random_class.predict(X_test),show=True)"
   ]
  },
  {
   "cell_type": "code",
   "execution_count": 86,
   "id": "01a4bc6e",
   "metadata": {
    "ExecuteTime": {
     "end_time": "2022-09-23T15:38:43.895486Z",
     "start_time": "2022-09-23T15:38:42.647481Z"
    }
   },
   "outputs": [],
   "source": [
    "#Salvando o modelo\n",
    "joblib.dump(random_class,open('modelo/custumer_churn_random_forest_class.joblib','wb'))"
   ]
  },
  {
   "cell_type": "markdown",
   "id": "2f89a2be",
   "metadata": {},
   "source": [
    "**O que foi feito nessa etapa?**\n",
    "- Machine Learning Models:\n",
    "    - Essa e uma etapa de teste que visa encontrar o melhor modelo que se adéque aos meus dados, para isso testei diversos modelos e até redes neurais, e encontrei o melhor modelo com uma performance de 87%, um excelente resultado.\n",
    "    \n",
    "**O que será feito na próxima etapa?**\n",
    "- Interpretação do erro:\n",
    "    - Analisarei o comportamento do erro, analisar graficamente como ele esta distribuído o cliente churn, comparar com o real e analisar a distribuição  do erro.\n",
    "\n",
    "    - Caso houvesse alguma feature numérica de valor nos dados, eu poderia analisar o quanto o modelo trará de lucro para a empresa, porem como e um projeto de classificação não sera possível.\n",
    "\n",
    "**Próxima etapa:**\n",
    "Interpretação do erro"
   ]
  }
 ],
 "metadata": {
  "kernelspec": {
   "display_name": "Python 3 (ipykernel)",
   "language": "python",
   "name": "python3"
  },
  "language_info": {
   "codemirror_mode": {
    "name": "ipython",
    "version": 3
   },
   "file_extension": ".py",
   "mimetype": "text/x-python",
   "name": "python",
   "nbconvert_exporter": "python",
   "pygments_lexer": "ipython3",
   "version": "3.10.4"
  },
  "toc": {
   "base_numbering": "0",
   "nav_menu": {},
   "number_sections": true,
   "sideBar": true,
   "skip_h1_title": false,
   "title_cell": "Table of Contents",
   "title_sidebar": "Contents",
   "toc_cell": false,
   "toc_position": {},
   "toc_section_display": true,
   "toc_window_display": false
  },
  "varInspector": {
   "cols": {
    "lenName": 16,
    "lenType": 16,
    "lenVar": 40
   },
   "kernels_config": {
    "python": {
     "delete_cmd_postfix": "",
     "delete_cmd_prefix": "del ",
     "library": "var_list.py",
     "varRefreshCmd": "print(var_dic_list())"
    },
    "r": {
     "delete_cmd_postfix": ") ",
     "delete_cmd_prefix": "rm(",
     "library": "var_list.r",
     "varRefreshCmd": "cat(var_dic_list()) "
    }
   },
   "types_to_exclude": [
    "module",
    "function",
    "builtin_function_or_method",
    "instance",
    "_Feature"
   ],
   "window_display": false
  }
 },
 "nbformat": 4,
 "nbformat_minor": 5
}
