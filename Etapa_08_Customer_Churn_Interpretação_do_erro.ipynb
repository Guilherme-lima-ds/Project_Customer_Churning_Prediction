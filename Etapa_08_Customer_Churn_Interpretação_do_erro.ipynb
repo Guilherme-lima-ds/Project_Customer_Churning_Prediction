{
 "cells": [
  {
   "cell_type": "markdown",
   "id": "818b5ea4",
   "metadata": {},
   "source": [
    "# 0.0.Entendimento do projeto\n",
    "\n",
    "**Objetivo do projeto, como ele sera resolvido e muitas outras informações contidas no arquivo PDS(Plano de Solução).**\n",
    "\n",
    "\n",
    "**OBS:** Assim como fiz para separar as 5 primeiras etapas com as etapas de machine learning, farei o mesmo aqui, para não ter que ficar rodando todos os modelos, eu já salvei o melhor modelo e vou salvar dados selecionados."
   ]
  },
  {
   "cell_type": "markdown",
   "id": "92acd22b",
   "metadata": {},
   "source": [
    "# 1.0.Impots"
   ]
  },
  {
   "cell_type": "code",
   "execution_count": 1,
   "id": "1eb77291",
   "metadata": {
    "ExecuteTime": {
     "end_time": "2022-09-26T15:44:21.283419Z",
     "start_time": "2022-09-26T15:44:18.084196Z"
    }
   },
   "outputs": [],
   "source": [
    "#Manipulação de dados\n",
    "import pandas as pd\n",
    "import numpy as np\n",
    "import sys , os\n",
    "import joblib\n",
    "\n",
    "#Visualização de dados\n",
    "import matplotlib.pyplot as plt\n",
    "import seaborn as sns\n",
    "\n",
    "#Machine Learning Models\n",
    "from sklearn.model_selection import train_test_split\n",
    "\n",
    "#filterwarnings\n",
    "import warnings\n",
    "warnings.filterwarnings('ignore')\n",
    "\n",
    "#Show all columns\n",
    "pd.set_option('display.max_columns', None)"
   ]
  },
  {
   "cell_type": "markdown",
   "id": "a32411ea",
   "metadata": {},
   "source": [
    "## 1.1.Load Data and Model"
   ]
  },
  {
   "cell_type": "code",
   "execution_count": 2,
   "id": "72202c68",
   "metadata": {
    "ExecuteTime": {
     "end_time": "2022-09-26T15:44:26.972293Z",
     "start_time": "2022-09-26T15:44:21.287423Z"
    }
   },
   "outputs": [],
   "source": [
    "dados = pd.read_csv('datasets/dados_selecionados.csv').drop('Unnamed: 0',axis=1)\n",
    "modelo_random_forest = joblib.load('modelo/custumer_churn_random_forest_class.joblib')"
   ]
  },
  {
   "cell_type": "code",
   "execution_count": 3,
   "id": "acb3525a",
   "metadata": {
    "ExecuteTime": {
     "end_time": "2022-09-26T15:44:27.364367Z",
     "start_time": "2022-09-26T15:44:26.975292Z"
    }
   },
   "outputs": [
    {
     "data": {
      "text/html": [
       "<div>\n",
       "<style scoped>\n",
       "    .dataframe tbody tr th:only-of-type {\n",
       "        vertical-align: middle;\n",
       "    }\n",
       "\n",
       "    .dataframe tbody tr th {\n",
       "        vertical-align: top;\n",
       "    }\n",
       "\n",
       "    .dataframe thead th {\n",
       "        text-align: right;\n",
       "    }\n",
       "</style>\n",
       "<table border=\"1\" class=\"dataframe\">\n",
       "  <thead>\n",
       "    <tr style=\"text-align: right;\">\n",
       "      <th></th>\n",
       "      <th>credit_score</th>\n",
       "      <th>Tenure</th>\n",
       "      <th>Balance</th>\n",
       "      <th>num_of_products</th>\n",
       "      <th>isActiveMember</th>\n",
       "      <th>estimated_salary</th>\n",
       "      <th>age_cat</th>\n",
       "      <th>exited</th>\n",
       "    </tr>\n",
       "  </thead>\n",
       "  <tbody>\n",
       "    <tr>\n",
       "      <th>0</th>\n",
       "      <td>0.375643</td>\n",
       "      <td>1.000000</td>\n",
       "      <td>0.456421</td>\n",
       "      <td>-0.233956</td>\n",
       "      <td>-0.350731</td>\n",
       "      <td>-0.104782</td>\n",
       "      <td>0.4015</td>\n",
       "      <td>0</td>\n",
       "    </tr>\n",
       "    <tr>\n",
       "      <th>1</th>\n",
       "      <td>-0.310779</td>\n",
       "      <td>-1.000000</td>\n",
       "      <td>-0.801700</td>\n",
       "      <td>-0.233956</td>\n",
       "      <td>0.649269</td>\n",
       "      <td>-0.175114</td>\n",
       "      <td>-0.8521</td>\n",
       "      <td>1</td>\n",
       "    </tr>\n",
       "    <tr>\n",
       "      <th>2</th>\n",
       "      <td>-0.398577</td>\n",
       "      <td>-1.000000</td>\n",
       "      <td>-0.301306</td>\n",
       "      <td>0.766044</td>\n",
       "      <td>0.649269</td>\n",
       "      <td>-0.041026</td>\n",
       "      <td>0.4015</td>\n",
       "      <td>0</td>\n",
       "    </tr>\n",
       "    <tr>\n",
       "      <th>3</th>\n",
       "      <td>-0.191054</td>\n",
       "      <td>0.250000</td>\n",
       "      <td>-0.352725</td>\n",
       "      <td>-0.233956</td>\n",
       "      <td>-0.350731</td>\n",
       "      <td>0.886554</td>\n",
       "      <td>-0.8521</td>\n",
       "      <td>0</td>\n",
       "    </tr>\n",
       "    <tr>\n",
       "      <th>4</th>\n",
       "      <td>0.750780</td>\n",
       "      <td>1.250000</td>\n",
       "      <td>-0.055742</td>\n",
       "      <td>-0.233956</td>\n",
       "      <td>-0.350731</td>\n",
       "      <td>-0.263540</td>\n",
       "      <td>0.4015</td>\n",
       "      <td>0</td>\n",
       "    </tr>\n",
       "    <tr>\n",
       "      <th>...</th>\n",
       "      <td>...</td>\n",
       "      <td>...</td>\n",
       "      <td>...</td>\n",
       "      <td>...</td>\n",
       "      <td>...</td>\n",
       "      <td>...</td>\n",
       "      <td>...</td>\n",
       "      <td>...</td>\n",
       "    </tr>\n",
       "    <tr>\n",
       "      <th>12609</th>\n",
       "      <td>-0.067315</td>\n",
       "      <td>0.115750</td>\n",
       "      <td>-0.801700</td>\n",
       "      <td>0.034544</td>\n",
       "      <td>-0.082231</td>\n",
       "      <td>-0.693198</td>\n",
       "      <td>0.4015</td>\n",
       "      <td>1</td>\n",
       "    </tr>\n",
       "    <tr>\n",
       "      <th>12610</th>\n",
       "      <td>0.097759</td>\n",
       "      <td>0.349787</td>\n",
       "      <td>0.207728</td>\n",
       "      <td>-0.233956</td>\n",
       "      <td>0.182886</td>\n",
       "      <td>-0.431725</td>\n",
       "      <td>-0.8521</td>\n",
       "      <td>1</td>\n",
       "    </tr>\n",
       "    <tr>\n",
       "      <th>12611</th>\n",
       "      <td>0.315809</td>\n",
       "      <td>0.916062</td>\n",
       "      <td>-0.197339</td>\n",
       "      <td>-0.233956</td>\n",
       "      <td>-0.350731</td>\n",
       "      <td>0.900416</td>\n",
       "      <td>0.4015</td>\n",
       "      <td>1</td>\n",
       "    </tr>\n",
       "    <tr>\n",
       "      <th>12612</th>\n",
       "      <td>0.193742</td>\n",
       "      <td>0.103723</td>\n",
       "      <td>-0.801700</td>\n",
       "      <td>0.558599</td>\n",
       "      <td>-0.350731</td>\n",
       "      <td>-0.119381</td>\n",
       "      <td>1.2092</td>\n",
       "      <td>1</td>\n",
       "    </tr>\n",
       "    <tr>\n",
       "      <th>12613</th>\n",
       "      <td>-0.934133</td>\n",
       "      <td>0.790795</td>\n",
       "      <td>-0.076966</td>\n",
       "      <td>-0.233956</td>\n",
       "      <td>-0.044594</td>\n",
       "      <td>0.538934</td>\n",
       "      <td>1.2092</td>\n",
       "      <td>1</td>\n",
       "    </tr>\n",
       "  </tbody>\n",
       "</table>\n",
       "<p>12614 rows × 8 columns</p>\n",
       "</div>"
      ],
      "text/plain": [
       "       credit_score    Tenure   Balance  num_of_products  isActiveMember  \\\n",
       "0          0.375643  1.000000  0.456421        -0.233956       -0.350731   \n",
       "1         -0.310779 -1.000000 -0.801700        -0.233956        0.649269   \n",
       "2         -0.398577 -1.000000 -0.301306         0.766044        0.649269   \n",
       "3         -0.191054  0.250000 -0.352725        -0.233956       -0.350731   \n",
       "4          0.750780  1.250000 -0.055742        -0.233956       -0.350731   \n",
       "...             ...       ...       ...              ...             ...   \n",
       "12609     -0.067315  0.115750 -0.801700         0.034544       -0.082231   \n",
       "12610      0.097759  0.349787  0.207728        -0.233956        0.182886   \n",
       "12611      0.315809  0.916062 -0.197339        -0.233956       -0.350731   \n",
       "12612      0.193742  0.103723 -0.801700         0.558599       -0.350731   \n",
       "12613     -0.934133  0.790795 -0.076966        -0.233956       -0.044594   \n",
       "\n",
       "       estimated_salary  age_cat  exited  \n",
       "0             -0.104782   0.4015       0  \n",
       "1             -0.175114  -0.8521       1  \n",
       "2             -0.041026   0.4015       0  \n",
       "3              0.886554  -0.8521       0  \n",
       "4             -0.263540   0.4015       0  \n",
       "...                 ...      ...     ...  \n",
       "12609         -0.693198   0.4015       1  \n",
       "12610         -0.431725  -0.8521       1  \n",
       "12611          0.900416   0.4015       1  \n",
       "12612         -0.119381   1.2092       1  \n",
       "12613          0.538934   1.2092       1  \n",
       "\n",
       "[12614 rows x 8 columns]"
      ]
     },
     "execution_count": 3,
     "metadata": {},
     "output_type": "execute_result"
    }
   ],
   "source": [
    "dados"
   ]
  },
  {
   "cell_type": "markdown",
   "id": "77ce9b8b",
   "metadata": {},
   "source": [
    "## 1.2.Funções de ajuda"
   ]
  },
  {
   "cell_type": "code",
   "execution_count": 4,
   "id": "c4e243f4",
   "metadata": {
    "ExecuteTime": {
     "end_time": "2022-09-26T15:44:29.223213Z",
     "start_time": "2022-09-26T15:44:27.369367Z"
    }
   },
   "outputs": [],
   "source": [
    "sys.path.append(os.path.abspath(os.path.join('modulos')))\n",
    "\n",
    "#Avaliar perfomance\n",
    "from models_performance import model_perfomance_class"
   ]
  },
  {
   "cell_type": "markdown",
   "id": "d36f8ea1",
   "metadata": {},
   "source": [
    "## 1.3.Previsoes com o modelo"
   ]
  },
  {
   "cell_type": "code",
   "execution_count": 5,
   "id": "63e38302",
   "metadata": {
    "ExecuteTime": {
     "end_time": "2022-09-26T15:44:29.239332Z",
     "start_time": "2022-09-26T15:44:29.226196Z"
    }
   },
   "outputs": [],
   "source": [
    "X = dados.drop('exited',axis=1)\n",
    "y = dados['exited']"
   ]
  },
  {
   "cell_type": "code",
   "execution_count": 6,
   "id": "e0303124",
   "metadata": {
    "ExecuteTime": {
     "end_time": "2022-09-26T15:44:29.548309Z",
     "start_time": "2022-09-26T15:44:29.243272Z"
    }
   },
   "outputs": [],
   "source": [
    "X_train, X_test, y_train,y_test = train_test_split(X,y,test_size=0.3,random_state=42)"
   ]
  },
  {
   "cell_type": "code",
   "execution_count": 7,
   "id": "a05aa6a9",
   "metadata": {
    "ExecuteTime": {
     "end_time": "2022-09-26T15:44:31.318890Z",
     "start_time": "2022-09-26T15:44:29.551291Z"
    },
    "scrolled": false
   },
   "outputs": [
    {
     "name": "stdout",
     "output_type": "stream",
     "text": [
      "Previsões erradas sobre o Total\n",
      "555 / 3785\n",
      "\n",
      "\n",
      "Accuracy: 85.34%\n",
      "Balacend Acurracy: 84.83%\n",
      "Kappa Score: 69.87%\n",
      "AUC: 0.8483\n",
      "\n",
      "               precision    recall  f1-score   support\n",
      "\n",
      "           0       0.87      0.88      0.87      2185\n",
      "           1       0.83      0.82      0.82      1600\n",
      "\n",
      "    accuracy                           0.85      3785\n",
      "   macro avg       0.85      0.85      0.85      3785\n",
      "weighted avg       0.85      0.85      0.85      3785\n",
      "\n"
     ]
    },
    {
     "data": {
      "image/png": "[encoded data removed]",
      "text/plain": [
       "<Figure size 600x600 with 2 Axes>"
      ]
     },
     "metadata": {},
     "output_type": "display_data"
    }
   ],
   "source": [
    "#Resultados\n",
    "results = modelo_random_forest.predict(X_test)\n",
    "model_perfomance_class(y_test,results,show=True)"
   ]
  },
  {
   "cell_type": "markdown",
   "id": "6aeae396",
   "metadata": {},
   "source": [
    "# 2.0.Interpretação do erro\n",
    "\n",
    "**Resultado:** Como os dados não possuem uma variável que representa o quanto o cliente vale para a empresa, fica inviável fazer analises mais aprofundadas do erro, pois nesses casos de classificação a comparação do erro e mais vinha gráfico mesmo, por isso vou me reter a apenas plotar um gráfico comparando o valor real vs previsto."
   ]
  },
  {
   "cell_type": "code",
   "execution_count": 8,
   "id": "6f6bff4f",
   "metadata": {
    "ExecuteTime": {
     "end_time": "2022-09-26T15:44:31.334892Z",
     "start_time": "2022-09-26T15:44:31.321894Z"
    }
   },
   "outputs": [],
   "source": [
    "df_test = X_test.copy()"
   ]
  },
  {
   "cell_type": "code",
   "execution_count": 9,
   "id": "6ec95a94",
   "metadata": {
    "ExecuteTime": {
     "end_time": "2022-09-26T15:44:31.682338Z",
     "start_time": "2022-09-26T15:44:31.338893Z"
    }
   },
   "outputs": [
    {
     "data": {
      "text/html": [
       "<div>\n",
       "<style scoped>\n",
       "    .dataframe tbody tr th:only-of-type {\n",
       "        vertical-align: middle;\n",
       "    }\n",
       "\n",
       "    .dataframe tbody tr th {\n",
       "        vertical-align: top;\n",
       "    }\n",
       "\n",
       "    .dataframe thead th {\n",
       "        text-align: right;\n",
       "    }\n",
       "</style>\n",
       "<table border=\"1\" class=\"dataframe\">\n",
       "  <thead>\n",
       "    <tr style=\"text-align: right;\">\n",
       "      <th></th>\n",
       "      <th>credit_score</th>\n",
       "      <th>Tenure</th>\n",
       "      <th>Balance</th>\n",
       "      <th>num_of_products</th>\n",
       "      <th>isActiveMember</th>\n",
       "      <th>estimated_salary</th>\n",
       "      <th>age_cat</th>\n",
       "      <th>exited_true</th>\n",
       "      <th>exited_predict</th>\n",
       "    </tr>\n",
       "  </thead>\n",
       "  <tbody>\n",
       "    <tr>\n",
       "      <th>6757</th>\n",
       "      <td>-0.403691</td>\n",
       "      <td>0.363509</td>\n",
       "      <td>-0.801700</td>\n",
       "      <td>0.766044</td>\n",
       "      <td>0.012778</td>\n",
       "      <td>0.002033</td>\n",
       "      <td>0.4015</td>\n",
       "      <td>0</td>\n",
       "      <td>0</td>\n",
       "    </tr>\n",
       "    <tr>\n",
       "      <th>12119</th>\n",
       "      <td>-0.248750</td>\n",
       "      <td>-0.481900</td>\n",
       "      <td>-0.801700</td>\n",
       "      <td>0.284144</td>\n",
       "      <td>0.131169</td>\n",
       "      <td>-0.176616</td>\n",
       "      <td>0.4015</td>\n",
       "      <td>1</td>\n",
       "      <td>1</td>\n",
       "    </tr>\n",
       "    <tr>\n",
       "      <th>5008</th>\n",
       "      <td>-0.119219</td>\n",
       "      <td>-1.000000</td>\n",
       "      <td>-0.148886</td>\n",
       "      <td>-0.233956</td>\n",
       "      <td>-0.350731</td>\n",
       "      <td>-0.637844</td>\n",
       "      <td>-0.8521</td>\n",
       "      <td>0</td>\n",
       "      <td>0</td>\n",
       "    </tr>\n",
       "  </tbody>\n",
       "</table>\n",
       "</div>"
      ],
      "text/plain": [
       "       credit_score    Tenure   Balance  num_of_products  isActiveMember  \\\n",
       "6757      -0.403691  0.363509 -0.801700         0.766044        0.012778   \n",
       "12119     -0.248750 -0.481900 -0.801700         0.284144        0.131169   \n",
       "5008      -0.119219 -1.000000 -0.148886        -0.233956       -0.350731   \n",
       "\n",
       "       estimated_salary  age_cat  exited_true  exited_predict  \n",
       "6757           0.002033   0.4015            0               0  \n",
       "12119         -0.176616   0.4015            1               1  \n",
       "5008          -0.637844  -0.8521            0               0  "
      ]
     },
     "execution_count": 9,
     "metadata": {},
     "output_type": "execute_result"
    }
   ],
   "source": [
    "df_test['exited_true'] = y_test\n",
    "df_test['exited_predict'] = results\n",
    "df_test.head(3)"
   ]
  },
  {
   "cell_type": "code",
   "execution_count": 10,
   "id": "aca7b56b",
   "metadata": {
    "ExecuteTime": {
     "end_time": "2022-09-26T15:44:32.501017Z",
     "start_time": "2022-09-26T15:44:31.688338Z"
    }
   },
   "outputs": [
    {
     "data": {
      "image/png": "[encoded data removed]",
      "text/plain": [
       "<Figure size 1500x1000 with 2 Axes>"
      ]
     },
     "metadata": {},
     "output_type": "display_data"
    }
   ],
   "source": [
    "#Valor verdadeiro\n",
    "plt.figure(figsize=(15,10))\n",
    "plt.subplot(2,2,1)\n",
    "fig = sns.countplot(df_test['exited_true'].map(lambda x: 'churn' if x == 1 else 'não churn'),palette='pastel')\n",
    "plt.title('Dados de teste dos clientes churn',fontsize=16,color='black')\n",
    "plt.xlabel('È churn?',fontsize=12,color='black')\n",
    "plt.ylabel('Qtd Clientes',fontsize=12,color='black')\n",
    "for p in fig.patches: #Data label, numeros em cima do grafico.\n",
    "        fig.annotate(f'\\n{p.get_height()}', (p.get_x()+0.4, p.get_height()), ha = 'center', color = 'black', size = 12)\n",
    "\n",
    "\n",
    "\n",
    "#Valor previsto\n",
    "plt.subplot(2,2,2)\n",
    "fig_ = sns.countplot(df_test['exited_predict'].map(lambda x: 'churn' if x == 1 else 'não churn'),palette='flare')\n",
    "plt.title('Dados de previsão dos clientes churn',fontsize=16,color='black')\n",
    "plt.xlabel('È churn?',fontsize=12,color='black')\n",
    "plt.ylabel('Qtd Clientes', fontsize=12,color='black')\n",
    "for p in fig_.patches: #Data label, numeros em cima do grafico.\n",
    "        fig_.annotate(f'\\n{p.get_height()}', (p.get_x()+0.4, p.get_height()), ha = 'center', color = 'black', size = 12)\n",
    "\n",
    "plt.show()"
   ]
  },
  {
   "cell_type": "code",
   "execution_count": 11,
   "id": "1a172296",
   "metadata": {
    "ExecuteTime": {
     "end_time": "2022-09-26T15:44:32.533018Z",
     "start_time": "2022-09-26T15:44:32.504017Z"
    }
   },
   "outputs": [
    {
     "data": {
      "text/plain": [
       "0    2185\n",
       "1    1600\n",
       "Name: exited_true, dtype: int64"
      ]
     },
     "execution_count": 11,
     "metadata": {},
     "output_type": "execute_result"
    }
   ],
   "source": [
    "#Confirmando o valor nos graficos\n",
    "df_test['exited_true'].value_counts()"
   ]
  },
  {
   "cell_type": "code",
   "execution_count": 12,
   "id": "8a2dc8d5",
   "metadata": {
    "ExecuteTime": {
     "end_time": "2022-09-26T15:44:32.644377Z",
     "start_time": "2022-09-26T15:44:32.536018Z"
    }
   },
   "outputs": [
    {
     "data": {
      "text/plain": [
       "0    2220\n",
       "1    1565\n",
       "Name: exited_predict, dtype: int64"
      ]
     },
     "execution_count": 12,
     "metadata": {},
     "output_type": "execute_result"
    }
   ],
   "source": [
    "df_test['exited_predict'].value_counts()"
   ]
  },
  {
   "cell_type": "markdown",
   "id": "2f89a2be",
   "metadata": {},
   "source": [
    "**O que foi feito nessa etapa?**\n",
    "- Interpretação do erro:\n",
    "    - Como já comentei na etapa anterior, a falta de uma feature de quanto o cliente vale para a empresa impende que eu faça uma análise de quanto a empresa vai ganhar ou perder caso siga minha solução.\n",
    "\n",
    "    - Por isso fiquei apenas nos gráficos de comparação entre o real e o previsto, claro que já poderíamos observar o quanto o modelo erra com a minha função de performance mais é bom deixar uma etapa para refletir o que a falta de dados faz em uma\n",
    "análise que poderia ser mais aprofundada.\n",
    "    \n",
    "**O que será feito na próxima etapa?**\n",
    "- Deploy do modelo e finalização:\n",
    "    - Como já explicado no arquivo PDS, o meu objetivo de criar um modelo com uma performance acima de 80% foi concluído, agora na próxima etapa eu criarei a class de deploy do modelo, como dito no pds o deploy não será feito o objetivo e criar a classe mesmo: ela possibilita o deploy do modelo em outro momento.\n",
    "    - Finalização do projeto será feita, também, conclusão e ultimas considerações.\n",
    "\n",
    "**Próxima etapa:**\n",
    "Deploy do modelo e finalização"
   ]
  }
 ],
 "metadata": {
  "kernelspec": {
   "display_name": "Python 3 (ipykernel)",
   "language": "python",
   "name": "python3"
  },
  "language_info": {
   "codemirror_mode": {
    "name": "ipython",
    "version": 3
   },
   "file_extension": ".py",
   "mimetype": "text/x-python",
   "name": "python",
   "nbconvert_exporter": "python",
   "pygments_lexer": "ipython3",
   "version": "3.10.4"
  },
  "toc": {
   "base_numbering": "0",
   "nav_menu": {},
   "number_sections": true,
   "sideBar": true,
   "skip_h1_title": false,
   "title_cell": "Table of Contents",
   "title_sidebar": "Contents",
   "toc_cell": false,
   "toc_position": {},
   "toc_section_display": true,
   "toc_window_display": false
  },
  "varInspector": {
   "cols": {
    "lenName": 16,
    "lenType": 16,
    "lenVar": 40
   },
   "kernels_config": {
    "python": {
     "delete_cmd_postfix": "",
     "delete_cmd_prefix": "del ",
     "library": "var_list.py",
     "varRefreshCmd": "print(var_dic_list())"
    },
    "r": {
     "delete_cmd_postfix": ") ",
     "delete_cmd_prefix": "rm(",
     "library": "var_list.r",
     "varRefreshCmd": "cat(var_dic_list()) "
    }
   },
   "types_to_exclude": [
    "module",
    "function",
    "builtin_function_or_method",
    "instance",
    "_Feature"
   ],
   "window_display": false
  }
 },
 "nbformat": 4,
 "nbformat_minor": 5
}
