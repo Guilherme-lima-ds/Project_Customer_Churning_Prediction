{
 "cells": [
  {
   "cell_type": "markdown",
   "id": "818b5ea4",
   "metadata": {},
   "source": [
    "# 0.0.Entendimento do projeto\n",
    "\n",
    "**Objetivo do projeto, como ele sera resolvido e muitas outras informações contidas no arquivo PDS(Plano de Solução).**\n",
    "\n",
    "\n",
    "**OBS:** Assim como fiz para separar as 5 primeiras etapas com as etapas de machine learning, farei o mesmo aqui, para não ter que ficar rodando todos os modelos, eu já salvei o melhor modelo e vou salvar dados selecionados."
   ]
  },
  {
   "cell_type": "markdown",
   "id": "92acd22b",
   "metadata": {},
   "source": [
    "# 1.0.Impots"
   ]
  },
  {
   "cell_type": "code",
   "execution_count": 1,
   "id": "1eb77291",
   "metadata": {
    "ExecuteTime": {
     "end_time": "2022-09-25T11:31:08.776211Z",
     "start_time": "2022-09-25T11:29:44.692271Z"
    }
   },
   "outputs": [],
   "source": [
    "#Manipulação de dados\n",
    "import pandas as pd\n",
    "import numpy as np\n",
    "import sys , os\n",
    "import joblib\n",
    "\n",
    "#Visualização de dados\n",
    "import matplotlib.pyplot as plt\n",
    "import seaborn as sns\n",
    "\n",
    "#Machine Learning Models\n",
    "from sklearn.model_selection import train_test_split\n",
    "\n",
    "#filterwarnings\n",
    "import warnings\n",
    "warnings.filterwarnings('ignore')\n",
    "\n",
    "#Show all columns\n",
    "pd.set_option('display.max_columns', None)"
   ]
  },
  {
   "cell_type": "markdown",
   "id": "a32411ea",
   "metadata": {},
   "source": [
    "## 1.1.Load Data and Model"
   ]
  },
  {
   "cell_type": "code",
   "execution_count": 2,
   "id": "72202c68",
   "metadata": {
    "ExecuteTime": {
     "end_time": "2022-09-25T11:31:22.162507Z",
     "start_time": "2022-09-25T11:31:08.781207Z"
    }
   },
   "outputs": [],
   "source": [
    "dados = pd.read_csv('datasets/dados_selecionados.csv').drop('Unnamed: 0',axis=1)\n",
    "modelo_random_forest = joblib.load('modelo/custumer_churn_random_forest_class.joblib')"
   ]
  },
  {
   "cell_type": "markdown",
   "id": "77ce9b8b",
   "metadata": {},
   "source": [
    "## 1.2.Funções de ajuda"
   ]
  },
  {
   "cell_type": "code",
   "execution_count": 3,
   "id": "c4e243f4",
   "metadata": {
    "ExecuteTime": {
     "end_time": "2022-09-25T11:31:22.978623Z",
     "start_time": "2022-09-25T11:31:22.165508Z"
    }
   },
   "outputs": [],
   "source": [
    "sys.path.append(os.path.abspath(os.path.join('modulos')))\n",
    "\n",
    "#Avaliar perfomance\n",
    "from models_performance import model_perfomance_class"
   ]
  },
  {
   "cell_type": "markdown",
   "id": "d36f8ea1",
   "metadata": {},
   "source": [
    "## 1.3.Previsoes com o modelo"
   ]
  },
  {
   "cell_type": "code",
   "execution_count": 4,
   "id": "63e38302",
   "metadata": {
    "ExecuteTime": {
     "end_time": "2022-09-25T11:31:22.993804Z",
     "start_time": "2022-09-25T11:31:22.981595Z"
    }
   },
   "outputs": [],
   "source": [
    "X = dados.drop('exited',axis=1)\n",
    "y = dados['exited']"
   ]
  },
  {
   "cell_type": "code",
   "execution_count": 5,
   "id": "e0303124",
   "metadata": {
    "ExecuteTime": {
     "end_time": "2022-09-25T11:31:23.279817Z",
     "start_time": "2022-09-25T11:31:22.998790Z"
    }
   },
   "outputs": [],
   "source": [
    "X_train, X_test, y_train,y_test = train_test_split(X,y,test_size=0.3,random_state=42)"
   ]
  },
  {
   "cell_type": "code",
   "execution_count": 6,
   "id": "a05aa6a9",
   "metadata": {
    "ExecuteTime": {
     "end_time": "2022-09-25T11:31:25.538407Z",
     "start_time": "2022-09-25T11:31:23.282813Z"
    },
    "scrolled": false
   },
   "outputs": [
    {
     "name": "stdout",
     "output_type": "stream",
     "text": [
      "Previsões erradas sobre o Total\n",
      "450 / 3605\n",
      "\n",
      "\n",
      "Accuracy: 87.52%\n",
      "Balacend Acurracy: 86.82%\n",
      "Kappa Score: 74.21%\n",
      "AUC: 0.8682\n",
      "\n",
      "               precision    recall  f1-score   support\n",
      "\n",
      "           0       0.88      0.91      0.89      2085\n",
      "           1       0.87      0.82      0.85      1520\n",
      "\n",
      "    accuracy                           0.88      3605\n",
      "   macro avg       0.87      0.87      0.87      3605\n",
      "weighted avg       0.88      0.88      0.87      3605\n",
      "\n"
     ]
    },
    {
     "data": {
      "image/png": "[encoded data removed]",
      "text/plain": [
       "<Figure size 600x600 with 2 Axes>"
      ]
     },
     "metadata": {},
     "output_type": "display_data"
    }
   ],
   "source": [
    "#Resultados\n",
    "results = modelo_random_forest.predict(X_test)\n",
    "model_perfomance_class(y_test,results,show=True)"
   ]
  },
  {
   "cell_type": "markdown",
   "id": "6aeae396",
   "metadata": {},
   "source": [
    "# 2.0.Interpretação do erro\n",
    "\n",
    "**Resultado:** Como os dados não possuem uma variável que representa o quanto o cliente vale para a empresa, fica inviável fazer analises mais aprofundadas do erro, pois nesses casos de classificação a comparação do erro e mais vinha gráfico mesmo, por isso vou me reter a apenas plotar um gráfico comparando o valor real vs previsto."
   ]
  },
  {
   "cell_type": "code",
   "execution_count": 7,
   "id": "6f6bff4f",
   "metadata": {
    "ExecuteTime": {
     "end_time": "2022-09-25T11:31:25.553402Z",
     "start_time": "2022-09-25T11:31:25.541408Z"
    }
   },
   "outputs": [],
   "source": [
    "df_test = X_test.copy()"
   ]
  },
  {
   "cell_type": "code",
   "execution_count": 13,
   "id": "6ec95a94",
   "metadata": {
    "ExecuteTime": {
     "end_time": "2022-09-25T11:32:59.315631Z",
     "start_time": "2022-09-25T11:32:59.295632Z"
    }
   },
   "outputs": [
    {
     "data": {
      "text/html": [
       "<div>\n",
       "<style scoped>\n",
       "    .dataframe tbody tr th:only-of-type {\n",
       "        vertical-align: middle;\n",
       "    }\n",
       "\n",
       "    .dataframe tbody tr th {\n",
       "        vertical-align: top;\n",
       "    }\n",
       "\n",
       "    .dataframe thead th {\n",
       "        text-align: right;\n",
       "    }\n",
       "</style>\n",
       "<table border=\"1\" class=\"dataframe\">\n",
       "  <thead>\n",
       "    <tr style=\"text-align: right;\">\n",
       "      <th></th>\n",
       "      <th>credit_score</th>\n",
       "      <th>Balance</th>\n",
       "      <th>num_of_products</th>\n",
       "      <th>isActiveMember</th>\n",
       "      <th>estimated_salary</th>\n",
       "      <th>age_cat</th>\n",
       "      <th>exited_true</th>\n",
       "      <th>exited_predict</th>\n",
       "    </tr>\n",
       "  </thead>\n",
       "  <tbody>\n",
       "    <tr>\n",
       "      <th>10333</th>\n",
       "      <td>-0.010423</td>\n",
       "      <td>-0.798963</td>\n",
       "      <td>1.703692</td>\n",
       "      <td>-0.279295</td>\n",
       "      <td>0.562914</td>\n",
       "      <td>0.4015</td>\n",
       "      <td>1</td>\n",
       "      <td>1</td>\n",
       "    </tr>\n",
       "    <tr>\n",
       "      <th>4532</th>\n",
       "      <td>0.195204</td>\n",
       "      <td>-0.010332</td>\n",
       "      <td>0.000000</td>\n",
       "      <td>0.720705</td>\n",
       "      <td>-0.223927</td>\n",
       "      <td>0.4015</td>\n",
       "      <td>0</td>\n",
       "      <td>0</td>\n",
       "    </tr>\n",
       "    <tr>\n",
       "      <th>9931</th>\n",
       "      <td>-0.064154</td>\n",
       "      <td>0.157581</td>\n",
       "      <td>0.424214</td>\n",
       "      <td>-0.279295</td>\n",
       "      <td>0.040877</td>\n",
       "      <td>0.4015</td>\n",
       "      <td>1</td>\n",
       "      <td>1</td>\n",
       "    </tr>\n",
       "  </tbody>\n",
       "</table>\n",
       "</div>"
      ],
      "text/plain": [
       "       credit_score   Balance  num_of_products  isActiveMember  \\\n",
       "10333     -0.010423 -0.798963         1.703692       -0.279295   \n",
       "4532       0.195204 -0.010332         0.000000        0.720705   \n",
       "9931      -0.064154  0.157581         0.424214       -0.279295   \n",
       "\n",
       "       estimated_salary  age_cat  exited_true  exited_predict  \n",
       "10333          0.562914   0.4015            1               1  \n",
       "4532          -0.223927   0.4015            0               0  \n",
       "9931           0.040877   0.4015            1               1  "
      ]
     },
     "execution_count": 13,
     "metadata": {},
     "output_type": "execute_result"
    }
   ],
   "source": [
    "df_test['exited_true'] = y_test\n",
    "df_test['exited_predict'] = results\n",
    "df_test.head(3)"
   ]
  },
  {
   "cell_type": "code",
   "execution_count": 44,
   "id": "aca7b56b",
   "metadata": {
    "ExecuteTime": {
     "end_time": "2022-09-25T11:48:24.326256Z",
     "start_time": "2022-09-25T11:48:23.999269Z"
    }
   },
   "outputs": [
    {
     "data": {
      "image/png": "[encoded data removed]",
      "text/plain": [
       "<Figure size 1500x1000 with 2 Axes>"
      ]
     },
     "metadata": {},
     "output_type": "display_data"
    }
   ],
   "source": [
    "#Valor verdadeiro\n",
    "plt.figure(figsize=(15,10))\n",
    "plt.subplot(2,2,1)\n",
    "fig = sns.countplot(df_test['exited_true'].map(lambda x: 'churn' if x == 1 else 'não churn'),palette='pastel')\n",
    "plt.title('Dados de teste dos clientes churn',fontsize=16,color='black')\n",
    "plt.xlabel('È churn?',fontsize=12,color='black')\n",
    "plt.ylabel('Qtd Clientes',fontsize=12,color='black')\n",
    "for p in fig.patches: #Data label, numeros em cima do grafico.\n",
    "        fig.annotate(f'\\n{p.get_height()}', (p.get_x()+0.4, p.get_height()), ha = 'center', color = 'black', size = 12)\n",
    "\n",
    "\n",
    "\n",
    "#Valor previsto\n",
    "plt.subplot(2,2,2)\n",
    "fig_ = sns.countplot(df_test['exited_predict'].map(lambda x: 'churn' if x == 1 else 'não churn'),palette='flare')\n",
    "plt.title('Dados de previsão dos clientes churn',fontsize=16,color='black')\n",
    "plt.xlabel('È churn?',fontsize=12,color='black')\n",
    "plt.ylabel('Qtd Clientes', fontsize=12,color='black')\n",
    "for p in fig_.patches: #Data label, numeros em cima do grafico.\n",
    "        fig_.annotate(f'\\n{p.get_height()}', (p.get_x()+0.4, p.get_height()), ha = 'center', color = 'black', size = 12)\n",
    "\n",
    "plt.show()"
   ]
  },
  {
   "cell_type": "code",
   "execution_count": 54,
   "id": "1a172296",
   "metadata": {
    "ExecuteTime": {
     "end_time": "2022-09-25T11:50:24.812443Z",
     "start_time": "2022-09-25T11:50:24.799443Z"
    }
   },
   "outputs": [
    {
     "data": {
      "text/plain": [
       "0    2085\n",
       "1    1520\n",
       "Name: exited_true, dtype: int64"
      ]
     },
     "execution_count": 54,
     "metadata": {},
     "output_type": "execute_result"
    }
   ],
   "source": [
    "#Confirmando o valor nos graficos\n",
    "df_test['exited_true'].value_counts()"
   ]
  },
  {
   "cell_type": "code",
   "execution_count": 55,
   "id": "8a2dc8d5",
   "metadata": {
    "ExecuteTime": {
     "end_time": "2022-09-25T11:50:24.986361Z",
     "start_time": "2022-09-25T11:50:24.975362Z"
    }
   },
   "outputs": [
    {
     "data": {
      "text/plain": [
       "0    2171\n",
       "1    1434\n",
       "Name: exited_predict, dtype: int64"
      ]
     },
     "execution_count": 55,
     "metadata": {},
     "output_type": "execute_result"
    }
   ],
   "source": [
    "df_test['exited_predict'].value_counts()"
   ]
  },
  {
   "cell_type": "markdown",
   "id": "2f89a2be",
   "metadata": {},
   "source": [
    "**O que foi feito nessa etapa?**\n",
    "- Interpretação do erro:\n",
    "    - Como já comentei na etapa anterior, a falta de uma feature de quanto o cliente vale para a empresa impende que eu faça uma análise de quanto a empresa vai ganhar ou perder caso siga minha solução.\n",
    "\n",
    "    - Por isso fiquei apenas nos gráficos de comparação entre o real e o previsto, claro que já poderíamos observar o quanto o modelo erra com a minha função de performance mais é bom deixar uma etapa para refletir o que a falta de dados faz em uma\n",
    "análise que poderia ser mais aprofundada.\n",
    "    \n",
    "**O que será feito na próxima etapa?**\n",
    "- Deploy do modelo e finalização:\n",
    "    - Como já explicado no arquivo PDS, o meu objetivo de criar um modelo com uma performance acima de 80% foi concluído, agora na próxima etapa eu criarei a class de deploy do modelo, como dito no pds o deploy não será feito o objetivo e criar a classe mesmo: ela possibilita o deploy do modelo em outro momento.\n",
    "    - Finalização do projeto será feita, também, conclusão e ultimas considerações.\n",
    "\n",
    "**Próxima etapa:**\n",
    "Deploy do modelo e finalização"
   ]
  }
 ],
 "metadata": {
  "kernelspec": {
   "display_name": "Python 3 (ipykernel)",
   "language": "python",
   "name": "python3"
  },
  "language_info": {
   "codemirror_mode": {
    "name": "ipython",
    "version": 3
   },
   "file_extension": ".py",
   "mimetype": "text/x-python",
   "name": "python",
   "nbconvert_exporter": "python",
   "pygments_lexer": "ipython3",
   "version": "3.10.4"
  },
  "toc": {
   "base_numbering": "0",
   "nav_menu": {},
   "number_sections": true,
   "sideBar": true,
   "skip_h1_title": false,
   "title_cell": "Table of Contents",
   "title_sidebar": "Contents",
   "toc_cell": false,
   "toc_position": {},
   "toc_section_display": true,
   "toc_window_display": false
  },
  "varInspector": {
   "cols": {
    "lenName": 16,
    "lenType": 16,
    "lenVar": 40
   },
   "kernels_config": {
    "python": {
     "delete_cmd_postfix": "",
     "delete_cmd_prefix": "del ",
     "library": "var_list.py",
     "varRefreshCmd": "print(var_dic_list())"
    },
    "r": {
     "delete_cmd_postfix": ") ",
     "delete_cmd_prefix": "rm(",
     "library": "var_list.r",
     "varRefreshCmd": "cat(var_dic_list()) "
    }
   },
   "types_to_exclude": [
    "module",
    "function",
    "builtin_function_or_method",
    "instance",
    "_Feature"
   ],
   "window_display": false
  }
 },
 "nbformat": 4,
 "nbformat_minor": 5
}
